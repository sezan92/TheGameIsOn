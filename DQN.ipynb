{
 "cells": [
  {
   "cell_type": "markdown",
   "metadata": {},
   "source": [
    "# The Game, is On!: The DQN Trilogy"
   ]
  },
  {
   "cell_type": "markdown",
   "metadata": {},
   "source": [
    "#### First, I have to give the proper credit to ***Udacity*** for making their ***Reinforcement Learning Nanodegree*** files open source in github. I used many of their codes"
   ]
  },
  {
   "cell_type": "markdown",
   "metadata": {},
   "source": [
    "Hello! In this blog , I am trying to work on ***Deep Q Network***, ***Double Deep Q Network*** and ***Duelling Double Deep Q Network***! "
   ]
  },
  {
   "cell_type": "markdown",
   "metadata": {},
   "source": [
    "### Index"
   ]
  },
  {
   "cell_type": "markdown",
   "metadata": {},
   "source": [
    "- [Background](#background)\n",
    "- [Bellman Update Equation](#bellman)\n",
    "- [The Game](#game)\n",
    "- [DQN](#dqn)\n",
    "- [Base Q Network Class](#QNetwork)\n",
    "- [Agent](#agent)\n",
    "- [ReplayBuffer](#replaybuffer)\n",
    "- [Learn Method](#dqn_learn)\n",
    "- [Debugging RL](#debug)\n",
    "- [Visualization function](#vis)\n",
    "- [DQN learning process](#learning-process)\n",
    "- [DQN with target network](#dqn_with_target)"
   ]
  },
  {
   "cell_type": "markdown",
   "metadata": {},
   "source": [
    "### Prerequisites"
   ]
  },
  {
   "cell_type": "markdown",
   "metadata": {},
   "source": [
    "To learn from this blog, some prerequisite knowledges are required"
   ]
  },
  {
   "cell_type": "markdown",
   "metadata": {},
   "source": [
    "- Q learning. If you dont have intuition about Q learning , no problem. Look at this [prequel](https://sezan92.github.io/2020/03/18/QLearning.html)!\n",
    "- Deep Learning basics\n"
   ]
  },
  {
   "cell_type": "markdown",
   "metadata": {},
   "source": [
    "Lets start!!"
   ]
  },
  {
   "cell_type": "markdown",
   "metadata": {},
   "source": [
    "<a id=\"background\"></a>\n",
    "### BackGround"
   ]
  },
  {
   "cell_type": "markdown",
   "metadata": {},
   "source": [
    "Before starting full coding, let's get a background check"
   ]
  },
  {
   "cell_type": "markdown",
   "metadata": {},
   "source": [
    "#### The problem of Q Learning"
   ]
  },
  {
   "cell_type": "markdown",
   "metadata": {},
   "source": [
    "The biggest problem with Q-learning is that,it only takes discrete inputs and gives discrete values as outputs. In the Mountain Car problem, we solved this issue by discretizing states which are actually continuous. But this can't be done always. Specially when the states are multidimensional states or images. Deep learning comes here to solve this problem!"
   ]
  },
  {
   "cell_type": "markdown",
   "metadata": {},
   "source": [
    "For example, breakout game by atari"
   ]
  },
  {
   "cell_type": "markdown",
   "metadata": {},
   "source": [
    "![](Atari-breakout.jpg)"
   ]
  },
  {
   "cell_type": "markdown",
   "metadata": {},
   "source": [
    "Here , the states are the actual image itself! It is 210x160x3 size RGB numpy array. How will you make discrete for $Q learning$ ? Will that be efficient ? ***NO***! . DQN comes us to save us!"
   ]
  },
  {
   "cell_type": "markdown",
   "metadata": {},
   "source": [
    "So, we will replace the Q table explained in the last tutorial with a Neural Network. i.e. some thing like the following picture"
   ]
  },
  {
   "cell_type": "markdown",
   "metadata": {},
   "source": [
    "![](Q2DQN.png)"
   ]
  },
  {
   "cell_type": "markdown",
   "metadata": {},
   "source": [
    "***But there is one little problem!***"
   ]
  },
  {
   "cell_type": "markdown",
   "metadata": {},
   "source": [
    "In our mountain car problem, we have three discrete actions. $0,1 & 2$ . Using the above architecture, we will have to calculate $Q$ value for each action . Because , you need to take the action with best $Q$ value. To get the action of the best $Q$ value, you need to know the $Q(state,action)$ for each state! So in our case, we will have to run same feed forward process three times!"
   ]
  },
  {
   "cell_type": "raw",
   "metadata": {},
   "source": [
    "action_list =[0,1,2]\n",
    "Q1 = QNetwork(state,action_list[0])\n",
    "Q2 = QNetwork(state,action_list[1])\n",
    "Q3 = QNetwork(state,action_list[2])"
   ]
  },
  {
   "cell_type": "markdown",
   "metadata": {},
   "source": [
    "What if we have more 100 actions ? Will we feed forward 100 times! It is a bit inefficient!! Instead, we will use the following architecture."
   ]
  },
  {
   "cell_type": "markdown",
   "metadata": {},
   "source": [
    "![](NewDQN.png)"
   ]
  },
  {
   "cell_type": "markdown",
   "metadata": {},
   "source": [
    "Meaning, our output layer will calculate $Q$ value for each action. As a result we can calculate Q values in one single forward pass each step! And then we will choose the action with maximum value"
   ]
  },
  {
   "cell_type": "raw",
   "metadata": {},
   "source": [
    "action = argmax(Q(state))"
   ]
  },
  {
   "cell_type": "markdown",
   "metadata": {},
   "source": [
    "<a id=\"bellman\"></a>\n",
    "#### Bellman Update Equation"
   ]
  },
  {
   "cell_type": "markdown",
   "metadata": {},
   "source": [
    "In the Original Equation, the bellman update equation is \n",
    "\\begin{equation}\n",
    "Q(s_t,a) = Q(s_t,a) + \\alpha (r+\\gamma max_a(Q(s_{t+1},a))-Q(s_t,a_t))\n",
    "\\end{equation}"
   ]
  },
  {
   "cell_type": "markdown",
   "metadata": {},
   "source": [
    "For DQN, we will use similar equation, using Gradient descent\n",
    "\\begin{equation}\n",
    "\\theta_Q \\gets \\theta_Q - \\alpha \\frac{\\partial}{\\partial \\theta}(r+ \\gamma max_a(Q_{\\theta}(s_{t+1},a))-Q_{\\theta}(s_t,a))^2\n",
    "\\end{equation}"
   ]
  },
  {
   "cell_type": "markdown",
   "metadata": {},
   "source": [
    "Here $\\theta$ means weights and $Q_{\\theta}$ means QNetwork model with weights $\\theta$"
   ]
  },
  {
   "cell_type": "markdown",
   "metadata": {},
   "source": [
    "If you are intelligent enough, then you may ask , why there is a squared part in the gradient descent equation but not in the actual bellman update equation? The reason might be, Mean squared errors are more sensitive to sudden spikes in the target data, which makes it most popular metric for regression models!"
   ]
  },
  {
   "cell_type": "markdown",
   "metadata": {},
   "source": [
    "#### The Concept of Experience Replay"
   ]
  },
  {
   "cell_type": "markdown",
   "metadata": {},
   "source": [
    "One of the problems in Reinforcment learning is relearning Problem. That is , suppose, in the course of trial and error, one state $s_t$ comes only once or twice, and never comes back. What will happen? There is a chance that the Agent will forget that experience after some time- like us! . So we need to make the agent keep some kind of track of that memory as well. This problem was solved in 1993- yes 26 years ago- by Long Ji lin. In his paper, ***Reinforcement Learning for Robots Using Neural Networks*** , he introduced the concept of Experience Replay. What he did was, he initialized a buffer of a certain size . He stored the experiences of the agent, i.e. state $s_t$, action $a$,next state $s_{t+1}$, reward $r$ . Before training the agent, he you just sample randomly from the buffer . It also helps randomizing the data , which in turn, helps to converge the model faster, as mentioned by Yoshua Bengio in his paper ***Practical Recommendations for Gradient-Based Training of Deep\n",
    "Architectures***,2012 "
   ]
  },
  {
   "cell_type": "markdown",
   "metadata": {},
   "source": [
    "#### The concept of $\\epsilon$-greedy Policy"
   ]
  },
  {
   "cell_type": "markdown",
   "metadata": {},
   "source": [
    "In the beginning of training, we will have to explore random actions. Because we dont know the value of each action for each state. So we will take some random actions. We will evaluate those actions and see which random action gives us the most rewards. We will try to increase those actions. It means, at first you just ***explore*** different actions , the more you take actions the less you explore and more use your previouse experience to guide you-known as ***exploit***.  This thing can be done using a technique -with another freaking out name- $\\epsilon$-greedy policy. "
   ]
  },
  {
   "cell_type": "markdown",
   "metadata": {},
   "source": [
    "The big idea is that, we will select a value of $\\epsilon$ , suppose $0.9$. Then we will generate a random floating point number . If the generated number is greater than $\\epsilon$ we will take action according to the DQN, otherwise a random action. After each episode , we will decrease the value of $\\epsilon$ . As a result , in the last episodes, the agent will take actions according to DQN model, not the random actions."
   ]
  },
  {
   "cell_type": "markdown",
   "metadata": {},
   "source": [
    "- Set $\\epsilon$\n",
    "- Generate random number $n_{rand}$\n",
    "- if $n_{rand} < \\epsilon$ ***do***\n",
    "- - take random action\n",
    "- else ***do***\n",
    "- - take action according to DQN"
   ]
  },
  {
   "cell_type": "markdown",
   "metadata": {},
   "source": [
    "***Lets play the game!***"
   ]
  },
  {
   "cell_type": "markdown",
   "metadata": {},
   "source": [
    "<a id=\"game\"></a>\n",
    "## The Game"
   ]
  },
  {
   "cell_type": "markdown",
   "metadata": {},
   "source": [
    "For this blog I will be solving ***Lunarlander*** environment in ```open ai gym``` "
   ]
  },
  {
   "cell_type": "markdown",
   "metadata": {},
   "source": [
    "![](poster.jpg)"
   ]
  },
  {
   "cell_type": "markdown",
   "metadata": {},
   "source": [
    "The goal is to land the ship in between the two flags properly."
   ]
  },
  {
   "cell_type": "markdown",
   "metadata": {},
   "source": [
    "From the gym open ai page, \n",
    "***Landing pad is always at coordinates (0,0). Coordinates are the first two numbers in state vector. Reward for moving from the top of the screen to landing pad and zero speed is about 100..140 points. If lander moves away from landing pad it loses reward back. Episode finishes if the lander crashes or comes to rest, receiving additional -100 or +100 points. Each leg ground contact is +10. Firing main engine is -0.3 points each frame. Solved is 200 points. Landing outside landing pad is possible. Fuel is infinite, so an agent can learn to fly and then land on its first attempt. Four discrete actions available: do nothing, fire left orientation engine, fire main engine, fire right orientation engine.***"
   ]
  },
  {
   "cell_type": "markdown",
   "metadata": {},
   "source": [
    "- 0 do nothing\n",
    "- 1 fire left orientation engine\n",
    "- 2 fire main engine\n",
    "- 3 fire right orientation engine"
   ]
  },
  {
   "cell_type": "markdown",
   "metadata": {},
   "source": [
    "<a id=\"package\"></a>\n",
    "### Importing packages"
   ]
  },
  {
   "cell_type": "code",
   "execution_count": 1,
   "metadata": {},
   "outputs": [],
   "source": [
    "import gym\n",
    "import random\n",
    "import numpy as np\n",
    "from collections import namedtuple, deque\n",
    "import matplotlib.pyplot as plt\n",
    "import torch\n",
    "import torch.nn.functional as F\n",
    "from torch import nn\n",
    "import torch.optim as optim\n",
    "%matplotlib inline"
   ]
  },
  {
   "cell_type": "markdown",
   "metadata": {},
   "source": [
    "Initiating gym environment"
   ]
  },
  {
   "cell_type": "code",
   "execution_count": 2,
   "metadata": {},
   "outputs": [
    {
     "name": "stdout",
     "output_type": "stream",
     "text": [
      "State shape:  (8,)\n",
      "Number of actions:  4\n"
     ]
    },
    {
     "name": "stderr",
     "output_type": "stream",
     "text": [
      "/floyd/home/gym/gym/logger.py:30: UserWarning: \u001b[33mWARN: Box bound precision lowered by casting to float32\u001b[0m\n",
      "  warnings.warn(colorize('%s: %s'%('WARN', msg % args), 'yellow'))\n"
     ]
    }
   ],
   "source": [
    "env = gym.make('LunarLander-v2')\n",
    "env.seed(0)\n",
    "print('State shape: ', env.observation_space.shape)\n",
    "print('Number of actions: ', env.action_space.n)"
   ]
  },
  {
   "cell_type": "markdown",
   "metadata": {},
   "source": [
    "saving ```state_shape``` and ```actions_shape```"
   ]
  },
  {
   "cell_type": "code",
   "execution_count": 3,
   "metadata": {},
   "outputs": [],
   "source": [
    "state_shape= env.observation_space.shape[0]\n",
    "action_size= env.action_space.n"
   ]
  },
  {
   "cell_type": "markdown",
   "metadata": {},
   "source": [
    "<a id=\"dqn\"></a>\n",
    "## DQN"
   ]
  },
  {
   "cell_type": "markdown",
   "metadata": {},
   "source": [
    "<a id=\"QNetwork\"></a>\n",
    "### Q Network class "
   ]
  },
  {
   "cell_type": "markdown",
   "metadata": {},
   "source": [
    "Here , throughout the blog we will use same network named ```QNetwork``` . Well, not 100% . In duelling dqn we will make slight change! But thats for later! I am defining a model with 2 hidden layers, with relu activation. The final output is linear output same as action size"
   ]
  },
  {
   "cell_type": "code",
   "execution_count": 4,
   "metadata": {},
   "outputs": [],
   "source": [
    "class QNetwork(nn.Module):\n",
    "    \"\"\"Actor (Policy) Model.\"\"\"\n",
    "\n",
    "    def __init__(self, state_size, action_size, seed, fc1_units=150, fc2_units=120):\n",
    "        \"\"\"Initialize parameters and build model.\n",
    "        Params\n",
    "        ======\n",
    "            state_size (int): Dimension of each state\n",
    "            action_size (int): Dimension of each action\n",
    "            seed (int): Random seed\n",
    "            fc1_units (int): Number of nodes in first hidden layer\n",
    "            fc2_units (int): Number of nodes in second hidden layer\n",
    "        \"\"\"\n",
    "        super(QNetwork, self).__init__()\n",
    "        self.seed = torch.manual_seed(seed)\n",
    "        self.fc1 = nn.Linear(state_size, fc1_units)\n",
    "        self.fc2 = nn.Linear(fc1_units, fc2_units)\n",
    "        self.final = nn.Linear(fc2_units, action_size)\n",
    "\n",
    "    def forward(self, state):\n",
    "        \"\"\"Build a network that maps state -> action values.\"\"\"\n",
    "        x = F.relu(self.fc1(state))\n",
    "        x = F.relu(self.fc2(x))\n",
    "        return self.final(x)\n"
   ]
  },
  {
   "cell_type": "markdown",
   "metadata": {},
   "source": [
    "<a id=\"agent\"></a>\n",
    "### Agent"
   ]
  },
  {
   "cell_type": "markdown",
   "metadata": {},
   "source": [
    "Notice , I didnt define the methods ``` __init__ , step , act and learn ``` . I will define them later and add them to the same agent"
   ]
  },
  {
   "cell_type": "code",
   "execution_count": 5,
   "metadata": {},
   "outputs": [],
   "source": [
    "device = torch.device(\"cuda:0\" if torch.cuda.is_available() else \"cpu\")\n",
    "class Agent():\n",
    "    \"\"\"Interacts with and learns from the environment.\"\"\"\n",
    "\n",
    "    def __init__(self, state_size, action_size, seed):\n",
    "        pass\n",
    "    \n",
    "    def step(self, state, action, reward, next_state, done):\n",
    "        pass\n",
    "    def act(self, state, eps=0.):\n",
    "        pass\n",
    "    def learn(self):\n",
    "        pass"
   ]
  },
  {
   "cell_type": "markdown",
   "metadata": {},
   "source": [
    "<a id=\"replaybuffer\"></a>\n",
    "### Replaybuffer "
   ]
  },
  {
   "cell_type": "markdown",
   "metadata": {},
   "source": [
    "Let's first declare a class of Replaybuffer. I used ***Udacity RL*** ```ReplayBuffer``` class"
   ]
  },
  {
   "cell_type": "code",
   "execution_count": 6,
   "metadata": {},
   "outputs": [],
   "source": [
    "class ReplayBuffer:\n",
    "    \"\"\"Fixed-size buffer to store experience tuples.\"\"\"\n",
    "\n",
    "    def __init__(self, action_size, buffer_size, batch_size, seed):\n",
    "        \"\"\"Initialize a ReplayBuffer object.\n",
    "\n",
    "        Params\n",
    "        ======\n",
    "            action_size (int): dimension of each action\n",
    "            buffer_size (int): maximum size of buffer\n",
    "            batch_size (int): size of each training batch\n",
    "            seed (int): random seed\n",
    "        \"\"\"\n",
    "        self.action_size = action_size\n",
    "        self.memory = deque(maxlen=buffer_size)  \n",
    "        self.batch_size = batch_size\n",
    "        self.experience = namedtuple(\"Experience\", field_names=[\"state\", \"action\", \"reward\", \"next_state\", \"done\"])\n",
    "        self.seed = random.seed(seed)\n",
    "    \n",
    "    def add(self, state, action, reward, next_state, done):\n",
    "        \"\"\"Add a new experience to memory.\"\"\"\n",
    "        e = self.experience(state, action, reward, next_state, done)\n",
    "        self.memory.append(e)\n",
    "    \n",
    "    def sample(self):\n",
    "        \"\"\"Randomly sample a batch of experiences from memory.\"\"\"\n",
    "        experiences = random.sample(self.memory, k=self.batch_size)\n",
    "\n",
    "        states = torch.from_numpy(np.vstack([e.state for e in experiences if e is not None])).float().to(device)\n",
    "        actions = torch.from_numpy(np.vstack([e.action for e in experiences if e is not None])).long().to(device)\n",
    "        rewards = torch.from_numpy(np.vstack([e.reward for e in experiences if e is not None])).float().to(device)\n",
    "        next_states = torch.from_numpy(np.vstack([e.next_state for e in experiences if e is not None])).float().to(device)\n",
    "        dones = torch.from_numpy(np.vstack([e.done for e in experiences if e is not None]).astype(np.uint8)).float().to(device)\n",
    "  \n",
    "        return (states, actions, rewards, next_states, dones)\n",
    "\n",
    "    def __len__(self):\n",
    "        \"\"\"Return the current size of internal memory.\"\"\"\n",
    "        return len(self.memory)"
   ]
  },
  {
   "cell_type": "markdown",
   "metadata": {},
   "source": [
    "Let's make ```__init__``` method for the ```Agent``` class"
   ]
  },
  {
   "cell_type": "code",
   "execution_count": 7,
   "metadata": {},
   "outputs": [],
   "source": [
    "def __init__(self, state_size, action_size, seed):\n",
    "    \"\"\"Initialize an Agent object.\n",
    "\n",
    "    Params\n",
    "    ======\n",
    "        state_size (int): dimension of each state\n",
    "        action_size (int): dimension of each action\n",
    "        seed (int): random seed\n",
    "    \"\"\"\n",
    "    self.state_size = state_size\n",
    "    self.action_size = action_size\n",
    "    self.seed = random.seed(seed)\n",
    "\n",
    "    # Q-Network\n",
    "    self.qnetwork_local = QNetwork(state_size, action_size, seed).to(device)\n",
    "    self.optimizer = optim.Adam(self.qnetwork_local.parameters(), lr=LR)\n",
    "\n",
    "    # Replay memory\n",
    "    self.memory = ReplayBuffer(action_size, BUFFER_SIZE, BATCH_SIZE, seed)\n",
    "    # Initialize time step (for updating every UPDATE_EVERY steps)\n",
    "    self.t_step = 0\n",
    "    self.criterion=nn.MSELoss()"
   ]
  },
  {
   "cell_type": "code",
   "execution_count": 8,
   "metadata": {},
   "outputs": [],
   "source": [
    "Agent.__init__=__init__"
   ]
  },
  {
   "cell_type": "markdown",
   "metadata": {},
   "source": [
    "Now the ```act``` method. "
   ]
  },
  {
   "cell_type": "code",
   "execution_count": 9,
   "metadata": {},
   "outputs": [],
   "source": [
    "def act(self, state, eps=0.):\n",
    "    \"\"\"Returns actions for given state as per current policy.\n",
    "\n",
    "    Params\n",
    "    ======\n",
    "        state (array_like): current state\n",
    "        eps (float): epsilon, for epsilon-greedy action selection\n",
    "    \"\"\"\n",
    "    state = torch.from_numpy(state).float().unsqueeze(0).to(device)\n",
    "    self.qnetwork_local.eval()\n",
    "    with torch.no_grad():\n",
    "        action_values = self.qnetwork_local(state)\n",
    "    self.qnetwork_local.train()\n",
    "\n",
    "    # Epsilon-greedy action selection\n",
    "    if random.random() > eps:\n",
    "        return np.argmax(action_values.cpu().data.numpy())\n",
    "    else:\n",
    "        return random.choice(np.arange(self.action_size))"
   ]
  },
  {
   "cell_type": "code",
   "execution_count": 10,
   "metadata": {},
   "outputs": [],
   "source": [
    "Agent.act=act"
   ]
  },
  {
   "cell_type": "markdown",
   "metadata": {},
   "source": [
    "And the ```step``` method"
   ]
  },
  {
   "cell_type": "code",
   "execution_count": 11,
   "metadata": {},
   "outputs": [],
   "source": [
    "def step(self, state, action, reward, next_state, done):\n",
    "    # Save experience in replay memory\n",
    "    self.memory.add(state, action, reward, next_state, done)\n",
    "\n",
    "    # Learn every UPDATE_EVERY time steps.\n",
    "    self.t_step = (self.t_step + 1) % UPDATE_EVERY\n",
    "    if self.t_step == 0:\n",
    "        # If enough samples are available in memory, get random subset and learn\n",
    "        if len(self.memory) > BATCH_SIZE:\n",
    "            experiences = self.memory.sample()\n",
    "            self.learn(experiences, GAMMA)"
   ]
  },
  {
   "cell_type": "code",
   "execution_count": 12,
   "metadata": {},
   "outputs": [],
   "source": [
    "Agent.step=step"
   ]
  },
  {
   "cell_type": "markdown",
   "metadata": {},
   "source": [
    "***The ``` __init__```,```act``` and ```step``` methods are exactly as Udacity RL nanodegrees github repository coded. I only changed in the ```learn``` method***"
   ]
  },
  {
   "cell_type": "markdown",
   "metadata": {},
   "source": [
    "<a id=\"dqn_learn\"></a>\n",
    "The ```learn``` method"
   ]
  },
  {
   "cell_type": "code",
   "execution_count": 13,
   "metadata": {},
   "outputs": [],
   "source": [
    "def learn(self, experiences, gamma):\n",
    "    \"\"\"Update value parameters using given batch of experience tuples.\n",
    "\n",
    "    Params\n",
    "    ======\n",
    "        experiences (Tuple[torch.Tensor]): tuple of (s, a, r, s', done) tuples \n",
    "        gamma (float): discount factor\n",
    "    \"\"\"\n",
    "    states, actions, rewards, next_states, dones = experiences\n",
    "\n",
    "\n",
    "    \"*** YOUR CODE HERE ***\"\n",
    "    ### My code starts###\n",
    "    maxQ1=torch.max(self.qnetwork_local(next_states),0)[0]\n",
    "    maxQ2=torch.max(self.qnetwork_local(next_states),1)[0]\n",
    "    maxQ=maxQ2.reshape(-1,1)\n",
    "\n",
    "\n",
    "    y=rewards+gamma*torch.max(maxQ,1)[0]*(1-dones)\n",
    "\n",
    "    loss=F.mse_loss(y,self.qnetwork_local(states).gather(1,actions))\n",
    "    self.optimizer.zero_grad()\n",
    "    loss.backward()\n",
    "    self.optimizer.step()\n",
    "    ### My code ends ####\n",
    "\n",
    "\n",
    "    "
   ]
  },
  {
   "cell_type": "code",
   "execution_count": 14,
   "metadata": {},
   "outputs": [],
   "source": [
    "Agent.learn=learn"
   ]
  },
  {
   "cell_type": "markdown",
   "metadata": {},
   "source": [
    "So my input is basically from lines ```14-24```. And to be brutally honest , I will have to change mostly these lines for other algorithms as well!"
   ]
  },
  {
   "cell_type": "raw",
   "metadata": {},
   "source": [
    "maxQ1=torch.max(self.qnetwork_local(next_states),0)[0]\n",
    "maxQ2=torch.max(self.qnetwork_local(next_states),1)[0]\n",
    "maxQ=maxQ2.reshape(-1,1)\n",
    "\n",
    "\n",
    "y=rewards+gamma*torch.max(maxQ,1)[0]*(1-dones) # belman equation\n",
    "\n",
    "loss=F.mse_loss(y,self.qnetwork_local(states).gather(1,actions)) #bellman update equation\n",
    "self.optimizer.zero_grad() # gradient descent\n",
    "loss.backward()\n",
    "self.optimizer.step()"
   ]
  },
  {
   "cell_type": "markdown",
   "metadata": {},
   "source": [
    "### Wait a minute!"
   ]
  },
  {
   "cell_type": "markdown",
   "metadata": {},
   "source": [
    "Before starting to training , we should devise a way to debug our learning process! i.e. , we have to make sure our model is really good at approximating values of each state-action pair! Obviously, one can say, by looking at the fool training process or the game itself! But not always games can be visulalized -like i am using cloud gpu where visualizing the game is difficult! We need a method by some kind of scores to get the intuition that our model is really worlking! but ***How to do that?***"
   ]
  },
  {
   "cell_type": "markdown",
   "metadata": {},
   "source": [
    "So we have to know a little about expected reward return function!"
   ]
  },
  {
   "cell_type": "markdown",
   "metadata": {},
   "source": [
    "#### Expected Return and Value functions"
   ]
  },
  {
   "cell_type": "markdown",
   "metadata": {},
   "source": [
    "In summary, expected return is the sum of all future rewards, we denote it as $G_t$"
   ]
  },
  {
   "cell_type": "markdown",
   "metadata": {},
   "source": [
    "\\begin{equation}\n",
    "G_t = R_{t+1}+R_{t+2}+R_{t+3}+.........R_T\n",
    "\\end{equation}\n",
    "\\begin{equation}\n",
    "G_t = \\sum\\limits_{k=t+1}^{T} R_k\n",
    "\\end{equation}"
   ]
  },
  {
   "cell_type": "markdown",
   "metadata": {},
   "source": [
    "But we will use, discount factor $\\gamma$ , why? Because, for many games we might be more interested in immediate rewards than the reward 1000 steps after . Also there might be other factors after 100 timesteps like ***stock market*** ,which will lead us to focus more on immediate future rewards "
   ]
  },
  {
   "cell_type": "markdown",
   "metadata": {},
   "source": [
    "\\begin{equation}\n",
    "G_t = \\gamma R_{t+1}+\\gamma^2 R_{t+2}+\\gamma^3 R_{t+3}+.........+\\gamma^{T-1} R_T\n",
    "\\end{equation}\n",
    "\\begin{equation}\n",
    "G_t = \\sum\\limits_{k=t+1}^{T} \\gamma^{k-1} R_k\n",
    "\\end{equation}"
   ]
  },
  {
   "cell_type": "markdown",
   "metadata": {},
   "source": [
    "Value functions $V$ of state $s$ is the expected return when at state $s$ following a certain policy $\\pi$"
   ]
  },
  {
   "cell_type": "markdown",
   "metadata": {},
   "source": [
    "\\begin{equation}\n",
    "V_\\pi(s) = E[G_t|S_t=s]\n",
    "\\end{equation}"
   ]
  },
  {
   "cell_type": "markdown",
   "metadata": {},
   "source": [
    "$Q$ function would be the expected return for a state $s$ and action $a$"
   ]
  },
  {
   "cell_type": "markdown",
   "metadata": {},
   "source": [
    "\\begin{equation}\n",
    "Q(s,a) = E[G_t|S=s,A_t=a]\n",
    "\\end{equation}"
   ]
  },
  {
   "cell_type": "markdown",
   "metadata": {},
   "source": [
    "SO, ***if our model gives higher $Q(s,a)$ value for the state-action pair where the Expected Return $G_t$ is higher, we can get the idea that our model is working!***"
   ]
  },
  {
   "cell_type": "markdown",
   "metadata": {},
   "source": []
  },
  {
   "cell_type": "markdown",
   "metadata": {},
   "source": [
    "<a id=\"debug\"></a>\n",
    "### Debug"
   ]
  },
  {
   "cell_type": "markdown",
   "metadata": {},
   "source": [
    "Lets start working on visualizing the Expected return and values"
   ]
  },
  {
   "cell_type": "markdown",
   "metadata": {},
   "source": [
    "Lets make a dictionary to capture all the data of an episode"
   ]
  },
  {
   "cell_type": "code",
   "execution_count": 15,
   "metadata": {},
   "outputs": [],
   "source": [
    "experience={\"state\":[],\n",
    "           \"action\":[],\n",
    "           \"reward\":[]}\n"
   ]
  },
  {
   "cell_type": "markdown",
   "metadata": {},
   "source": [
    "Untrained Agent"
   ]
  },
  {
   "cell_type": "code",
   "execution_count": 16,
   "metadata": {},
   "outputs": [],
   "source": [
    "BUFFER_SIZE = int(1e5)  # replay buffer size\n",
    "BATCH_SIZE = 64         # minibatch size\n",
    "GAMMA = 0.99            # discount factor\n",
    "TAU = 0.01              # for soft update of target parameters\n",
    "LR = 0.001               # learning rate \n",
    "UPDATE_EVERY = 4        # how often to update the network"
   ]
  },
  {
   "cell_type": "code",
   "execution_count": 17,
   "metadata": {},
   "outputs": [],
   "source": [
    "agent=Agent(state_size=state_shape,action_size=action_size,seed=0)"
   ]
  },
  {
   "cell_type": "code",
   "execution_count": 18,
   "metadata": {},
   "outputs": [],
   "source": [
    "state = env.reset()\n",
    "\n",
    "for j in range(200):\n",
    "    experience[\"state\"].append(state)\n",
    "    action = agent.act(state)\n",
    "    new_state, reward, done, _ = env.step(action)\n",
    "    experience[\"action\"].append(action)\n",
    "    experience[\"reward\"].append(reward)\n",
    "    \n",
    "    if done:\n",
    "        break \n",
    "        \n",
    "env.close()"
   ]
  },
  {
   "cell_type": "markdown",
   "metadata": {},
   "source": [
    "Importing pandas for data analysis"
   ]
  },
  {
   "cell_type": "code",
   "execution_count": 19,
   "metadata": {},
   "outputs": [],
   "source": [
    "oubleimport pandas as pd"
   ]
  },
  {
   "cell_type": "markdown",
   "metadata": {},
   "source": [
    "Experience Dataframe"
   ]
  },
  {
   "cell_type": "code",
   "execution_count": 20,
   "metadata": {},
   "outputs": [],
   "source": [
    "experience_df=pd.DataFrame(experience)"
   ]
  },
  {
   "cell_type": "markdown",
   "metadata": {},
   "source": [
    "Discount factor"
   ]
  },
  {
   "cell_type": "code",
   "execution_count": 21,
   "metadata": {},
   "outputs": [],
   "source": [
    "gamma=0.99"
   ]
  },
  {
   "cell_type": "markdown",
   "metadata": {},
   "source": [
    "All the rewards"
   ]
  },
  {
   "cell_type": "code",
   "execution_count": 22,
   "metadata": {},
   "outputs": [],
   "source": [
    "rewards=experience_df.reward.values.tolist()"
   ]
  },
  {
   "cell_type": "markdown",
   "metadata": {},
   "source": [
    "Initializing Expected returns"
   ]
  },
  {
   "cell_type": "code",
   "execution_count": 23,
   "metadata": {},
   "outputs": [],
   "source": [
    "Gt=[None]*len(rewards)"
   ]
  },
  {
   "cell_type": "code",
   "execution_count": 24,
   "metadata": {},
   "outputs": [],
   "source": [
    "for i in range(len(rewards)):\n",
    "    s=rewards[i]\n",
    "    for j in range(1,len(rewards[i+1:])):\n",
    "        s=s+(gamma**j)*rewards[j]\n",
    "    Gt[i]=s\n",
    "        "
   ]
  },
  {
   "cell_type": "code",
   "execution_count": 25,
   "metadata": {},
   "outputs": [],
   "source": [
    "experience_df[\"Gt\"]=Gt"
   ]
  },
  {
   "cell_type": "markdown",
   "metadata": {},
   "source": [
    "All states of an episode"
   ]
  },
  {
   "cell_type": "code",
   "execution_count": 26,
   "metadata": {},
   "outputs": [],
   "source": [
    "states= experience_df.state.values.tolist()"
   ]
  },
  {
   "cell_type": "markdown",
   "metadata": {},
   "source": [
    "Values initializing"
   ]
  },
  {
   "cell_type": "code",
   "execution_count": 27,
   "metadata": {},
   "outputs": [],
   "source": [
    "Vs = [None]*len(states)"
   ]
  },
  {
   "cell_type": "markdown",
   "metadata": {},
   "source": [
    "Getting the Values. We are taking maximum value of each Q(s) array as our action will be based on maximum value"
   ]
  },
  {
   "cell_type": "code",
   "execution_count": 28,
   "metadata": {},
   "outputs": [],
   "source": [
    "for i in range(len(states)):\n",
    "    state_tensor=torch.from_numpy(states[i]).float().unsqueeze(0).to(device)\n",
    "    Qsa= agent.qnetwork_local(state_tensor)\n",
    "    Vs[i]=np.max(Qsa.cpu().detach().numpy())"
   ]
  },
  {
   "cell_type": "code",
   "execution_count": 29,
   "metadata": {},
   "outputs": [],
   "source": [
    "experience_df[\"Value\"]=Vs"
   ]
  },
  {
   "cell_type": "markdown",
   "metadata": {},
   "source": [
    "Lets visualize the Expected return and Values using seaborn color map. "
   ]
  },
  {
   "cell_type": "code",
   "execution_count": 30,
   "metadata": {},
   "outputs": [
    {
     "data": {
      "text/html": [
       "<style  type=\"text/css\" >\n",
       "    #T_84ebbf3e_68f1_11ea_a6d8_0242ac110006row0_col0 {\n",
       "            background-color:  #453882;\n",
       "        }    #T_84ebbf3e_68f1_11ea_a6d8_0242ac110006row0_col1 {\n",
       "            background-color:  #440154;\n",
       "        }    #T_84ebbf3e_68f1_11ea_a6d8_0242ac110006row1_col0 {\n",
       "            background-color:  #46327e;\n",
       "        }    #T_84ebbf3e_68f1_11ea_a6d8_0242ac110006row1_col1 {\n",
       "            background-color:  #440154;\n",
       "        }    #T_84ebbf3e_68f1_11ea_a6d8_0242ac110006row2_col0 {\n",
       "            background-color:  #472a7a;\n",
       "        }    #T_84ebbf3e_68f1_11ea_a6d8_0242ac110006row2_col1 {\n",
       "            background-color:  #440154;\n",
       "        }    #T_84ebbf3e_68f1_11ea_a6d8_0242ac110006row3_col0 {\n",
       "            background-color:  #440154;\n",
       "        }    #T_84ebbf3e_68f1_11ea_a6d8_0242ac110006row3_col1 {\n",
       "            background-color:  #440154;\n",
       "        }    #T_84ebbf3e_68f1_11ea_a6d8_0242ac110006row4_col0 {\n",
       "            background-color:  #440154;\n",
       "        }    #T_84ebbf3e_68f1_11ea_a6d8_0242ac110006row4_col1 {\n",
       "            background-color:  #440154;\n",
       "        }    #T_84ebbf3e_68f1_11ea_a6d8_0242ac110006row5_col0 {\n",
       "            background-color:  #450457;\n",
       "        }    #T_84ebbf3e_68f1_11ea_a6d8_0242ac110006row5_col1 {\n",
       "            background-color:  #440154;\n",
       "        }    #T_84ebbf3e_68f1_11ea_a6d8_0242ac110006row6_col0 {\n",
       "            background-color:  #46085c;\n",
       "        }    #T_84ebbf3e_68f1_11ea_a6d8_0242ac110006row6_col1 {\n",
       "            background-color:  #440154;\n",
       "        }    #T_84ebbf3e_68f1_11ea_a6d8_0242ac110006row7_col0 {\n",
       "            background-color:  #470e61;\n",
       "        }    #T_84ebbf3e_68f1_11ea_a6d8_0242ac110006row7_col1 {\n",
       "            background-color:  #440154;\n",
       "        }    #T_84ebbf3e_68f1_11ea_a6d8_0242ac110006row8_col0 {\n",
       "            background-color:  #471365;\n",
       "        }    #T_84ebbf3e_68f1_11ea_a6d8_0242ac110006row8_col1 {\n",
       "            background-color:  #440154;\n",
       "        }    #T_84ebbf3e_68f1_11ea_a6d8_0242ac110006row9_col0 {\n",
       "            background-color:  #481769;\n",
       "        }    #T_84ebbf3e_68f1_11ea_a6d8_0242ac110006row9_col1 {\n",
       "            background-color:  #440154;\n",
       "        }    #T_84ebbf3e_68f1_11ea_a6d8_0242ac110006row10_col0 {\n",
       "            background-color:  #481c6e;\n",
       "        }    #T_84ebbf3e_68f1_11ea_a6d8_0242ac110006row10_col1 {\n",
       "            background-color:  #440154;\n",
       "        }    #T_84ebbf3e_68f1_11ea_a6d8_0242ac110006row11_col0 {\n",
       "            background-color:  #482071;\n",
       "        }    #T_84ebbf3e_68f1_11ea_a6d8_0242ac110006row11_col1 {\n",
       "            background-color:  #440154;\n",
       "        }    #T_84ebbf3e_68f1_11ea_a6d8_0242ac110006row12_col0 {\n",
       "            background-color:  #482475;\n",
       "        }    #T_84ebbf3e_68f1_11ea_a6d8_0242ac110006row12_col1 {\n",
       "            background-color:  #440154;\n",
       "        }    #T_84ebbf3e_68f1_11ea_a6d8_0242ac110006row13_col0 {\n",
       "            background-color:  #482979;\n",
       "        }    #T_84ebbf3e_68f1_11ea_a6d8_0242ac110006row13_col1 {\n",
       "            background-color:  #440154;\n",
       "        }    #T_84ebbf3e_68f1_11ea_a6d8_0242ac110006row14_col0 {\n",
       "            background-color:  #472d7b;\n",
       "        }    #T_84ebbf3e_68f1_11ea_a6d8_0242ac110006row14_col1 {\n",
       "            background-color:  #440154;\n",
       "        }    #T_84ebbf3e_68f1_11ea_a6d8_0242ac110006row15_col0 {\n",
       "            background-color:  #46327e;\n",
       "        }    #T_84ebbf3e_68f1_11ea_a6d8_0242ac110006row15_col1 {\n",
       "            background-color:  #440154;\n",
       "        }    #T_84ebbf3e_68f1_11ea_a6d8_0242ac110006row16_col0 {\n",
       "            background-color:  #453581;\n",
       "        }    #T_84ebbf3e_68f1_11ea_a6d8_0242ac110006row16_col1 {\n",
       "            background-color:  #440154;\n",
       "        }    #T_84ebbf3e_68f1_11ea_a6d8_0242ac110006row17_col0 {\n",
       "            background-color:  #443a83;\n",
       "        }    #T_84ebbf3e_68f1_11ea_a6d8_0242ac110006row17_col1 {\n",
       "            background-color:  #440154;\n",
       "        }    #T_84ebbf3e_68f1_11ea_a6d8_0242ac110006row18_col0 {\n",
       "            background-color:  #433e85;\n",
       "        }    #T_84ebbf3e_68f1_11ea_a6d8_0242ac110006row18_col1 {\n",
       "            background-color:  #440154;\n",
       "        }    #T_84ebbf3e_68f1_11ea_a6d8_0242ac110006row19_col0 {\n",
       "            background-color:  #414287;\n",
       "        }    #T_84ebbf3e_68f1_11ea_a6d8_0242ac110006row19_col1 {\n",
       "            background-color:  #440154;\n",
       "        }    #T_84ebbf3e_68f1_11ea_a6d8_0242ac110006row20_col0 {\n",
       "            background-color:  #404688;\n",
       "        }    #T_84ebbf3e_68f1_11ea_a6d8_0242ac110006row20_col1 {\n",
       "            background-color:  #440154;\n",
       "        }    #T_84ebbf3e_68f1_11ea_a6d8_0242ac110006row21_col0 {\n",
       "            background-color:  #3e4a89;\n",
       "        }    #T_84ebbf3e_68f1_11ea_a6d8_0242ac110006row21_col1 {\n",
       "            background-color:  #440154;\n",
       "        }    #T_84ebbf3e_68f1_11ea_a6d8_0242ac110006row22_col0 {\n",
       "            background-color:  #3d4e8a;\n",
       "        }    #T_84ebbf3e_68f1_11ea_a6d8_0242ac110006row22_col1 {\n",
       "            background-color:  #440154;\n",
       "        }    #T_84ebbf3e_68f1_11ea_a6d8_0242ac110006row23_col0 {\n",
       "            background-color:  #3b528b;\n",
       "        }    #T_84ebbf3e_68f1_11ea_a6d8_0242ac110006row23_col1 {\n",
       "            background-color:  #440154;\n",
       "        }    #T_84ebbf3e_68f1_11ea_a6d8_0242ac110006row24_col0 {\n",
       "            background-color:  #39568c;\n",
       "        }    #T_84ebbf3e_68f1_11ea_a6d8_0242ac110006row24_col1 {\n",
       "            background-color:  #440154;\n",
       "        }    #T_84ebbf3e_68f1_11ea_a6d8_0242ac110006row25_col0 {\n",
       "            background-color:  #375a8c;\n",
       "        }    #T_84ebbf3e_68f1_11ea_a6d8_0242ac110006row25_col1 {\n",
       "            background-color:  #440154;\n",
       "        }    #T_84ebbf3e_68f1_11ea_a6d8_0242ac110006row26_col0 {\n",
       "            background-color:  #355e8d;\n",
       "        }    #T_84ebbf3e_68f1_11ea_a6d8_0242ac110006row26_col1 {\n",
       "            background-color:  #440154;\n",
       "        }    #T_84ebbf3e_68f1_11ea_a6d8_0242ac110006row27_col0 {\n",
       "            background-color:  #34618d;\n",
       "        }    #T_84ebbf3e_68f1_11ea_a6d8_0242ac110006row27_col1 {\n",
       "            background-color:  #440154;\n",
       "        }    #T_84ebbf3e_68f1_11ea_a6d8_0242ac110006row28_col0 {\n",
       "            background-color:  #32658e;\n",
       "        }    #T_84ebbf3e_68f1_11ea_a6d8_0242ac110006row28_col1 {\n",
       "            background-color:  #440154;\n",
       "        }    #T_84ebbf3e_68f1_11ea_a6d8_0242ac110006row29_col0 {\n",
       "            background-color:  #31688e;\n",
       "        }    #T_84ebbf3e_68f1_11ea_a6d8_0242ac110006row29_col1 {\n",
       "            background-color:  #440154;\n",
       "        }    #T_84ebbf3e_68f1_11ea_a6d8_0242ac110006row30_col0 {\n",
       "            background-color:  #2f6c8e;\n",
       "        }    #T_84ebbf3e_68f1_11ea_a6d8_0242ac110006row30_col1 {\n",
       "            background-color:  #440154;\n",
       "        }    #T_84ebbf3e_68f1_11ea_a6d8_0242ac110006row31_col0 {\n",
       "            background-color:  #2e6f8e;\n",
       "        }    #T_84ebbf3e_68f1_11ea_a6d8_0242ac110006row31_col1 {\n",
       "            background-color:  #440154;\n",
       "        }    #T_84ebbf3e_68f1_11ea_a6d8_0242ac110006row32_col0 {\n",
       "            background-color:  #2c728e;\n",
       "        }    #T_84ebbf3e_68f1_11ea_a6d8_0242ac110006row32_col1 {\n",
       "            background-color:  #440154;\n",
       "        }    #T_84ebbf3e_68f1_11ea_a6d8_0242ac110006row33_col0 {\n",
       "            background-color:  #2b758e;\n",
       "        }    #T_84ebbf3e_68f1_11ea_a6d8_0242ac110006row33_col1 {\n",
       "            background-color:  #440154;\n",
       "        }    #T_84ebbf3e_68f1_11ea_a6d8_0242ac110006row34_col0 {\n",
       "            background-color:  #2a788e;\n",
       "        }    #T_84ebbf3e_68f1_11ea_a6d8_0242ac110006row34_col1 {\n",
       "            background-color:  #440154;\n",
       "        }    #T_84ebbf3e_68f1_11ea_a6d8_0242ac110006row35_col0 {\n",
       "            background-color:  #287c8e;\n",
       "        }    #T_84ebbf3e_68f1_11ea_a6d8_0242ac110006row35_col1 {\n",
       "            background-color:  #440154;\n",
       "        }    #T_84ebbf3e_68f1_11ea_a6d8_0242ac110006row36_col0 {\n",
       "            background-color:  #277f8e;\n",
       "        }    #T_84ebbf3e_68f1_11ea_a6d8_0242ac110006row36_col1 {\n",
       "            background-color:  #440154;\n",
       "        }    #T_84ebbf3e_68f1_11ea_a6d8_0242ac110006row37_col0 {\n",
       "            background-color:  #26828e;\n",
       "        }    #T_84ebbf3e_68f1_11ea_a6d8_0242ac110006row37_col1 {\n",
       "            background-color:  #440154;\n",
       "        }    #T_84ebbf3e_68f1_11ea_a6d8_0242ac110006row38_col0 {\n",
       "            background-color:  #25858e;\n",
       "        }    #T_84ebbf3e_68f1_11ea_a6d8_0242ac110006row38_col1 {\n",
       "            background-color:  #440154;\n",
       "        }    #T_84ebbf3e_68f1_11ea_a6d8_0242ac110006row39_col0 {\n",
       "            background-color:  #23888e;\n",
       "        }    #T_84ebbf3e_68f1_11ea_a6d8_0242ac110006row39_col1 {\n",
       "            background-color:  #440154;\n",
       "        }    #T_84ebbf3e_68f1_11ea_a6d8_0242ac110006row40_col0 {\n",
       "            background-color:  #228b8d;\n",
       "        }    #T_84ebbf3e_68f1_11ea_a6d8_0242ac110006row40_col1 {\n",
       "            background-color:  #440154;\n",
       "        }    #T_84ebbf3e_68f1_11ea_a6d8_0242ac110006row41_col0 {\n",
       "            background-color:  #218f8d;\n",
       "        }    #T_84ebbf3e_68f1_11ea_a6d8_0242ac110006row41_col1 {\n",
       "            background-color:  #440154;\n",
       "        }    #T_84ebbf3e_68f1_11ea_a6d8_0242ac110006row42_col0 {\n",
       "            background-color:  #20928c;\n",
       "        }    #T_84ebbf3e_68f1_11ea_a6d8_0242ac110006row42_col1 {\n",
       "            background-color:  #440154;\n",
       "        }    #T_84ebbf3e_68f1_11ea_a6d8_0242ac110006row43_col0 {\n",
       "            background-color:  #1f948c;\n",
       "        }    #T_84ebbf3e_68f1_11ea_a6d8_0242ac110006row43_col1 {\n",
       "            background-color:  #440154;\n",
       "        }    #T_84ebbf3e_68f1_11ea_a6d8_0242ac110006row44_col0 {\n",
       "            background-color:  #1f978b;\n",
       "        }    #T_84ebbf3e_68f1_11ea_a6d8_0242ac110006row44_col1 {\n",
       "            background-color:  #440154;\n",
       "        }    #T_84ebbf3e_68f1_11ea_a6d8_0242ac110006row45_col0 {\n",
       "            background-color:  #1f9a8a;\n",
       "        }    #T_84ebbf3e_68f1_11ea_a6d8_0242ac110006row45_col1 {\n",
       "            background-color:  #440154;\n",
       "        }    #T_84ebbf3e_68f1_11ea_a6d8_0242ac110006row46_col0 {\n",
       "            background-color:  #1e9d89;\n",
       "        }    #T_84ebbf3e_68f1_11ea_a6d8_0242ac110006row46_col1 {\n",
       "            background-color:  #440154;\n",
       "        }    #T_84ebbf3e_68f1_11ea_a6d8_0242ac110006row47_col0 {\n",
       "            background-color:  #1fa088;\n",
       "        }    #T_84ebbf3e_68f1_11ea_a6d8_0242ac110006row47_col1 {\n",
       "            background-color:  #440154;\n",
       "        }    #T_84ebbf3e_68f1_11ea_a6d8_0242ac110006row48_col0 {\n",
       "            background-color:  #1fa287;\n",
       "        }    #T_84ebbf3e_68f1_11ea_a6d8_0242ac110006row48_col1 {\n",
       "            background-color:  #440154;\n",
       "        }    #T_84ebbf3e_68f1_11ea_a6d8_0242ac110006row49_col0 {\n",
       "            background-color:  #20a486;\n",
       "        }    #T_84ebbf3e_68f1_11ea_a6d8_0242ac110006row49_col1 {\n",
       "            background-color:  #440154;\n",
       "        }    #T_84ebbf3e_68f1_11ea_a6d8_0242ac110006row50_col0 {\n",
       "            background-color:  #22a785;\n",
       "        }    #T_84ebbf3e_68f1_11ea_a6d8_0242ac110006row50_col1 {\n",
       "            background-color:  #440154;\n",
       "        }    #T_84ebbf3e_68f1_11ea_a6d8_0242ac110006row51_col0 {\n",
       "            background-color:  #24aa83;\n",
       "        }    #T_84ebbf3e_68f1_11ea_a6d8_0242ac110006row51_col1 {\n",
       "            background-color:  #440154;\n",
       "        }    #T_84ebbf3e_68f1_11ea_a6d8_0242ac110006row52_col0 {\n",
       "            background-color:  #26ad81;\n",
       "        }    #T_84ebbf3e_68f1_11ea_a6d8_0242ac110006row52_col1 {\n",
       "            background-color:  #440154;\n",
       "        }    #T_84ebbf3e_68f1_11ea_a6d8_0242ac110006row53_col0 {\n",
       "            background-color:  #28ae80;\n",
       "        }    #T_84ebbf3e_68f1_11ea_a6d8_0242ac110006row53_col1 {\n",
       "            background-color:  #440154;\n",
       "        }    #T_84ebbf3e_68f1_11ea_a6d8_0242ac110006row54_col0 {\n",
       "            background-color:  #2cb17e;\n",
       "        }    #T_84ebbf3e_68f1_11ea_a6d8_0242ac110006row54_col1 {\n",
       "            background-color:  #440154;\n",
       "        }    #T_84ebbf3e_68f1_11ea_a6d8_0242ac110006row55_col0 {\n",
       "            background-color:  #2fb47c;\n",
       "        }    #T_84ebbf3e_68f1_11ea_a6d8_0242ac110006row55_col1 {\n",
       "            background-color:  #440154;\n",
       "        }    #T_84ebbf3e_68f1_11ea_a6d8_0242ac110006row56_col0 {\n",
       "            background-color:  #32b67a;\n",
       "        }    #T_84ebbf3e_68f1_11ea_a6d8_0242ac110006row56_col1 {\n",
       "            background-color:  #440154;\n",
       "        }    #T_84ebbf3e_68f1_11ea_a6d8_0242ac110006row57_col0 {\n",
       "            background-color:  #37b878;\n",
       "        }    #T_84ebbf3e_68f1_11ea_a6d8_0242ac110006row57_col1 {\n",
       "            background-color:  #440154;\n",
       "        }    #T_84ebbf3e_68f1_11ea_a6d8_0242ac110006row58_col0 {\n",
       "            background-color:  #3aba76;\n",
       "        }    #T_84ebbf3e_68f1_11ea_a6d8_0242ac110006row58_col1 {\n",
       "            background-color:  #440154;\n",
       "        }    #T_84ebbf3e_68f1_11ea_a6d8_0242ac110006row59_col0 {\n",
       "            background-color:  #3fbc73;\n",
       "        }    #T_84ebbf3e_68f1_11ea_a6d8_0242ac110006row59_col1 {\n",
       "            background-color:  #440154;\n",
       "        }    #T_84ebbf3e_68f1_11ea_a6d8_0242ac110006row60_col0 {\n",
       "            background-color:  #42be71;\n",
       "        }    #T_84ebbf3e_68f1_11ea_a6d8_0242ac110006row60_col1 {\n",
       "            background-color:  #440154;\n",
       "        }    #T_84ebbf3e_68f1_11ea_a6d8_0242ac110006row61_col0 {\n",
       "            background-color:  #46c06f;\n",
       "        }    #T_84ebbf3e_68f1_11ea_a6d8_0242ac110006row61_col1 {\n",
       "            background-color:  #440154;\n",
       "        }    #T_84ebbf3e_68f1_11ea_a6d8_0242ac110006row62_col0 {\n",
       "            background-color:  #4ac16d;\n",
       "        }    #T_84ebbf3e_68f1_11ea_a6d8_0242ac110006row62_col1 {\n",
       "            background-color:  #440154;\n",
       "        }    #T_84ebbf3e_68f1_11ea_a6d8_0242ac110006row63_col0 {\n",
       "            background-color:  #4ec36b;\n",
       "        }    #T_84ebbf3e_68f1_11ea_a6d8_0242ac110006row63_col1 {\n",
       "            background-color:  #440154;\n",
       "        }    #T_84ebbf3e_68f1_11ea_a6d8_0242ac110006row64_col0 {\n",
       "            background-color:  #52c569;\n",
       "        }    #T_84ebbf3e_68f1_11ea_a6d8_0242ac110006row64_col1 {\n",
       "            background-color:  #440154;\n",
       "        }    #T_84ebbf3e_68f1_11ea_a6d8_0242ac110006row65_col0 {\n",
       "            background-color:  #56c667;\n",
       "        }    #T_84ebbf3e_68f1_11ea_a6d8_0242ac110006row65_col1 {\n",
       "            background-color:  #440154;\n",
       "        }    #T_84ebbf3e_68f1_11ea_a6d8_0242ac110006row66_col0 {\n",
       "            background-color:  #5ac864;\n",
       "        }    #T_84ebbf3e_68f1_11ea_a6d8_0242ac110006row66_col1 {\n",
       "            background-color:  #440154;\n",
       "        }    #T_84ebbf3e_68f1_11ea_a6d8_0242ac110006row67_col0 {\n",
       "            background-color:  #67cc5c;\n",
       "        }    #T_84ebbf3e_68f1_11ea_a6d8_0242ac110006row67_col1 {\n",
       "            background-color:  #440154;\n",
       "        }    #T_84ebbf3e_68f1_11ea_a6d8_0242ac110006row68_col0 {\n",
       "            background-color:  #fde725;\n",
       "        }    #T_84ebbf3e_68f1_11ea_a6d8_0242ac110006row68_col1 {\n",
       "            background-color:  #440154;\n",
       "        }    #T_84ebbf3e_68f1_11ea_a6d8_0242ac110006row69_col0 {\n",
       "            background-color:  #84d44b;\n",
       "        }    #T_84ebbf3e_68f1_11ea_a6d8_0242ac110006row69_col1 {\n",
       "            background-color:  #440154;\n",
       "        }    #T_84ebbf3e_68f1_11ea_a6d8_0242ac110006row70_col0 {\n",
       "            background-color:  #7ad151;\n",
       "        }    #T_84ebbf3e_68f1_11ea_a6d8_0242ac110006row70_col1 {\n",
       "            background-color:  #440154;\n",
       "        }    #T_84ebbf3e_68f1_11ea_a6d8_0242ac110006row71_col0 {\n",
       "            background-color:  #1e9b8a;\n",
       "        }    #T_84ebbf3e_68f1_11ea_a6d8_0242ac110006row71_col1 {\n",
       "            background-color:  #440154;\n",
       "        }</style>  \n",
       "<table id=\"T_84ebbf3e_68f1_11ea_a6d8_0242ac110006\" > \n",
       "<thead>    <tr> \n",
       "        <th class=\"blank level0\" ></th> \n",
       "        <th class=\"col_heading level0 col0\" >Gt</th> \n",
       "        <th class=\"col_heading level0 col1\" >Value</th> \n",
       "    </tr></thead> \n",
       "<tbody>    <tr> \n",
       "        <th id=\"T_84ebbf3e_68f1_11ea_a6d8_0242ac110006level0_row0\" class=\"row_heading level0 row0\" >0</th> \n",
       "        <td id=\"T_84ebbf3e_68f1_11ea_a6d8_0242ac110006row0_col0\" class=\"data row0 col0\" >-277.919</td> \n",
       "        <td id=\"T_84ebbf3e_68f1_11ea_a6d8_0242ac110006row0_col1\" class=\"data row0 col1\" >0.185379</td> \n",
       "    </tr>    <tr> \n",
       "        <th id=\"T_84ebbf3e_68f1_11ea_a6d8_0242ac110006level0_row1\" class=\"row_heading level0 row1\" >1</th> \n",
       "        <td id=\"T_84ebbf3e_68f1_11ea_a6d8_0242ac110006row1_col0\" class=\"data row1 col0\" >-286.907</td> \n",
       "        <td id=\"T_84ebbf3e_68f1_11ea_a6d8_0242ac110006row1_col1\" class=\"data row1 col1\" >0.185379</td> \n",
       "    </tr>    <tr> \n",
       "        <th id=\"T_84ebbf3e_68f1_11ea_a6d8_0242ac110006level0_row2\" class=\"row_heading level0 row2\" >2</th> \n",
       "        <td id=\"T_84ebbf3e_68f1_11ea_a6d8_0242ac110006row2_col0\" class=\"data row2 col0\" >-298.154</td> \n",
       "        <td id=\"T_84ebbf3e_68f1_11ea_a6d8_0242ac110006row2_col1\" class=\"data row2 col1\" >0.185379</td> \n",
       "    </tr>    <tr> \n",
       "        <th id=\"T_84ebbf3e_68f1_11ea_a6d8_0242ac110006level0_row3\" class=\"row_heading level0 row3\" >3</th> \n",
       "        <td id=\"T_84ebbf3e_68f1_11ea_a6d8_0242ac110006row3_col0\" class=\"data row3 col0\" >-351.918</td> \n",
       "        <td id=\"T_84ebbf3e_68f1_11ea_a6d8_0242ac110006row3_col1\" class=\"data row3 col1\" >0.185379</td> \n",
       "    </tr>    <tr> \n",
       "        <th id=\"T_84ebbf3e_68f1_11ea_a6d8_0242ac110006level0_row4\" class=\"row_heading level0 row4\" >4</th> \n",
       "        <td id=\"T_84ebbf3e_68f1_11ea_a6d8_0242ac110006row4_col0\" class=\"data row4 col0\" >-352.746</td> \n",
       "        <td id=\"T_84ebbf3e_68f1_11ea_a6d8_0242ac110006row4_col1\" class=\"data row4 col1\" >0.185379</td> \n",
       "    </tr>    <tr> \n",
       "        <th id=\"T_84ebbf3e_68f1_11ea_a6d8_0242ac110006level0_row5\" class=\"row_heading level0 row5\" >5</th> \n",
       "        <td id=\"T_84ebbf3e_68f1_11ea_a6d8_0242ac110006row5_col0\" class=\"data row5 col0\" >-348.546</td> \n",
       "        <td id=\"T_84ebbf3e_68f1_11ea_a6d8_0242ac110006row5_col1\" class=\"data row5 col1\" >0.185379</td> \n",
       "    </tr>    <tr> \n",
       "        <th id=\"T_84ebbf3e_68f1_11ea_a6d8_0242ac110006level0_row6\" class=\"row_heading level0 row6\" >6</th> \n",
       "        <td id=\"T_84ebbf3e_68f1_11ea_a6d8_0242ac110006row6_col0\" class=\"data row6 col0\" >-342.416</td> \n",
       "        <td id=\"T_84ebbf3e_68f1_11ea_a6d8_0242ac110006row6_col1\" class=\"data row6 col1\" >0.185379</td> \n",
       "    </tr>    <tr> \n",
       "        <th id=\"T_84ebbf3e_68f1_11ea_a6d8_0242ac110006level0_row7\" class=\"row_heading level0 row7\" >7</th> \n",
       "        <td id=\"T_84ebbf3e_68f1_11ea_a6d8_0242ac110006row7_col0\" class=\"data row7 col0\" >-336.186</td> \n",
       "        <td id=\"T_84ebbf3e_68f1_11ea_a6d8_0242ac110006row7_col1\" class=\"data row7 col1\" >0.185379</td> \n",
       "    </tr>    <tr> \n",
       "        <th id=\"T_84ebbf3e_68f1_11ea_a6d8_0242ac110006level0_row8\" class=\"row_heading level0 row8\" >8</th> \n",
       "        <td id=\"T_84ebbf3e_68f1_11ea_a6d8_0242ac110006row8_col0\" class=\"data row8 col0\" >-330.087</td> \n",
       "        <td id=\"T_84ebbf3e_68f1_11ea_a6d8_0242ac110006row8_col1\" class=\"data row8 col1\" >0.185379</td> \n",
       "    </tr>    <tr> \n",
       "        <th id=\"T_84ebbf3e_68f1_11ea_a6d8_0242ac110006level0_row9\" class=\"row_heading level0 row9\" >9</th> \n",
       "        <td id=\"T_84ebbf3e_68f1_11ea_a6d8_0242ac110006row9_col0\" class=\"data row9 col0\" >-323.926</td> \n",
       "        <td id=\"T_84ebbf3e_68f1_11ea_a6d8_0242ac110006row9_col1\" class=\"data row9 col1\" >0.185379</td> \n",
       "    </tr>    <tr> \n",
       "        <th id=\"T_84ebbf3e_68f1_11ea_a6d8_0242ac110006level0_row10\" class=\"row_heading level0 row10\" >10</th> \n",
       "        <td id=\"T_84ebbf3e_68f1_11ea_a6d8_0242ac110006row10_col0\" class=\"data row10 col0\" >-317.783</td> \n",
       "        <td id=\"T_84ebbf3e_68f1_11ea_a6d8_0242ac110006row10_col1\" class=\"data row10 col1\" >0.185379</td> \n",
       "    </tr>    <tr> \n",
       "        <th id=\"T_84ebbf3e_68f1_11ea_a6d8_0242ac110006level0_row11\" class=\"row_heading level0 row11\" >11</th> \n",
       "        <td id=\"T_84ebbf3e_68f1_11ea_a6d8_0242ac110006row11_col0\" class=\"data row11 col0\" >-311.69</td> \n",
       "        <td id=\"T_84ebbf3e_68f1_11ea_a6d8_0242ac110006row11_col1\" class=\"data row11 col1\" >0.185379</td> \n",
       "    </tr>    <tr> \n",
       "        <th id=\"T_84ebbf3e_68f1_11ea_a6d8_0242ac110006level0_row12\" class=\"row_heading level0 row12\" >12</th> \n",
       "        <td id=\"T_84ebbf3e_68f1_11ea_a6d8_0242ac110006row12_col0\" class=\"data row12 col0\" >-305.826</td> \n",
       "        <td id=\"T_84ebbf3e_68f1_11ea_a6d8_0242ac110006row12_col1\" class=\"data row12 col1\" >0.185379</td> \n",
       "    </tr>    <tr> \n",
       "        <th id=\"T_84ebbf3e_68f1_11ea_a6d8_0242ac110006level0_row13\" class=\"row_heading level0 row13\" >13</th> \n",
       "        <td id=\"T_84ebbf3e_68f1_11ea_a6d8_0242ac110006row13_col0\" class=\"data row13 col0\" >-299.578</td> \n",
       "        <td id=\"T_84ebbf3e_68f1_11ea_a6d8_0242ac110006row13_col1\" class=\"data row13 col1\" >0.185379</td> \n",
       "    </tr>    <tr> \n",
       "        <th id=\"T_84ebbf3e_68f1_11ea_a6d8_0242ac110006level0_row14\" class=\"row_heading level0 row14\" >14</th> \n",
       "        <td id=\"T_84ebbf3e_68f1_11ea_a6d8_0242ac110006row14_col0\" class=\"data row14 col0\" >-293.292</td> \n",
       "        <td id=\"T_84ebbf3e_68f1_11ea_a6d8_0242ac110006row14_col1\" class=\"data row14 col1\" >0.185379</td> \n",
       "    </tr>    <tr> \n",
       "        <th id=\"T_84ebbf3e_68f1_11ea_a6d8_0242ac110006level0_row15\" class=\"row_heading level0 row15\" >15</th> \n",
       "        <td id=\"T_84ebbf3e_68f1_11ea_a6d8_0242ac110006row15_col0\" class=\"data row15 col0\" >-287.255</td> \n",
       "        <td id=\"T_84ebbf3e_68f1_11ea_a6d8_0242ac110006row15_col1\" class=\"data row15 col1\" >0.185379</td> \n",
       "    </tr>    <tr> \n",
       "        <th id=\"T_84ebbf3e_68f1_11ea_a6d8_0242ac110006level0_row16\" class=\"row_heading level0 row16\" >16</th> \n",
       "        <td id=\"T_84ebbf3e_68f1_11ea_a6d8_0242ac110006row16_col0\" class=\"data row16 col0\" >-281.11</td> \n",
       "        <td id=\"T_84ebbf3e_68f1_11ea_a6d8_0242ac110006row16_col1\" class=\"data row16 col1\" >0.185379</td> \n",
       "    </tr>    <tr> \n",
       "        <th id=\"T_84ebbf3e_68f1_11ea_a6d8_0242ac110006level0_row17\" class=\"row_heading level0 row17\" >17</th> \n",
       "        <td id=\"T_84ebbf3e_68f1_11ea_a6d8_0242ac110006row17_col0\" class=\"data row17 col0\" >-274.639</td> \n",
       "        <td id=\"T_84ebbf3e_68f1_11ea_a6d8_0242ac110006row17_col1\" class=\"data row17 col1\" >0.185379</td> \n",
       "    </tr>    <tr> \n",
       "        <th id=\"T_84ebbf3e_68f1_11ea_a6d8_0242ac110006level0_row18\" class=\"row_heading level0 row18\" >18</th> \n",
       "        <td id=\"T_84ebbf3e_68f1_11ea_a6d8_0242ac110006row18_col0\" class=\"data row18 col0\" >-268.285</td> \n",
       "        <td id=\"T_84ebbf3e_68f1_11ea_a6d8_0242ac110006row18_col1\" class=\"data row18 col1\" >0.185379</td> \n",
       "    </tr>    <tr> \n",
       "        <th id=\"T_84ebbf3e_68f1_11ea_a6d8_0242ac110006level0_row19\" class=\"row_heading level0 row19\" >19</th> \n",
       "        <td id=\"T_84ebbf3e_68f1_11ea_a6d8_0242ac110006row19_col0\" class=\"data row19 col0\" >-261.969</td> \n",
       "        <td id=\"T_84ebbf3e_68f1_11ea_a6d8_0242ac110006row19_col1\" class=\"data row19 col1\" >0.185379</td> \n",
       "    </tr>    <tr> \n",
       "        <th id=\"T_84ebbf3e_68f1_11ea_a6d8_0242ac110006level0_row20\" class=\"row_heading level0 row20\" >20</th> \n",
       "        <td id=\"T_84ebbf3e_68f1_11ea_a6d8_0242ac110006row20_col0\" class=\"data row20 col0\" >-255.722</td> \n",
       "        <td id=\"T_84ebbf3e_68f1_11ea_a6d8_0242ac110006row20_col1\" class=\"data row20 col1\" >0.185379</td> \n",
       "    </tr>    <tr> \n",
       "        <th id=\"T_84ebbf3e_68f1_11ea_a6d8_0242ac110006level0_row21\" class=\"row_heading level0 row21\" >21</th> \n",
       "        <td id=\"T_84ebbf3e_68f1_11ea_a6d8_0242ac110006row21_col0\" class=\"data row21 col0\" >-249.094</td> \n",
       "        <td id=\"T_84ebbf3e_68f1_11ea_a6d8_0242ac110006row21_col1\" class=\"data row21 col1\" >0.185379</td> \n",
       "    </tr>    <tr> \n",
       "        <th id=\"T_84ebbf3e_68f1_11ea_a6d8_0242ac110006level0_row22\" class=\"row_heading level0 row22\" >22</th> \n",
       "        <td id=\"T_84ebbf3e_68f1_11ea_a6d8_0242ac110006row22_col0\" class=\"data row22 col0\" >-242.58</td> \n",
       "        <td id=\"T_84ebbf3e_68f1_11ea_a6d8_0242ac110006row22_col1\" class=\"data row22 col1\" >0.185379</td> \n",
       "    </tr>    <tr> \n",
       "        <th id=\"T_84ebbf3e_68f1_11ea_a6d8_0242ac110006level0_row23\" class=\"row_heading level0 row23\" >23</th> \n",
       "        <td id=\"T_84ebbf3e_68f1_11ea_a6d8_0242ac110006row23_col0\" class=\"data row23 col0\" >-236.323</td> \n",
       "        <td id=\"T_84ebbf3e_68f1_11ea_a6d8_0242ac110006row23_col1\" class=\"data row23 col1\" >0.185379</td> \n",
       "    </tr>    <tr> \n",
       "        <th id=\"T_84ebbf3e_68f1_11ea_a6d8_0242ac110006level0_row24\" class=\"row_heading level0 row24\" >24</th> \n",
       "        <td id=\"T_84ebbf3e_68f1_11ea_a6d8_0242ac110006row24_col0\" class=\"data row24 col0\" >-229.729</td> \n",
       "        <td id=\"T_84ebbf3e_68f1_11ea_a6d8_0242ac110006row24_col1\" class=\"data row24 col1\" >0.185379</td> \n",
       "    </tr>    <tr> \n",
       "        <th id=\"T_84ebbf3e_68f1_11ea_a6d8_0242ac110006level0_row25\" class=\"row_heading level0 row25\" >25</th> \n",
       "        <td id=\"T_84ebbf3e_68f1_11ea_a6d8_0242ac110006row25_col0\" class=\"data row25 col0\" >-223.226</td> \n",
       "        <td id=\"T_84ebbf3e_68f1_11ea_a6d8_0242ac110006row25_col1\" class=\"data row25 col1\" >0.185379</td> \n",
       "    </tr>    <tr> \n",
       "        <th id=\"T_84ebbf3e_68f1_11ea_a6d8_0242ac110006level0_row26\" class=\"row_heading level0 row26\" >26</th> \n",
       "        <td id=\"T_84ebbf3e_68f1_11ea_a6d8_0242ac110006row26_col0\" class=\"data row26 col0\" >-216.983</td> \n",
       "        <td id=\"T_84ebbf3e_68f1_11ea_a6d8_0242ac110006row26_col1\" class=\"data row26 col1\" >0.185379</td> \n",
       "    </tr>    <tr> \n",
       "        <th id=\"T_84ebbf3e_68f1_11ea_a6d8_0242ac110006level0_row27\" class=\"row_heading level0 row27\" >27</th> \n",
       "        <td id=\"T_84ebbf3e_68f1_11ea_a6d8_0242ac110006row27_col0\" class=\"data row27 col0\" >-210.667</td> \n",
       "        <td id=\"T_84ebbf3e_68f1_11ea_a6d8_0242ac110006row27_col1\" class=\"data row27 col1\" >0.185379</td> \n",
       "    </tr>    <tr> \n",
       "        <th id=\"T_84ebbf3e_68f1_11ea_a6d8_0242ac110006level0_row28\" class=\"row_heading level0 row28\" >28</th> \n",
       "        <td id=\"T_84ebbf3e_68f1_11ea_a6d8_0242ac110006row28_col0\" class=\"data row28 col0\" >-204.042</td> \n",
       "        <td id=\"T_84ebbf3e_68f1_11ea_a6d8_0242ac110006row28_col1\" class=\"data row28 col1\" >0.185379</td> \n",
       "    </tr>    <tr> \n",
       "        <th id=\"T_84ebbf3e_68f1_11ea_a6d8_0242ac110006level0_row29\" class=\"row_heading level0 row29\" >29</th> \n",
       "        <td id=\"T_84ebbf3e_68f1_11ea_a6d8_0242ac110006row29_col0\" class=\"data row29 col0\" >-197.748</td> \n",
       "        <td id=\"T_84ebbf3e_68f1_11ea_a6d8_0242ac110006row29_col1\" class=\"data row29 col1\" >0.185379</td> \n",
       "    </tr>    <tr> \n",
       "        <th id=\"T_84ebbf3e_68f1_11ea_a6d8_0242ac110006level0_row30\" class=\"row_heading level0 row30\" >30</th> \n",
       "        <td id=\"T_84ebbf3e_68f1_11ea_a6d8_0242ac110006row30_col0\" class=\"data row30 col0\" >-191.67</td> \n",
       "        <td id=\"T_84ebbf3e_68f1_11ea_a6d8_0242ac110006row30_col1\" class=\"data row30 col1\" >0.185379</td> \n",
       "    </tr>    <tr> \n",
       "        <th id=\"T_84ebbf3e_68f1_11ea_a6d8_0242ac110006level0_row31\" class=\"row_heading level0 row31\" >31</th> \n",
       "        <td id=\"T_84ebbf3e_68f1_11ea_a6d8_0242ac110006row31_col0\" class=\"data row31 col0\" >-185.158</td> \n",
       "        <td id=\"T_84ebbf3e_68f1_11ea_a6d8_0242ac110006row31_col1\" class=\"data row31 col1\" >0.185379</td> \n",
       "    </tr>    <tr> \n",
       "        <th id=\"T_84ebbf3e_68f1_11ea_a6d8_0242ac110006level0_row32\" class=\"row_heading level0 row32\" >32</th> \n",
       "        <td id=\"T_84ebbf3e_68f1_11ea_a6d8_0242ac110006row32_col0\" class=\"data row32 col0\" >-178.867</td> \n",
       "        <td id=\"T_84ebbf3e_68f1_11ea_a6d8_0242ac110006row32_col1\" class=\"data row32 col1\" >0.185379</td> \n",
       "    </tr>    <tr> \n",
       "        <th id=\"T_84ebbf3e_68f1_11ea_a6d8_0242ac110006level0_row33\" class=\"row_heading level0 row33\" >33</th> \n",
       "        <td id=\"T_84ebbf3e_68f1_11ea_a6d8_0242ac110006row33_col0\" class=\"data row33 col0\" >-172.545</td> \n",
       "        <td id=\"T_84ebbf3e_68f1_11ea_a6d8_0242ac110006row33_col1\" class=\"data row33 col1\" >0.185379</td> \n",
       "    </tr>    <tr> \n",
       "        <th id=\"T_84ebbf3e_68f1_11ea_a6d8_0242ac110006level0_row34\" class=\"row_heading level0 row34\" >34</th> \n",
       "        <td id=\"T_84ebbf3e_68f1_11ea_a6d8_0242ac110006row34_col0\" class=\"data row34 col0\" >-166.556</td> \n",
       "        <td id=\"T_84ebbf3e_68f1_11ea_a6d8_0242ac110006row34_col1\" class=\"data row34 col1\" >0.185379</td> \n",
       "    </tr>    <tr> \n",
       "        <th id=\"T_84ebbf3e_68f1_11ea_a6d8_0242ac110006level0_row35\" class=\"row_heading level0 row35\" >35</th> \n",
       "        <td id=\"T_84ebbf3e_68f1_11ea_a6d8_0242ac110006row35_col0\" class=\"data row35 col0\" >-160.488</td> \n",
       "        <td id=\"T_84ebbf3e_68f1_11ea_a6d8_0242ac110006row35_col1\" class=\"data row35 col1\" >0.185379</td> \n",
       "    </tr>    <tr> \n",
       "        <th id=\"T_84ebbf3e_68f1_11ea_a6d8_0242ac110006level0_row36\" class=\"row_heading level0 row36\" >36</th> \n",
       "        <td id=\"T_84ebbf3e_68f1_11ea_a6d8_0242ac110006row36_col0\" class=\"data row36 col0\" >-154.255</td> \n",
       "        <td id=\"T_84ebbf3e_68f1_11ea_a6d8_0242ac110006row36_col1\" class=\"data row36 col1\" >0.185379</td> \n",
       "    </tr>    <tr> \n",
       "        <th id=\"T_84ebbf3e_68f1_11ea_a6d8_0242ac110006level0_row37\" class=\"row_heading level0 row37\" >37</th> \n",
       "        <td id=\"T_84ebbf3e_68f1_11ea_a6d8_0242ac110006row37_col0\" class=\"data row37 col0\" >-148.038</td> \n",
       "        <td id=\"T_84ebbf3e_68f1_11ea_a6d8_0242ac110006row37_col1\" class=\"data row37 col1\" >0.185379</td> \n",
       "    </tr>    <tr> \n",
       "        <th id=\"T_84ebbf3e_68f1_11ea_a6d8_0242ac110006level0_row38\" class=\"row_heading level0 row38\" >38</th> \n",
       "        <td id=\"T_84ebbf3e_68f1_11ea_a6d8_0242ac110006row38_col0\" class=\"data row38 col0\" >-142.199</td> \n",
       "        <td id=\"T_84ebbf3e_68f1_11ea_a6d8_0242ac110006row38_col1\" class=\"data row38 col1\" >0.185379</td> \n",
       "    </tr>    <tr> \n",
       "        <th id=\"T_84ebbf3e_68f1_11ea_a6d8_0242ac110006level0_row39\" class=\"row_heading level0 row39\" >39</th> \n",
       "        <td id=\"T_84ebbf3e_68f1_11ea_a6d8_0242ac110006row39_col0\" class=\"data row39 col0\" >-136.461</td> \n",
       "        <td id=\"T_84ebbf3e_68f1_11ea_a6d8_0242ac110006row39_col1\" class=\"data row39 col1\" >0.185379</td> \n",
       "    </tr>    <tr> \n",
       "        <th id=\"T_84ebbf3e_68f1_11ea_a6d8_0242ac110006level0_row40\" class=\"row_heading level0 row40\" >40</th> \n",
       "        <td id=\"T_84ebbf3e_68f1_11ea_a6d8_0242ac110006row40_col0\" class=\"data row40 col0\" >-130.622</td> \n",
       "        <td id=\"T_84ebbf3e_68f1_11ea_a6d8_0242ac110006row40_col1\" class=\"data row40 col1\" >0.185379</td> \n",
       "    </tr>    <tr> \n",
       "        <th id=\"T_84ebbf3e_68f1_11ea_a6d8_0242ac110006level0_row41\" class=\"row_heading level0 row41\" >41</th> \n",
       "        <td id=\"T_84ebbf3e_68f1_11ea_a6d8_0242ac110006row41_col0\" class=\"data row41 col0\" >-124.566</td> \n",
       "        <td id=\"T_84ebbf3e_68f1_11ea_a6d8_0242ac110006row41_col1\" class=\"data row41 col1\" >0.185379</td> \n",
       "    </tr>    <tr> \n",
       "        <th id=\"T_84ebbf3e_68f1_11ea_a6d8_0242ac110006level0_row42\" class=\"row_heading level0 row42\" >42</th> \n",
       "        <td id=\"T_84ebbf3e_68f1_11ea_a6d8_0242ac110006row42_col0\" class=\"data row42 col0\" >-118.917</td> \n",
       "        <td id=\"T_84ebbf3e_68f1_11ea_a6d8_0242ac110006row42_col1\" class=\"data row42 col1\" >0.185379</td> \n",
       "    </tr>    <tr> \n",
       "        <th id=\"T_84ebbf3e_68f1_11ea_a6d8_0242ac110006level0_row43\" class=\"row_heading level0 row43\" >43</th> \n",
       "        <td id=\"T_84ebbf3e_68f1_11ea_a6d8_0242ac110006row43_col0\" class=\"data row43 col0\" >-113.615</td> \n",
       "        <td id=\"T_84ebbf3e_68f1_11ea_a6d8_0242ac110006row43_col1\" class=\"data row43 col1\" >0.185379</td> \n",
       "    </tr>    <tr> \n",
       "        <th id=\"T_84ebbf3e_68f1_11ea_a6d8_0242ac110006level0_row44\" class=\"row_heading level0 row44\" >44</th> \n",
       "        <td id=\"T_84ebbf3e_68f1_11ea_a6d8_0242ac110006row44_col0\" class=\"data row44 col0\" >-107.867</td> \n",
       "        <td id=\"T_84ebbf3e_68f1_11ea_a6d8_0242ac110006row44_col1\" class=\"data row44 col1\" >0.185379</td> \n",
       "    </tr>    <tr> \n",
       "        <th id=\"T_84ebbf3e_68f1_11ea_a6d8_0242ac110006level0_row45\" class=\"row_heading level0 row45\" >45</th> \n",
       "        <td id=\"T_84ebbf3e_68f1_11ea_a6d8_0242ac110006row45_col0\" class=\"data row45 col0\" >-102.401</td> \n",
       "        <td id=\"T_84ebbf3e_68f1_11ea_a6d8_0242ac110006row45_col1\" class=\"data row45 col1\" >0.185379</td> \n",
       "    </tr>    <tr> \n",
       "        <th id=\"T_84ebbf3e_68f1_11ea_a6d8_0242ac110006level0_row46\" class=\"row_heading level0 row46\" >46</th> \n",
       "        <td id=\"T_84ebbf3e_68f1_11ea_a6d8_0242ac110006row46_col0\" class=\"data row46 col0\" >-97.2997</td> \n",
       "        <td id=\"T_84ebbf3e_68f1_11ea_a6d8_0242ac110006row46_col1\" class=\"data row46 col1\" >0.185379</td> \n",
       "    </tr>    <tr> \n",
       "        <th id=\"T_84ebbf3e_68f1_11ea_a6d8_0242ac110006level0_row47\" class=\"row_heading level0 row47\" >47</th> \n",
       "        <td id=\"T_84ebbf3e_68f1_11ea_a6d8_0242ac110006row47_col0\" class=\"data row47 col0\" >-91.9756</td> \n",
       "        <td id=\"T_84ebbf3e_68f1_11ea_a6d8_0242ac110006row47_col1\" class=\"data row47 col1\" >0.185379</td> \n",
       "    </tr>    <tr> \n",
       "        <th id=\"T_84ebbf3e_68f1_11ea_a6d8_0242ac110006level0_row48\" class=\"row_heading level0 row48\" >48</th> \n",
       "        <td id=\"T_84ebbf3e_68f1_11ea_a6d8_0242ac110006row48_col0\" class=\"data row48 col0\" >-86.7842</td> \n",
       "        <td id=\"T_84ebbf3e_68f1_11ea_a6d8_0242ac110006row48_col1\" class=\"data row48 col1\" >0.185379</td> \n",
       "    </tr>    <tr> \n",
       "        <th id=\"T_84ebbf3e_68f1_11ea_a6d8_0242ac110006level0_row49\" class=\"row_heading level0 row49\" >49</th> \n",
       "        <td id=\"T_84ebbf3e_68f1_11ea_a6d8_0242ac110006row49_col0\" class=\"data row49 col0\" >-81.754</td> \n",
       "        <td id=\"T_84ebbf3e_68f1_11ea_a6d8_0242ac110006row49_col1\" class=\"data row49 col1\" >0.185379</td> \n",
       "    </tr>    <tr> \n",
       "        <th id=\"T_84ebbf3e_68f1_11ea_a6d8_0242ac110006level0_row50\" class=\"row_heading level0 row50\" >50</th> \n",
       "        <td id=\"T_84ebbf3e_68f1_11ea_a6d8_0242ac110006row50_col0\" class=\"data row50 col0\" >-76.6793</td> \n",
       "        <td id=\"T_84ebbf3e_68f1_11ea_a6d8_0242ac110006row50_col1\" class=\"data row50 col1\" >0.185379</td> \n",
       "    </tr>    <tr> \n",
       "        <th id=\"T_84ebbf3e_68f1_11ea_a6d8_0242ac110006level0_row51\" class=\"row_heading level0 row51\" >51</th> \n",
       "        <td id=\"T_84ebbf3e_68f1_11ea_a6d8_0242ac110006row51_col0\" class=\"data row51 col0\" >-71.6345</td> \n",
       "        <td id=\"T_84ebbf3e_68f1_11ea_a6d8_0242ac110006row51_col1\" class=\"data row51 col1\" >0.185379</td> \n",
       "    </tr>    <tr> \n",
       "        <th id=\"T_84ebbf3e_68f1_11ea_a6d8_0242ac110006level0_row52\" class=\"row_heading level0 row52\" >52</th> \n",
       "        <td id=\"T_84ebbf3e_68f1_11ea_a6d8_0242ac110006row52_col0\" class=\"data row52 col0\" >-66.6345</td> \n",
       "        <td id=\"T_84ebbf3e_68f1_11ea_a6d8_0242ac110006row52_col1\" class=\"data row52 col1\" >0.185379</td> \n",
       "    </tr>    <tr> \n",
       "        <th id=\"T_84ebbf3e_68f1_11ea_a6d8_0242ac110006level0_row53\" class=\"row_heading level0 row53\" >53</th> \n",
       "        <td id=\"T_84ebbf3e_68f1_11ea_a6d8_0242ac110006row53_col0\" class=\"data row53 col0\" >-61.8273</td> \n",
       "        <td id=\"T_84ebbf3e_68f1_11ea_a6d8_0242ac110006row53_col1\" class=\"data row53 col1\" >0.185379</td> \n",
       "    </tr>    <tr> \n",
       "        <th id=\"T_84ebbf3e_68f1_11ea_a6d8_0242ac110006level0_row54\" class=\"row_heading level0 row54\" >54</th> \n",
       "        <td id=\"T_84ebbf3e_68f1_11ea_a6d8_0242ac110006row54_col0\" class=\"data row54 col0\" >-57.0878</td> \n",
       "        <td id=\"T_84ebbf3e_68f1_11ea_a6d8_0242ac110006row54_col1\" class=\"data row54 col1\" >0.185379</td> \n",
       "    </tr>    <tr> \n",
       "        <th id=\"T_84ebbf3e_68f1_11ea_a6d8_0242ac110006level0_row55\" class=\"row_heading level0 row55\" >55</th> \n",
       "        <td id=\"T_84ebbf3e_68f1_11ea_a6d8_0242ac110006row55_col0\" class=\"data row55 col0\" >-52.2199</td> \n",
       "        <td id=\"T_84ebbf3e_68f1_11ea_a6d8_0242ac110006row55_col1\" class=\"data row55 col1\" >0.185379</td> \n",
       "    </tr>    <tr> \n",
       "        <th id=\"T_84ebbf3e_68f1_11ea_a6d8_0242ac110006level0_row56\" class=\"row_heading level0 row56\" >56</th> \n",
       "        <td id=\"T_84ebbf3e_68f1_11ea_a6d8_0242ac110006row56_col0\" class=\"data row56 col0\" >-47.5645</td> \n",
       "        <td id=\"T_84ebbf3e_68f1_11ea_a6d8_0242ac110006row56_col1\" class=\"data row56 col1\" >0.185379</td> \n",
       "    </tr>    <tr> \n",
       "        <th id=\"T_84ebbf3e_68f1_11ea_a6d8_0242ac110006level0_row57\" class=\"row_heading level0 row57\" >57</th> \n",
       "        <td id=\"T_84ebbf3e_68f1_11ea_a6d8_0242ac110006row57_col0\" class=\"data row57 col0\" >-43.1247</td> \n",
       "        <td id=\"T_84ebbf3e_68f1_11ea_a6d8_0242ac110006row57_col1\" class=\"data row57 col1\" >0.185379</td> \n",
       "    </tr>    <tr> \n",
       "        <th id=\"T_84ebbf3e_68f1_11ea_a6d8_0242ac110006level0_row58\" class=\"row_heading level0 row58\" >58</th> \n",
       "        <td id=\"T_84ebbf3e_68f1_11ea_a6d8_0242ac110006row58_col0\" class=\"data row58 col0\" >-38.6839</td> \n",
       "        <td id=\"T_84ebbf3e_68f1_11ea_a6d8_0242ac110006row58_col1\" class=\"data row58 col1\" >0.185379</td> \n",
       "    </tr>    <tr> \n",
       "        <th id=\"T_84ebbf3e_68f1_11ea_a6d8_0242ac110006level0_row59\" class=\"row_heading level0 row59\" >59</th> \n",
       "        <td id=\"T_84ebbf3e_68f1_11ea_a6d8_0242ac110006row59_col0\" class=\"data row59 col0\" >-34.1376</td> \n",
       "        <td id=\"T_84ebbf3e_68f1_11ea_a6d8_0242ac110006row59_col1\" class=\"data row59 col1\" >0.185379</td> \n",
       "    </tr>    <tr> \n",
       "        <th id=\"T_84ebbf3e_68f1_11ea_a6d8_0242ac110006level0_row60\" class=\"row_heading level0 row60\" >60</th> \n",
       "        <td id=\"T_84ebbf3e_68f1_11ea_a6d8_0242ac110006row60_col0\" class=\"data row60 col0\" >-30.0866</td> \n",
       "        <td id=\"T_84ebbf3e_68f1_11ea_a6d8_0242ac110006row60_col1\" class=\"data row60 col1\" >0.185379</td> \n",
       "    </tr>    <tr> \n",
       "        <th id=\"T_84ebbf3e_68f1_11ea_a6d8_0242ac110006level0_row61\" class=\"row_heading level0 row61\" >61</th> \n",
       "        <td id=\"T_84ebbf3e_68f1_11ea_a6d8_0242ac110006row61_col0\" class=\"data row61 col0\" >-26.0099</td> \n",
       "        <td id=\"T_84ebbf3e_68f1_11ea_a6d8_0242ac110006row61_col1\" class=\"data row61 col1\" >0.185379</td> \n",
       "    </tr>    <tr> \n",
       "        <th id=\"T_84ebbf3e_68f1_11ea_a6d8_0242ac110006level0_row62\" class=\"row_heading level0 row62\" >62</th> \n",
       "        <td id=\"T_84ebbf3e_68f1_11ea_a6d8_0242ac110006row62_col0\" class=\"data row62 col0\" >-22.0653</td> \n",
       "        <td id=\"T_84ebbf3e_68f1_11ea_a6d8_0242ac110006row62_col1\" class=\"data row62 col1\" >0.185379</td> \n",
       "    </tr>    <tr> \n",
       "        <th id=\"T_84ebbf3e_68f1_11ea_a6d8_0242ac110006level0_row63\" class=\"row_heading level0 row63\" >63</th> \n",
       "        <td id=\"T_84ebbf3e_68f1_11ea_a6d8_0242ac110006row63_col0\" class=\"data row63 col0\" >-18.2998</td> \n",
       "        <td id=\"T_84ebbf3e_68f1_11ea_a6d8_0242ac110006row63_col1\" class=\"data row63 col1\" >0.185379</td> \n",
       "    </tr>    <tr> \n",
       "        <th id=\"T_84ebbf3e_68f1_11ea_a6d8_0242ac110006level0_row64\" class=\"row_heading level0 row64\" >64</th> \n",
       "        <td id=\"T_84ebbf3e_68f1_11ea_a6d8_0242ac110006row64_col0\" class=\"data row64 col0\" >-14.6733</td> \n",
       "        <td id=\"T_84ebbf3e_68f1_11ea_a6d8_0242ac110006row64_col1\" class=\"data row64 col1\" >0.185379</td> \n",
       "    </tr>    <tr> \n",
       "        <th id=\"T_84ebbf3e_68f1_11ea_a6d8_0242ac110006level0_row65\" class=\"row_heading level0 row65\" >65</th> \n",
       "        <td id=\"T_84ebbf3e_68f1_11ea_a6d8_0242ac110006row65_col0\" class=\"data row65 col0\" >-11.1092</td> \n",
       "        <td id=\"T_84ebbf3e_68f1_11ea_a6d8_0242ac110006row65_col1\" class=\"data row65 col1\" >0.185379</td> \n",
       "    </tr>    <tr> \n",
       "        <th id=\"T_84ebbf3e_68f1_11ea_a6d8_0242ac110006level0_row66\" class=\"row_heading level0 row66\" >66</th> \n",
       "        <td id=\"T_84ebbf3e_68f1_11ea_a6d8_0242ac110006row66_col0\" class=\"data row66 col0\" >-8.21332</td> \n",
       "        <td id=\"T_84ebbf3e_68f1_11ea_a6d8_0242ac110006row66_col1\" class=\"data row66 col1\" >0.185379</td> \n",
       "    </tr>    <tr> \n",
       "        <th id=\"T_84ebbf3e_68f1_11ea_a6d8_0242ac110006level0_row67\" class=\"row_heading level0 row67\" >67</th> \n",
       "        <td id=\"T_84ebbf3e_68f1_11ea_a6d8_0242ac110006row67_col0\" class=\"data row67 col0\" >1.89437</td> \n",
       "        <td id=\"T_84ebbf3e_68f1_11ea_a6d8_0242ac110006row67_col1\" class=\"data row67 col1\" >0.185379</td> \n",
       "    </tr>    <tr> \n",
       "        <th id=\"T_84ebbf3e_68f1_11ea_a6d8_0242ac110006level0_row68\" class=\"row_heading level0 row68\" >68</th> \n",
       "        <td id=\"T_84ebbf3e_68f1_11ea_a6d8_0242ac110006row68_col0\" class=\"data row68 col0\" >110.255</td> \n",
       "        <td id=\"T_84ebbf3e_68f1_11ea_a6d8_0242ac110006row68_col1\" class=\"data row68 col1\" >0.185379</td> \n",
       "    </tr>    <tr> \n",
       "        <th id=\"T_84ebbf3e_68f1_11ea_a6d8_0242ac110006level0_row69\" class=\"row_heading level0 row69\" >69</th> \n",
       "        <td id=\"T_84ebbf3e_68f1_11ea_a6d8_0242ac110006row69_col0\" class=\"data row69 col0\" >23.9477</td> \n",
       "        <td id=\"T_84ebbf3e_68f1_11ea_a6d8_0242ac110006row69_col1\" class=\"data row69 col1\" >0.185379</td> \n",
       "    </tr>    <tr> \n",
       "        <th id=\"T_84ebbf3e_68f1_11ea_a6d8_0242ac110006level0_row70\" class=\"row_heading level0 row70\" >70</th> \n",
       "        <td id=\"T_84ebbf3e_68f1_11ea_a6d8_0242ac110006row70_col0\" class=\"data row70 col0\" >17.7641</td> \n",
       "        <td id=\"T_84ebbf3e_68f1_11ea_a6d8_0242ac110006row70_col1\" class=\"data row70 col1\" >0.185379</td> \n",
       "    </tr>    <tr> \n",
       "        <th id=\"T_84ebbf3e_68f1_11ea_a6d8_0242ac110006level0_row71\" class=\"row_heading level0 row71\" >71</th> \n",
       "        <td id=\"T_84ebbf3e_68f1_11ea_a6d8_0242ac110006row71_col0\" class=\"data row71 col0\" >-100</td> \n",
       "        <td id=\"T_84ebbf3e_68f1_11ea_a6d8_0242ac110006row71_col1\" class=\"data row71 col1\" >0.185379</td> \n",
       "    </tr></tbody> \n",
       "</table> "
      ],
      "text/plain": [
       "<pandas.io.formats.style.Styler at 0x7fdd9696db00>"
      ]
     },
     "execution_count": 30,
     "metadata": {},
     "output_type": "execute_result"
    }
   ],
   "source": [
    "import seaborn as sns\n",
    " \n",
    "cm = sns.light_palette(\"red\", as_cmap=True)\n",
    " \n",
    "experience_df[[\"Gt\",\"Value\"]].style.background_gradient(cmap='viridis')"
   ]
  },
  {
   "cell_type": "markdown",
   "metadata": {},
   "source": [
    "We see that , all the values in ```Vs``` column are same. Its normal, as The agent is yet to be trained!!"
   ]
  },
  {
   "cell_type": "markdown",
   "metadata": {},
   "source": [
    "<a id=\"vis\"></a>\n",
    "### Lets make a visualization function for future use"
   ]
  },
  {
   "cell_type": "code",
   "execution_count": 31,
   "metadata": {},
   "outputs": [],
   "source": [
    "def visualize(env,agent,gamma=0.99):\n",
    "    state = env.reset()\n",
    "    experience={\"state\":[],\n",
    "           \"action\":[],\n",
    "           \"reward\":[]}\n",
    "\n",
    "    for j in range(200):\n",
    "        experience[\"state\"].append(state)\n",
    "        action = agent.act(state)\n",
    "        new_state, reward, done, _ = env.step(action)\n",
    "        experience[\"action\"].append(action)\n",
    "        experience[\"reward\"].append(reward)\n",
    "\n",
    "        if done:\n",
    "            break \n",
    "\n",
    "    env.close()\n",
    "    experience_df=pd.DataFrame(experience)\n",
    "    rewards=experience_df.reward.values.tolist()\n",
    "    states= experience_df.state.values.tolist()\n",
    "    Gt=[None]*len(rewards)\n",
    "    Vs = [None]*len(states)\n",
    "    for i in range(len(rewards)):\n",
    "        s=rewards[i]\n",
    "        for j in range(1,len(rewards[i+1:])):\n",
    "            s=s+(gamma**j)*rewards[j]\n",
    "        Gt[i]=s\n",
    "    for i in range(len(states)):\n",
    "        state_tensor=torch.from_numpy(states[i]).float().unsqueeze(0).to(device)\n",
    "        agent.qnetwork_local.eval()\n",
    "        Qsa= agent.qnetwork_local(state_tensor)\n",
    "        Vs[i]=np.max(Qsa.cpu().detach().numpy(),axis=1)\n",
    "    experience_df[\"Gt\"]=Gt\n",
    "    experience_df[\"Value\"]=Vs\n",
    "    \n",
    "    return experience_df\n",
    "        "
   ]
  },
  {
   "cell_type": "code",
   "execution_count": 32,
   "metadata": {},
   "outputs": [],
   "source": [
    "experience_df=visualize(env,agent)"
   ]
  },
  {
   "cell_type": "code",
   "execution_count": 33,
   "metadata": {},
   "outputs": [
    {
     "data": {
      "text/html": [
       "<style  type=\"text/css\" >\n",
       "    #T_8513e716_68f1_11ea_a6d8_0242ac110006row0_col0 {\n",
       "            background-color:  #440154;\n",
       "        }    #T_8513e716_68f1_11ea_a6d8_0242ac110006row1_col0 {\n",
       "            background-color:  #450457;\n",
       "        }    #T_8513e716_68f1_11ea_a6d8_0242ac110006row2_col0 {\n",
       "            background-color:  #470d60;\n",
       "        }    #T_8513e716_68f1_11ea_a6d8_0242ac110006row3_col0 {\n",
       "            background-color:  #481668;\n",
       "        }    #T_8513e716_68f1_11ea_a6d8_0242ac110006row4_col0 {\n",
       "            background-color:  #481c6e;\n",
       "        }    #T_8513e716_68f1_11ea_a6d8_0242ac110006row5_col0 {\n",
       "            background-color:  #482374;\n",
       "        }    #T_8513e716_68f1_11ea_a6d8_0242ac110006row6_col0 {\n",
       "            background-color:  #482979;\n",
       "        }    #T_8513e716_68f1_11ea_a6d8_0242ac110006row7_col0 {\n",
       "            background-color:  #46307e;\n",
       "        }    #T_8513e716_68f1_11ea_a6d8_0242ac110006row8_col0 {\n",
       "            background-color:  #453781;\n",
       "        }    #T_8513e716_68f1_11ea_a6d8_0242ac110006row9_col0 {\n",
       "            background-color:  #443b84;\n",
       "        }    #T_8513e716_68f1_11ea_a6d8_0242ac110006row10_col0 {\n",
       "            background-color:  #424186;\n",
       "        }    #T_8513e716_68f1_11ea_a6d8_0242ac110006row11_col0 {\n",
       "            background-color:  #3f4788;\n",
       "        }    #T_8513e716_68f1_11ea_a6d8_0242ac110006row12_col0 {\n",
       "            background-color:  #3e4c8a;\n",
       "        }    #T_8513e716_68f1_11ea_a6d8_0242ac110006row13_col0 {\n",
       "            background-color:  #3b518b;\n",
       "        }    #T_8513e716_68f1_11ea_a6d8_0242ac110006row14_col0 {\n",
       "            background-color:  #39558c;\n",
       "        }    #T_8513e716_68f1_11ea_a6d8_0242ac110006row15_col0 {\n",
       "            background-color:  #375a8c;\n",
       "        }    #T_8513e716_68f1_11ea_a6d8_0242ac110006row16_col0 {\n",
       "            background-color:  #355e8d;\n",
       "        }    #T_8513e716_68f1_11ea_a6d8_0242ac110006row17_col0 {\n",
       "            background-color:  #33628d;\n",
       "        }    #T_8513e716_68f1_11ea_a6d8_0242ac110006row18_col0 {\n",
       "            background-color:  #31668e;\n",
       "        }    #T_8513e716_68f1_11ea_a6d8_0242ac110006row19_col0 {\n",
       "            background-color:  #306a8e;\n",
       "        }    #T_8513e716_68f1_11ea_a6d8_0242ac110006row20_col0 {\n",
       "            background-color:  #2e6e8e;\n",
       "        }    #T_8513e716_68f1_11ea_a6d8_0242ac110006row21_col0 {\n",
       "            background-color:  #2c718e;\n",
       "        }    #T_8513e716_68f1_11ea_a6d8_0242ac110006row22_col0 {\n",
       "            background-color:  #2b758e;\n",
       "        }    #T_8513e716_68f1_11ea_a6d8_0242ac110006row23_col0 {\n",
       "            background-color:  #29798e;\n",
       "        }    #T_8513e716_68f1_11ea_a6d8_0242ac110006row24_col0 {\n",
       "            background-color:  #287d8e;\n",
       "        }    #T_8513e716_68f1_11ea_a6d8_0242ac110006row25_col0 {\n",
       "            background-color:  #26818e;\n",
       "        }    #T_8513e716_68f1_11ea_a6d8_0242ac110006row26_col0 {\n",
       "            background-color:  #25848e;\n",
       "        }    #T_8513e716_68f1_11ea_a6d8_0242ac110006row27_col0 {\n",
       "            background-color:  #23888e;\n",
       "        }    #T_8513e716_68f1_11ea_a6d8_0242ac110006row28_col0 {\n",
       "            background-color:  #228c8d;\n",
       "        }    #T_8513e716_68f1_11ea_a6d8_0242ac110006row29_col0 {\n",
       "            background-color:  #218f8d;\n",
       "        }    #T_8513e716_68f1_11ea_a6d8_0242ac110006row30_col0 {\n",
       "            background-color:  #20928c;\n",
       "        }    #T_8513e716_68f1_11ea_a6d8_0242ac110006row31_col0 {\n",
       "            background-color:  #1f968b;\n",
       "        }    #T_8513e716_68f1_11ea_a6d8_0242ac110006row32_col0 {\n",
       "            background-color:  #1f9a8a;\n",
       "        }    #T_8513e716_68f1_11ea_a6d8_0242ac110006row33_col0 {\n",
       "            background-color:  #1f9e89;\n",
       "        }    #T_8513e716_68f1_11ea_a6d8_0242ac110006row34_col0 {\n",
       "            background-color:  #1fa188;\n",
       "        }    #T_8513e716_68f1_11ea_a6d8_0242ac110006row35_col0 {\n",
       "            background-color:  #20a486;\n",
       "        }    #T_8513e716_68f1_11ea_a6d8_0242ac110006row36_col0 {\n",
       "            background-color:  #22a884;\n",
       "        }    #T_8513e716_68f1_11ea_a6d8_0242ac110006row37_col0 {\n",
       "            background-color:  #25ac82;\n",
       "        }    #T_8513e716_68f1_11ea_a6d8_0242ac110006row38_col0 {\n",
       "            background-color:  #28ae80;\n",
       "        }    #T_8513e716_68f1_11ea_a6d8_0242ac110006row39_col0 {\n",
       "            background-color:  #2db27d;\n",
       "        }    #T_8513e716_68f1_11ea_a6d8_0242ac110006row40_col0 {\n",
       "            background-color:  #32b67a;\n",
       "        }    #T_8513e716_68f1_11ea_a6d8_0242ac110006row41_col0 {\n",
       "            background-color:  #37b878;\n",
       "        }    #T_8513e716_68f1_11ea_a6d8_0242ac110006row42_col0 {\n",
       "            background-color:  #3dbc74;\n",
       "        }    #T_8513e716_68f1_11ea_a6d8_0242ac110006row43_col0 {\n",
       "            background-color:  #42be71;\n",
       "        }    #T_8513e716_68f1_11ea_a6d8_0242ac110006row44_col0 {\n",
       "            background-color:  #4ac16d;\n",
       "        }    #T_8513e716_68f1_11ea_a6d8_0242ac110006row45_col0 {\n",
       "            background-color:  #50c46a;\n",
       "        }    #T_8513e716_68f1_11ea_a6d8_0242ac110006row46_col0 {\n",
       "            background-color:  #58c765;\n",
       "        }    #T_8513e716_68f1_11ea_a6d8_0242ac110006row47_col0 {\n",
       "            background-color:  #5ec962;\n",
       "        }    #T_8513e716_68f1_11ea_a6d8_0242ac110006row48_col0 {\n",
       "            background-color:  #65cb5e;\n",
       "        }    #T_8513e716_68f1_11ea_a6d8_0242ac110006row49_col0 {\n",
       "            background-color:  #6ccd5a;\n",
       "        }    #T_8513e716_68f1_11ea_a6d8_0242ac110006row50_col0 {\n",
       "            background-color:  #75d054;\n",
       "        }    #T_8513e716_68f1_11ea_a6d8_0242ac110006row51_col0 {\n",
       "            background-color:  #7cd250;\n",
       "        }    #T_8513e716_68f1_11ea_a6d8_0242ac110006row52_col0 {\n",
       "            background-color:  #84d44b;\n",
       "        }    #T_8513e716_68f1_11ea_a6d8_0242ac110006row53_col0 {\n",
       "            background-color:  #8bd646;\n",
       "        }    #T_8513e716_68f1_11ea_a6d8_0242ac110006row54_col0 {\n",
       "            background-color:  #93d741;\n",
       "        }    #T_8513e716_68f1_11ea_a6d8_0242ac110006row55_col0 {\n",
       "            background-color:  #9bd93c;\n",
       "        }    #T_8513e716_68f1_11ea_a6d8_0242ac110006row56_col0 {\n",
       "            background-color:  #a2da37;\n",
       "        }    #T_8513e716_68f1_11ea_a6d8_0242ac110006row57_col0 {\n",
       "            background-color:  #a8db34;\n",
       "        }    #T_8513e716_68f1_11ea_a6d8_0242ac110006row58_col0 {\n",
       "            background-color:  #b0dd2f;\n",
       "        }    #T_8513e716_68f1_11ea_a6d8_0242ac110006row59_col0 {\n",
       "            background-color:  #b5de2b;\n",
       "        }    #T_8513e716_68f1_11ea_a6d8_0242ac110006row60_col0 {\n",
       "            background-color:  #bddf26;\n",
       "        }    #T_8513e716_68f1_11ea_a6d8_0242ac110006row61_col0 {\n",
       "            background-color:  #c2df23;\n",
       "        }    #T_8513e716_68f1_11ea_a6d8_0242ac110006row62_col0 {\n",
       "            background-color:  #c8e020;\n",
       "        }    #T_8513e716_68f1_11ea_a6d8_0242ac110006row63_col0 {\n",
       "            background-color:  #cde11d;\n",
       "        }    #T_8513e716_68f1_11ea_a6d8_0242ac110006row64_col0 {\n",
       "            background-color:  #d2e21b;\n",
       "        }    #T_8513e716_68f1_11ea_a6d8_0242ac110006row65_col0 {\n",
       "            background-color:  #d8e219;\n",
       "        }    #T_8513e716_68f1_11ea_a6d8_0242ac110006row66_col0 {\n",
       "            background-color:  #dae319;\n",
       "        }    #T_8513e716_68f1_11ea_a6d8_0242ac110006row67_col0 {\n",
       "            background-color:  #dfe318;\n",
       "        }    #T_8513e716_68f1_11ea_a6d8_0242ac110006row68_col0 {\n",
       "            background-color:  #e2e418;\n",
       "        }    #T_8513e716_68f1_11ea_a6d8_0242ac110006row69_col0 {\n",
       "            background-color:  #e5e419;\n",
       "        }    #T_8513e716_68f1_11ea_a6d8_0242ac110006row70_col0 {\n",
       "            background-color:  #eae51a;\n",
       "        }    #T_8513e716_68f1_11ea_a6d8_0242ac110006row71_col0 {\n",
       "            background-color:  #ece51b;\n",
       "        }    #T_8513e716_68f1_11ea_a6d8_0242ac110006row72_col0 {\n",
       "            background-color:  #efe51c;\n",
       "        }    #T_8513e716_68f1_11ea_a6d8_0242ac110006row73_col0 {\n",
       "            background-color:  #fde725;\n",
       "        }    #T_8513e716_68f1_11ea_a6d8_0242ac110006row74_col0 {\n",
       "            background-color:  #7ad151;\n",
       "        }</style>  \n",
       "<table id=\"T_8513e716_68f1_11ea_a6d8_0242ac110006\" > \n",
       "<thead>    <tr> \n",
       "        <th class=\"blank level0\" ></th> \n",
       "        <th class=\"col_heading level0 col0\" >Gt</th> \n",
       "        <th class=\"col_heading level0 col1\" >Value</th> \n",
       "    </tr></thead> \n",
       "<tbody>    <tr> \n",
       "        <th id=\"T_8513e716_68f1_11ea_a6d8_0242ac110006level0_row0\" class=\"row_heading level0 row0\" >0</th> \n",
       "        <td id=\"T_8513e716_68f1_11ea_a6d8_0242ac110006row0_col0\" class=\"data row0 col0\" >-450.677</td> \n",
       "        <td id=\"T_8513e716_68f1_11ea_a6d8_0242ac110006row0_col1\" class=\"data row0 col1\" >[0.1541377]</td> \n",
       "    </tr>    <tr> \n",
       "        <th id=\"T_8513e716_68f1_11ea_a6d8_0242ac110006level0_row1\" class=\"row_heading level0 row1\" >1</th> \n",
       "        <td id=\"T_8513e716_68f1_11ea_a6d8_0242ac110006row1_col0\" class=\"data row1 col0\" >-445.528</td> \n",
       "        <td id=\"T_8513e716_68f1_11ea_a6d8_0242ac110006row1_col1\" class=\"data row1 col1\" >[0.1541377]</td> \n",
       "    </tr>    <tr> \n",
       "        <th id=\"T_8513e716_68f1_11ea_a6d8_0242ac110006level0_row2\" class=\"row_heading level0 row2\" >2</th> \n",
       "        <td id=\"T_8513e716_68f1_11ea_a6d8_0242ac110006row2_col0\" class=\"data row2 col0\" >-436.241</td> \n",
       "        <td id=\"T_8513e716_68f1_11ea_a6d8_0242ac110006row2_col1\" class=\"data row2 col1\" >[0.1541377]</td> \n",
       "    </tr>    <tr> \n",
       "        <th id=\"T_8513e716_68f1_11ea_a6d8_0242ac110006level0_row3\" class=\"row_heading level0 row3\" >3</th> \n",
       "        <td id=\"T_8513e716_68f1_11ea_a6d8_0242ac110006row3_col0\" class=\"data row3 col0\" >-426.488</td> \n",
       "        <td id=\"T_8513e716_68f1_11ea_a6d8_0242ac110006row3_col1\" class=\"data row3 col1\" >[0.1541377]</td> \n",
       "    </tr>    <tr> \n",
       "        <th id=\"T_8513e716_68f1_11ea_a6d8_0242ac110006level0_row4\" class=\"row_heading level0 row4\" >4</th> \n",
       "        <td id=\"T_8513e716_68f1_11ea_a6d8_0242ac110006row4_col0\" class=\"data row4 col0\" >-417.32</td> \n",
       "        <td id=\"T_8513e716_68f1_11ea_a6d8_0242ac110006row4_col1\" class=\"data row4 col1\" >[0.1541377]</td> \n",
       "    </tr>    <tr> \n",
       "        <th id=\"T_8513e716_68f1_11ea_a6d8_0242ac110006level0_row5\" class=\"row_heading level0 row5\" >5</th> \n",
       "        <td id=\"T_8513e716_68f1_11ea_a6d8_0242ac110006row5_col0\" class=\"data row5 col0\" >-408.059</td> \n",
       "        <td id=\"T_8513e716_68f1_11ea_a6d8_0242ac110006row5_col1\" class=\"data row5 col1\" >[0.1541377]</td> \n",
       "    </tr>    <tr> \n",
       "        <th id=\"T_8513e716_68f1_11ea_a6d8_0242ac110006level0_row6\" class=\"row_heading level0 row6\" >6</th> \n",
       "        <td id=\"T_8513e716_68f1_11ea_a6d8_0242ac110006row6_col0\" class=\"data row6 col0\" >-399.419</td> \n",
       "        <td id=\"T_8513e716_68f1_11ea_a6d8_0242ac110006row6_col1\" class=\"data row6 col1\" >[0.1541377]</td> \n",
       "    </tr>    <tr> \n",
       "        <th id=\"T_8513e716_68f1_11ea_a6d8_0242ac110006level0_row7\" class=\"row_heading level0 row7\" >7</th> \n",
       "        <td id=\"T_8513e716_68f1_11ea_a6d8_0242ac110006row7_col0\" class=\"data row7 col0\" >-390.423</td> \n",
       "        <td id=\"T_8513e716_68f1_11ea_a6d8_0242ac110006row7_col1\" class=\"data row7 col1\" >[0.1541377]</td> \n",
       "    </tr>    <tr> \n",
       "        <th id=\"T_8513e716_68f1_11ea_a6d8_0242ac110006level0_row8\" class=\"row_heading level0 row8\" >8</th> \n",
       "        <td id=\"T_8513e716_68f1_11ea_a6d8_0242ac110006row8_col0\" class=\"data row8 col0\" >-381.858</td> \n",
       "        <td id=\"T_8513e716_68f1_11ea_a6d8_0242ac110006row8_col1\" class=\"data row8 col1\" >[0.1541377]</td> \n",
       "    </tr>    <tr> \n",
       "        <th id=\"T_8513e716_68f1_11ea_a6d8_0242ac110006level0_row9\" class=\"row_heading level0 row9\" >9</th> \n",
       "        <td id=\"T_8513e716_68f1_11ea_a6d8_0242ac110006row9_col0\" class=\"data row9 col0\" >-373.59</td> \n",
       "        <td id=\"T_8513e716_68f1_11ea_a6d8_0242ac110006row9_col1\" class=\"data row9 col1\" >[0.1541377]</td> \n",
       "    </tr>    <tr> \n",
       "        <th id=\"T_8513e716_68f1_11ea_a6d8_0242ac110006level0_row10\" class=\"row_heading level0 row10\" >10</th> \n",
       "        <td id=\"T_8513e716_68f1_11ea_a6d8_0242ac110006row10_col0\" class=\"data row10 col0\" >-365.195</td> \n",
       "        <td id=\"T_8513e716_68f1_11ea_a6d8_0242ac110006row10_col1\" class=\"data row10 col1\" >[0.1541377]</td> \n",
       "    </tr>    <tr> \n",
       "        <th id=\"T_8513e716_68f1_11ea_a6d8_0242ac110006level0_row11\" class=\"row_heading level0 row11\" >11</th> \n",
       "        <td id=\"T_8513e716_68f1_11ea_a6d8_0242ac110006row11_col0\" class=\"data row11 col0\" >-357.736</td> \n",
       "        <td id=\"T_8513e716_68f1_11ea_a6d8_0242ac110006row11_col1\" class=\"data row11 col1\" >[0.1541377]</td> \n",
       "    </tr>    <tr> \n",
       "        <th id=\"T_8513e716_68f1_11ea_a6d8_0242ac110006level0_row12\" class=\"row_heading level0 row12\" >12</th> \n",
       "        <td id=\"T_8513e716_68f1_11ea_a6d8_0242ac110006row12_col0\" class=\"data row12 col0\" >-349.958</td> \n",
       "        <td id=\"T_8513e716_68f1_11ea_a6d8_0242ac110006row12_col1\" class=\"data row12 col1\" >[0.1541377]</td> \n",
       "    </tr>    <tr> \n",
       "        <th id=\"T_8513e716_68f1_11ea_a6d8_0242ac110006level0_row13\" class=\"row_heading level0 row13\" >13</th> \n",
       "        <td id=\"T_8513e716_68f1_11ea_a6d8_0242ac110006row13_col0\" class=\"data row13 col0\" >-342.358</td> \n",
       "        <td id=\"T_8513e716_68f1_11ea_a6d8_0242ac110006row13_col1\" class=\"data row13 col1\" >[0.1541377]</td> \n",
       "    </tr>    <tr> \n",
       "        <th id=\"T_8513e716_68f1_11ea_a6d8_0242ac110006level0_row14\" class=\"row_heading level0 row14\" >14</th> \n",
       "        <td id=\"T_8513e716_68f1_11ea_a6d8_0242ac110006row14_col0\" class=\"data row14 col0\" >-335.009</td> \n",
       "        <td id=\"T_8513e716_68f1_11ea_a6d8_0242ac110006row14_col1\" class=\"data row14 col1\" >[0.1541377]</td> \n",
       "    </tr>    <tr> \n",
       "        <th id=\"T_8513e716_68f1_11ea_a6d8_0242ac110006level0_row15\" class=\"row_heading level0 row15\" >15</th> \n",
       "        <td id=\"T_8513e716_68f1_11ea_a6d8_0242ac110006row15_col0\" class=\"data row15 col0\" >-327.655</td> \n",
       "        <td id=\"T_8513e716_68f1_11ea_a6d8_0242ac110006row15_col1\" class=\"data row15 col1\" >[0.1541377]</td> \n",
       "    </tr>    <tr> \n",
       "        <th id=\"T_8513e716_68f1_11ea_a6d8_0242ac110006level0_row16\" class=\"row_heading level0 row16\" >16</th> \n",
       "        <td id=\"T_8513e716_68f1_11ea_a6d8_0242ac110006row16_col0\" class=\"data row16 col0\" >-320.365</td> \n",
       "        <td id=\"T_8513e716_68f1_11ea_a6d8_0242ac110006row16_col1\" class=\"data row16 col1\" >[0.1541377]</td> \n",
       "    </tr>    <tr> \n",
       "        <th id=\"T_8513e716_68f1_11ea_a6d8_0242ac110006level0_row17\" class=\"row_heading level0 row17\" >17</th> \n",
       "        <td id=\"T_8513e716_68f1_11ea_a6d8_0242ac110006row17_col0\" class=\"data row17 col0\" >-313.666</td> \n",
       "        <td id=\"T_8513e716_68f1_11ea_a6d8_0242ac110006row17_col1\" class=\"data row17 col1\" >[0.1541377]</td> \n",
       "    </tr>    <tr> \n",
       "        <th id=\"T_8513e716_68f1_11ea_a6d8_0242ac110006level0_row18\" class=\"row_heading level0 row18\" >18</th> \n",
       "        <td id=\"T_8513e716_68f1_11ea_a6d8_0242ac110006row18_col0\" class=\"data row18 col0\" >-306.609</td> \n",
       "        <td id=\"T_8513e716_68f1_11ea_a6d8_0242ac110006row18_col1\" class=\"data row18 col1\" >[0.1541377]</td> \n",
       "    </tr>    <tr> \n",
       "        <th id=\"T_8513e716_68f1_11ea_a6d8_0242ac110006level0_row19\" class=\"row_heading level0 row19\" >19</th> \n",
       "        <td id=\"T_8513e716_68f1_11ea_a6d8_0242ac110006row19_col0\" class=\"data row19 col0\" >-299.627</td> \n",
       "        <td id=\"T_8513e716_68f1_11ea_a6d8_0242ac110006row19_col1\" class=\"data row19 col1\" >[0.1541377]</td> \n",
       "    </tr>    <tr> \n",
       "        <th id=\"T_8513e716_68f1_11ea_a6d8_0242ac110006level0_row20\" class=\"row_heading level0 row20\" >20</th> \n",
       "        <td id=\"T_8513e716_68f1_11ea_a6d8_0242ac110006row20_col0\" class=\"data row20 col0\" >-292.845</td> \n",
       "        <td id=\"T_8513e716_68f1_11ea_a6d8_0242ac110006row20_col1\" class=\"data row20 col1\" >[0.1541377]</td> \n",
       "    </tr>    <tr> \n",
       "        <th id=\"T_8513e716_68f1_11ea_a6d8_0242ac110006level0_row21\" class=\"row_heading level0 row21\" >21</th> \n",
       "        <td id=\"T_8513e716_68f1_11ea_a6d8_0242ac110006row21_col0\" class=\"data row21 col0\" >-285.935</td> \n",
       "        <td id=\"T_8513e716_68f1_11ea_a6d8_0242ac110006row21_col1\" class=\"data row21 col1\" >[0.1541377]</td> \n",
       "    </tr>    <tr> \n",
       "        <th id=\"T_8513e716_68f1_11ea_a6d8_0242ac110006level0_row22\" class=\"row_heading level0 row22\" >22</th> \n",
       "        <td id=\"T_8513e716_68f1_11ea_a6d8_0242ac110006row22_col0\" class=\"data row22 col0\" >-279.089</td> \n",
       "        <td id=\"T_8513e716_68f1_11ea_a6d8_0242ac110006row22_col1\" class=\"data row22 col1\" >[0.1541377]</td> \n",
       "    </tr>    <tr> \n",
       "        <th id=\"T_8513e716_68f1_11ea_a6d8_0242ac110006level0_row23\" class=\"row_heading level0 row23\" >23</th> \n",
       "        <td id=\"T_8513e716_68f1_11ea_a6d8_0242ac110006row23_col0\" class=\"data row23 col0\" >-272.559</td> \n",
       "        <td id=\"T_8513e716_68f1_11ea_a6d8_0242ac110006row23_col1\" class=\"data row23 col1\" >[0.1541377]</td> \n",
       "    </tr>    <tr> \n",
       "        <th id=\"T_8513e716_68f1_11ea_a6d8_0242ac110006level0_row24\" class=\"row_heading level0 row24\" >24</th> \n",
       "        <td id=\"T_8513e716_68f1_11ea_a6d8_0242ac110006row24_col0\" class=\"data row24 col0\" >-265.92</td> \n",
       "        <td id=\"T_8513e716_68f1_11ea_a6d8_0242ac110006row24_col1\" class=\"data row24 col1\" >[0.1541377]</td> \n",
       "    </tr>    <tr> \n",
       "        <th id=\"T_8513e716_68f1_11ea_a6d8_0242ac110006level0_row25\" class=\"row_heading level0 row25\" >25</th> \n",
       "        <td id=\"T_8513e716_68f1_11ea_a6d8_0242ac110006row25_col0\" class=\"data row25 col0\" >-259.235</td> \n",
       "        <td id=\"T_8513e716_68f1_11ea_a6d8_0242ac110006row25_col1\" class=\"data row25 col1\" >[0.1541377]</td> \n",
       "    </tr>    <tr> \n",
       "        <th id=\"T_8513e716_68f1_11ea_a6d8_0242ac110006level0_row26\" class=\"row_heading level0 row26\" >26</th> \n",
       "        <td id=\"T_8513e716_68f1_11ea_a6d8_0242ac110006row26_col0\" class=\"data row26 col0\" >-252.39</td> \n",
       "        <td id=\"T_8513e716_68f1_11ea_a6d8_0242ac110006row26_col1\" class=\"data row26 col1\" >[0.1541377]</td> \n",
       "    </tr>    <tr> \n",
       "        <th id=\"T_8513e716_68f1_11ea_a6d8_0242ac110006level0_row27\" class=\"row_heading level0 row27\" >27</th> \n",
       "        <td id=\"T_8513e716_68f1_11ea_a6d8_0242ac110006row27_col0\" class=\"data row27 col0\" >-245.647</td> \n",
       "        <td id=\"T_8513e716_68f1_11ea_a6d8_0242ac110006row27_col1\" class=\"data row27 col1\" >[0.1541377]</td> \n",
       "    </tr>    <tr> \n",
       "        <th id=\"T_8513e716_68f1_11ea_a6d8_0242ac110006level0_row28\" class=\"row_heading level0 row28\" >28</th> \n",
       "        <td id=\"T_8513e716_68f1_11ea_a6d8_0242ac110006row28_col0\" class=\"data row28 col0\" >-239.061</td> \n",
       "        <td id=\"T_8513e716_68f1_11ea_a6d8_0242ac110006row28_col1\" class=\"data row28 col1\" >[0.1541377]</td> \n",
       "    </tr>    <tr> \n",
       "        <th id=\"T_8513e716_68f1_11ea_a6d8_0242ac110006level0_row29\" class=\"row_heading level0 row29\" >29</th> \n",
       "        <td id=\"T_8513e716_68f1_11ea_a6d8_0242ac110006row29_col0\" class=\"data row29 col0\" >-232.623</td> \n",
       "        <td id=\"T_8513e716_68f1_11ea_a6d8_0242ac110006row29_col1\" class=\"data row29 col1\" >[0.1541377]</td> \n",
       "    </tr>    <tr> \n",
       "        <th id=\"T_8513e716_68f1_11ea_a6d8_0242ac110006level0_row30\" class=\"row_heading level0 row30\" >30</th> \n",
       "        <td id=\"T_8513e716_68f1_11ea_a6d8_0242ac110006row30_col0\" class=\"data row30 col0\" >-226.077</td> \n",
       "        <td id=\"T_8513e716_68f1_11ea_a6d8_0242ac110006row30_col1\" class=\"data row30 col1\" >[0.1541377]</td> \n",
       "    </tr>    <tr> \n",
       "        <th id=\"T_8513e716_68f1_11ea_a6d8_0242ac110006level0_row31\" class=\"row_heading level0 row31\" >31</th> \n",
       "        <td id=\"T_8513e716_68f1_11ea_a6d8_0242ac110006row31_col0\" class=\"data row31 col0\" >-219.508</td> \n",
       "        <td id=\"T_8513e716_68f1_11ea_a6d8_0242ac110006row31_col1\" class=\"data row31 col1\" >[0.1541377]</td> \n",
       "    </tr>    <tr> \n",
       "        <th id=\"T_8513e716_68f1_11ea_a6d8_0242ac110006level0_row32\" class=\"row_heading level0 row32\" >32</th> \n",
       "        <td id=\"T_8513e716_68f1_11ea_a6d8_0242ac110006row32_col0\" class=\"data row32 col0\" >-212.896</td> \n",
       "        <td id=\"T_8513e716_68f1_11ea_a6d8_0242ac110006row32_col1\" class=\"data row32 col1\" >[0.1541377]</td> \n",
       "    </tr>    <tr> \n",
       "        <th id=\"T_8513e716_68f1_11ea_a6d8_0242ac110006level0_row33\" class=\"row_heading level0 row33\" >33</th> \n",
       "        <td id=\"T_8513e716_68f1_11ea_a6d8_0242ac110006row33_col0\" class=\"data row33 col0\" >-206.416</td> \n",
       "        <td id=\"T_8513e716_68f1_11ea_a6d8_0242ac110006row33_col1\" class=\"data row33 col1\" >[0.1541377]</td> \n",
       "    </tr>    <tr> \n",
       "        <th id=\"T_8513e716_68f1_11ea_a6d8_0242ac110006level0_row34\" class=\"row_heading level0 row34\" >34</th> \n",
       "        <td id=\"T_8513e716_68f1_11ea_a6d8_0242ac110006row34_col0\" class=\"data row34 col0\" >-199.92</td> \n",
       "        <td id=\"T_8513e716_68f1_11ea_a6d8_0242ac110006row34_col1\" class=\"data row34 col1\" >[0.1541377]</td> \n",
       "    </tr>    <tr> \n",
       "        <th id=\"T_8513e716_68f1_11ea_a6d8_0242ac110006level0_row35\" class=\"row_heading level0 row35\" >35</th> \n",
       "        <td id=\"T_8513e716_68f1_11ea_a6d8_0242ac110006row35_col0\" class=\"data row35 col0\" >-193.369</td> \n",
       "        <td id=\"T_8513e716_68f1_11ea_a6d8_0242ac110006row35_col1\" class=\"data row35 col1\" >[0.1541377]</td> \n",
       "    </tr>    <tr> \n",
       "        <th id=\"T_8513e716_68f1_11ea_a6d8_0242ac110006level0_row36\" class=\"row_heading level0 row36\" >36</th> \n",
       "        <td id=\"T_8513e716_68f1_11ea_a6d8_0242ac110006row36_col0\" class=\"data row36 col0\" >-186.951</td> \n",
       "        <td id=\"T_8513e716_68f1_11ea_a6d8_0242ac110006row36_col1\" class=\"data row36 col1\" >[0.1541377]</td> \n",
       "    </tr>    <tr> \n",
       "        <th id=\"T_8513e716_68f1_11ea_a6d8_0242ac110006level0_row37\" class=\"row_heading level0 row37\" >37</th> \n",
       "        <td id=\"T_8513e716_68f1_11ea_a6d8_0242ac110006row37_col0\" class=\"data row37 col0\" >-180.553</td> \n",
       "        <td id=\"T_8513e716_68f1_11ea_a6d8_0242ac110006row37_col1\" class=\"data row37 col1\" >[0.1541377]</td> \n",
       "    </tr>    <tr> \n",
       "        <th id=\"T_8513e716_68f1_11ea_a6d8_0242ac110006level0_row38\" class=\"row_heading level0 row38\" >38</th> \n",
       "        <td id=\"T_8513e716_68f1_11ea_a6d8_0242ac110006row38_col0\" class=\"data row38 col0\" >-174.277</td> \n",
       "        <td id=\"T_8513e716_68f1_11ea_a6d8_0242ac110006row38_col1\" class=\"data row38 col1\" >[0.1541377]</td> \n",
       "    </tr>    <tr> \n",
       "        <th id=\"T_8513e716_68f1_11ea_a6d8_0242ac110006level0_row39\" class=\"row_heading level0 row39\" >39</th> \n",
       "        <td id=\"T_8513e716_68f1_11ea_a6d8_0242ac110006row39_col0\" class=\"data row39 col0\" >-168.001</td> \n",
       "        <td id=\"T_8513e716_68f1_11ea_a6d8_0242ac110006row39_col1\" class=\"data row39 col1\" >[0.1541377]</td> \n",
       "    </tr>    <tr> \n",
       "        <th id=\"T_8513e716_68f1_11ea_a6d8_0242ac110006level0_row40\" class=\"row_heading level0 row40\" >40</th> \n",
       "        <td id=\"T_8513e716_68f1_11ea_a6d8_0242ac110006row40_col0\" class=\"data row40 col0\" >-161.794</td> \n",
       "        <td id=\"T_8513e716_68f1_11ea_a6d8_0242ac110006row40_col1\" class=\"data row40 col1\" >[0.1541377]</td> \n",
       "    </tr>    <tr> \n",
       "        <th id=\"T_8513e716_68f1_11ea_a6d8_0242ac110006level0_row41\" class=\"row_heading level0 row41\" >41</th> \n",
       "        <td id=\"T_8513e716_68f1_11ea_a6d8_0242ac110006row41_col0\" class=\"data row41 col0\" >-155.498</td> \n",
       "        <td id=\"T_8513e716_68f1_11ea_a6d8_0242ac110006row41_col1\" class=\"data row41 col1\" >[0.1541377]</td> \n",
       "    </tr>    <tr> \n",
       "        <th id=\"T_8513e716_68f1_11ea_a6d8_0242ac110006level0_row42\" class=\"row_heading level0 row42\" >42</th> \n",
       "        <td id=\"T_8513e716_68f1_11ea_a6d8_0242ac110006row42_col0\" class=\"data row42 col0\" >-149.432</td> \n",
       "        <td id=\"T_8513e716_68f1_11ea_a6d8_0242ac110006row42_col1\" class=\"data row42 col1\" >[0.1541377]</td> \n",
       "    </tr>    <tr> \n",
       "        <th id=\"T_8513e716_68f1_11ea_a6d8_0242ac110006level0_row43\" class=\"row_heading level0 row43\" >43</th> \n",
       "        <td id=\"T_8513e716_68f1_11ea_a6d8_0242ac110006row43_col0\" class=\"data row43 col0\" >-143.369</td> \n",
       "        <td id=\"T_8513e716_68f1_11ea_a6d8_0242ac110006row43_col1\" class=\"data row43 col1\" >[0.1541377]</td> \n",
       "    </tr>    <tr> \n",
       "        <th id=\"T_8513e716_68f1_11ea_a6d8_0242ac110006level0_row44\" class=\"row_heading level0 row44\" >44</th> \n",
       "        <td id=\"T_8513e716_68f1_11ea_a6d8_0242ac110006row44_col0\" class=\"data row44 col0\" >-137.305</td> \n",
       "        <td id=\"T_8513e716_68f1_11ea_a6d8_0242ac110006row44_col1\" class=\"data row44 col1\" >[0.1541377]</td> \n",
       "    </tr>    <tr> \n",
       "        <th id=\"T_8513e716_68f1_11ea_a6d8_0242ac110006level0_row45\" class=\"row_heading level0 row45\" >45</th> \n",
       "        <td id=\"T_8513e716_68f1_11ea_a6d8_0242ac110006row45_col0\" class=\"data row45 col0\" >-131.404</td> \n",
       "        <td id=\"T_8513e716_68f1_11ea_a6d8_0242ac110006row45_col1\" class=\"data row45 col1\" >[0.1541377]</td> \n",
       "    </tr>    <tr> \n",
       "        <th id=\"T_8513e716_68f1_11ea_a6d8_0242ac110006level0_row46\" class=\"row_heading level0 row46\" >46</th> \n",
       "        <td id=\"T_8513e716_68f1_11ea_a6d8_0242ac110006row46_col0\" class=\"data row46 col0\" >-125.747</td> \n",
       "        <td id=\"T_8513e716_68f1_11ea_a6d8_0242ac110006row46_col1\" class=\"data row46 col1\" >[0.1541377]</td> \n",
       "    </tr>    <tr> \n",
       "        <th id=\"T_8513e716_68f1_11ea_a6d8_0242ac110006level0_row47\" class=\"row_heading level0 row47\" >47</th> \n",
       "        <td id=\"T_8513e716_68f1_11ea_a6d8_0242ac110006row47_col0\" class=\"data row47 col0\" >-120.152</td> \n",
       "        <td id=\"T_8513e716_68f1_11ea_a6d8_0242ac110006row47_col1\" class=\"data row47 col1\" >[0.1541377]</td> \n",
       "    </tr>    <tr> \n",
       "        <th id=\"T_8513e716_68f1_11ea_a6d8_0242ac110006level0_row48\" class=\"row_heading level0 row48\" >48</th> \n",
       "        <td id=\"T_8513e716_68f1_11ea_a6d8_0242ac110006row48_col0\" class=\"data row48 col0\" >-114.48</td> \n",
       "        <td id=\"T_8513e716_68f1_11ea_a6d8_0242ac110006row48_col1\" class=\"data row48 col1\" >[0.1541377]</td> \n",
       "    </tr>    <tr> \n",
       "        <th id=\"T_8513e716_68f1_11ea_a6d8_0242ac110006level0_row49\" class=\"row_heading level0 row49\" >49</th> \n",
       "        <td id=\"T_8513e716_68f1_11ea_a6d8_0242ac110006row49_col0\" class=\"data row49 col0\" >-108.813</td> \n",
       "        <td id=\"T_8513e716_68f1_11ea_a6d8_0242ac110006row49_col1\" class=\"data row49 col1\" >[0.1541377]</td> \n",
       "    </tr>    <tr> \n",
       "        <th id=\"T_8513e716_68f1_11ea_a6d8_0242ac110006level0_row50\" class=\"row_heading level0 row50\" >50</th> \n",
       "        <td id=\"T_8513e716_68f1_11ea_a6d8_0242ac110006row50_col0\" class=\"data row50 col0\" >-103.169</td> \n",
       "        <td id=\"T_8513e716_68f1_11ea_a6d8_0242ac110006row50_col1\" class=\"data row50 col1\" >[0.1541377]</td> \n",
       "    </tr>    <tr> \n",
       "        <th id=\"T_8513e716_68f1_11ea_a6d8_0242ac110006level0_row51\" class=\"row_heading level0 row51\" >51</th> \n",
       "        <td id=\"T_8513e716_68f1_11ea_a6d8_0242ac110006row51_col0\" class=\"data row51 col0\" >-97.8184</td> \n",
       "        <td id=\"T_8513e716_68f1_11ea_a6d8_0242ac110006row51_col1\" class=\"data row51 col1\" >[0.1541377]</td> \n",
       "    </tr>    <tr> \n",
       "        <th id=\"T_8513e716_68f1_11ea_a6d8_0242ac110006level0_row52\" class=\"row_heading level0 row52\" >52</th> \n",
       "        <td id=\"T_8513e716_68f1_11ea_a6d8_0242ac110006row52_col0\" class=\"data row52 col0\" >-92.5305</td> \n",
       "        <td id=\"T_8513e716_68f1_11ea_a6d8_0242ac110006row52_col1\" class=\"data row52 col1\" >[0.1541377]</td> \n",
       "    </tr>    <tr> \n",
       "        <th id=\"T_8513e716_68f1_11ea_a6d8_0242ac110006level0_row53\" class=\"row_heading level0 row53\" >53</th> \n",
       "        <td id=\"T_8513e716_68f1_11ea_a6d8_0242ac110006row53_col0\" class=\"data row53 col0\" >-87.4173</td> \n",
       "        <td id=\"T_8513e716_68f1_11ea_a6d8_0242ac110006row53_col1\" class=\"data row53 col1\" >[0.1541377]</td> \n",
       "    </tr>    <tr> \n",
       "        <th id=\"T_8513e716_68f1_11ea_a6d8_0242ac110006level0_row54\" class=\"row_heading level0 row54\" >54</th> \n",
       "        <td id=\"T_8513e716_68f1_11ea_a6d8_0242ac110006row54_col0\" class=\"data row54 col0\" >-82.3021</td> \n",
       "        <td id=\"T_8513e716_68f1_11ea_a6d8_0242ac110006row54_col1\" class=\"data row54 col1\" >[0.1541377]</td> \n",
       "    </tr>    <tr> \n",
       "        <th id=\"T_8513e716_68f1_11ea_a6d8_0242ac110006level0_row55\" class=\"row_heading level0 row55\" >55</th> \n",
       "        <td id=\"T_8513e716_68f1_11ea_a6d8_0242ac110006row55_col0\" class=\"data row55 col0\" >-77.2933</td> \n",
       "        <td id=\"T_8513e716_68f1_11ea_a6d8_0242ac110006row55_col1\" class=\"data row55 col1\" >[0.1541377]</td> \n",
       "    </tr>    <tr> \n",
       "        <th id=\"T_8513e716_68f1_11ea_a6d8_0242ac110006level0_row56\" class=\"row_heading level0 row56\" >56</th> \n",
       "        <td id=\"T_8513e716_68f1_11ea_a6d8_0242ac110006row56_col0\" class=\"data row56 col0\" >-72.5569</td> \n",
       "        <td id=\"T_8513e716_68f1_11ea_a6d8_0242ac110006row56_col1\" class=\"data row56 col1\" >[0.1541377]</td> \n",
       "    </tr>    <tr> \n",
       "        <th id=\"T_8513e716_68f1_11ea_a6d8_0242ac110006level0_row57\" class=\"row_heading level0 row57\" >57</th> \n",
       "        <td id=\"T_8513e716_68f1_11ea_a6d8_0242ac110006row57_col0\" class=\"data row57 col0\" >-67.5972</td> \n",
       "        <td id=\"T_8513e716_68f1_11ea_a6d8_0242ac110006row57_col1\" class=\"data row57 col1\" >[0.1541377]</td> \n",
       "    </tr>    <tr> \n",
       "        <th id=\"T_8513e716_68f1_11ea_a6d8_0242ac110006level0_row58\" class=\"row_heading level0 row58\" >58</th> \n",
       "        <td id=\"T_8513e716_68f1_11ea_a6d8_0242ac110006row58_col0\" class=\"data row58 col0\" >-63.5468</td> \n",
       "        <td id=\"T_8513e716_68f1_11ea_a6d8_0242ac110006row58_col1\" class=\"data row58 col1\" >[0.1541377]</td> \n",
       "    </tr>    <tr> \n",
       "        <th id=\"T_8513e716_68f1_11ea_a6d8_0242ac110006level0_row59\" class=\"row_heading level0 row59\" >59</th> \n",
       "        <td id=\"T_8513e716_68f1_11ea_a6d8_0242ac110006row59_col0\" class=\"data row59 col0\" >-59.3377</td> \n",
       "        <td id=\"T_8513e716_68f1_11ea_a6d8_0242ac110006row59_col1\" class=\"data row59 col1\" >[0.1541377]</td> \n",
       "    </tr>    <tr> \n",
       "        <th id=\"T_8513e716_68f1_11ea_a6d8_0242ac110006level0_row60\" class=\"row_heading level0 row60\" >60</th> \n",
       "        <td id=\"T_8513e716_68f1_11ea_a6d8_0242ac110006row60_col0\" class=\"data row60 col0\" >-55.112</td> \n",
       "        <td id=\"T_8513e716_68f1_11ea_a6d8_0242ac110006row60_col1\" class=\"data row60 col1\" >[0.1541377]</td> \n",
       "    </tr>    <tr> \n",
       "        <th id=\"T_8513e716_68f1_11ea_a6d8_0242ac110006level0_row61\" class=\"row_heading level0 row61\" >61</th> \n",
       "        <td id=\"T_8513e716_68f1_11ea_a6d8_0242ac110006row61_col0\" class=\"data row61 col0\" >-51.2976</td> \n",
       "        <td id=\"T_8513e716_68f1_11ea_a6d8_0242ac110006row61_col1\" class=\"data row61 col1\" >[0.1541377]</td> \n",
       "    </tr>    <tr> \n",
       "        <th id=\"T_8513e716_68f1_11ea_a6d8_0242ac110006level0_row62\" class=\"row_heading level0 row62\" >62</th> \n",
       "        <td id=\"T_8513e716_68f1_11ea_a6d8_0242ac110006row62_col0\" class=\"data row62 col0\" >-47.6624</td> \n",
       "        <td id=\"T_8513e716_68f1_11ea_a6d8_0242ac110006row62_col1\" class=\"data row62 col1\" >[0.1541377]</td> \n",
       "    </tr>    <tr> \n",
       "        <th id=\"T_8513e716_68f1_11ea_a6d8_0242ac110006level0_row63\" class=\"row_heading level0 row63\" >63</th> \n",
       "        <td id=\"T_8513e716_68f1_11ea_a6d8_0242ac110006row63_col0\" class=\"data row63 col0\" >-44.1574</td> \n",
       "        <td id=\"T_8513e716_68f1_11ea_a6d8_0242ac110006row63_col1\" class=\"data row63 col1\" >[0.1541377]</td> \n",
       "    </tr>    <tr> \n",
       "        <th id=\"T_8513e716_68f1_11ea_a6d8_0242ac110006level0_row64\" class=\"row_heading level0 row64\" >64</th> \n",
       "        <td id=\"T_8513e716_68f1_11ea_a6d8_0242ac110006row64_col0\" class=\"data row64 col0\" >-41.1772</td> \n",
       "        <td id=\"T_8513e716_68f1_11ea_a6d8_0242ac110006row64_col1\" class=\"data row64 col1\" >[0.1541377]</td> \n",
       "    </tr>    <tr> \n",
       "        <th id=\"T_8513e716_68f1_11ea_a6d8_0242ac110006level0_row65\" class=\"row_heading level0 row65\" >65</th> \n",
       "        <td id=\"T_8513e716_68f1_11ea_a6d8_0242ac110006row65_col0\" class=\"data row65 col0\" >-38.303</td> \n",
       "        <td id=\"T_8513e716_68f1_11ea_a6d8_0242ac110006row65_col1\" class=\"data row65 col1\" >[0.1541377]</td> \n",
       "    </tr>    <tr> \n",
       "        <th id=\"T_8513e716_68f1_11ea_a6d8_0242ac110006level0_row66\" class=\"row_heading level0 row66\" >66</th> \n",
       "        <td id=\"T_8513e716_68f1_11ea_a6d8_0242ac110006row66_col0\" class=\"data row66 col0\" >-35.4928</td> \n",
       "        <td id=\"T_8513e716_68f1_11ea_a6d8_0242ac110006row66_col1\" class=\"data row66 col1\" >[0.1541377]</td> \n",
       "    </tr>    <tr> \n",
       "        <th id=\"T_8513e716_68f1_11ea_a6d8_0242ac110006level0_row67\" class=\"row_heading level0 row67\" >67</th> \n",
       "        <td id=\"T_8513e716_68f1_11ea_a6d8_0242ac110006row67_col0\" class=\"data row67 col0\" >-32.9987</td> \n",
       "        <td id=\"T_8513e716_68f1_11ea_a6d8_0242ac110006row67_col1\" class=\"data row67 col1\" >[0.1541377]</td> \n",
       "    </tr>    <tr> \n",
       "        <th id=\"T_8513e716_68f1_11ea_a6d8_0242ac110006level0_row68\" class=\"row_heading level0 row68\" >68</th> \n",
       "        <td id=\"T_8513e716_68f1_11ea_a6d8_0242ac110006row68_col0\" class=\"data row68 col0\" >-30.3781</td> \n",
       "        <td id=\"T_8513e716_68f1_11ea_a6d8_0242ac110006row68_col1\" class=\"data row68 col1\" >[0.1541377]</td> \n",
       "    </tr>    <tr> \n",
       "        <th id=\"T_8513e716_68f1_11ea_a6d8_0242ac110006level0_row69\" class=\"row_heading level0 row69\" >69</th> \n",
       "        <td id=\"T_8513e716_68f1_11ea_a6d8_0242ac110006row69_col0\" class=\"data row69 col0\" >-28.1864</td> \n",
       "        <td id=\"T_8513e716_68f1_11ea_a6d8_0242ac110006row69_col1\" class=\"data row69 col1\" >[0.1541377]</td> \n",
       "    </tr>    <tr> \n",
       "        <th id=\"T_8513e716_68f1_11ea_a6d8_0242ac110006level0_row70\" class=\"row_heading level0 row70\" >70</th> \n",
       "        <td id=\"T_8513e716_68f1_11ea_a6d8_0242ac110006row70_col0\" class=\"data row70 col0\" >-26.1152</td> \n",
       "        <td id=\"T_8513e716_68f1_11ea_a6d8_0242ac110006row70_col1\" class=\"data row70 col1\" >[0.1541377]</td> \n",
       "    </tr>    <tr> \n",
       "        <th id=\"T_8513e716_68f1_11ea_a6d8_0242ac110006level0_row71\" class=\"row_heading level0 row71\" >71</th> \n",
       "        <td id=\"T_8513e716_68f1_11ea_a6d8_0242ac110006row71_col0\" class=\"data row71 col0\" >-24.175</td> \n",
       "        <td id=\"T_8513e716_68f1_11ea_a6d8_0242ac110006row71_col1\" class=\"data row71 col1\" >[0.1541377]</td> \n",
       "    </tr>    <tr> \n",
       "        <th id=\"T_8513e716_68f1_11ea_a6d8_0242ac110006level0_row72\" class=\"row_heading level0 row72\" >72</th> \n",
       "        <td id=\"T_8513e716_68f1_11ea_a6d8_0242ac110006row72_col0\" class=\"data row72 col0\" >-22.1515</td> \n",
       "        <td id=\"T_8513e716_68f1_11ea_a6d8_0242ac110006row72_col1\" class=\"data row72 col1\" >[0.1541377]</td> \n",
       "    </tr>    <tr> \n",
       "        <th id=\"T_8513e716_68f1_11ea_a6d8_0242ac110006level0_row73\" class=\"row_heading level0 row73\" >73</th> \n",
       "        <td id=\"T_8513e716_68f1_11ea_a6d8_0242ac110006row73_col0\" class=\"data row73 col0\" >-10.8164</td> \n",
       "        <td id=\"T_8513e716_68f1_11ea_a6d8_0242ac110006row73_col1\" class=\"data row73 col1\" >[0.1541377]</td> \n",
       "    </tr>    <tr> \n",
       "        <th id=\"T_8513e716_68f1_11ea_a6d8_0242ac110006level0_row74\" class=\"row_heading level0 row74\" >74</th> \n",
       "        <td id=\"T_8513e716_68f1_11ea_a6d8_0242ac110006row74_col0\" class=\"data row74 col0\" >-100</td> \n",
       "        <td id=\"T_8513e716_68f1_11ea_a6d8_0242ac110006row74_col1\" class=\"data row74 col1\" >[0.1541377]</td> \n",
       "    </tr></tbody> \n",
       "</table> "
      ],
      "text/plain": [
       "<pandas.io.formats.style.Styler at 0x7fdd633ba048>"
      ]
     },
     "execution_count": 33,
     "metadata": {},
     "output_type": "execute_result"
    }
   ],
   "source": [
    "experience_df[[\"Gt\",\"Value\"]].style.background_gradient(cmap='viridis')"
   ]
  },
  {
   "cell_type": "markdown",
   "metadata": {},
   "source": [
    "Okay finally! Lets start playing!"
   ]
  },
  {
   "cell_type": "markdown",
   "metadata": {},
   "source": [
    "Hyperparameters . I copied directly from the Nanodegree repository ..No change"
   ]
  },
  {
   "cell_type": "code",
   "execution_count": 34,
   "metadata": {},
   "outputs": [],
   "source": [
    "n_episodes=1000\n",
    "max_t=1000\n",
    "eps_start=1.0\n",
    "eps_end=0.1\n",
    "eps_decay=0.995"
   ]
  },
  {
   "cell_type": "markdown",
   "metadata": {},
   "source": [
    "<a id=\"learning-process\"></a>"
   ]
  },
  {
   "cell_type": "code",
   "execution_count": 35,
   "metadata": {},
   "outputs": [
    {
     "name": "stdout",
     "output_type": "stream",
     "text": [
      "Episode 100\tAverage Score: -128.65\n",
      "Episode 200\tAverage Score: -117.65\n",
      "Episode 300\tAverage Score: -79.61\n",
      "Episode 400\tAverage Score: -80.35\n",
      "Episode 500\tAverage Score: -93.29\n",
      "Episode 600\tAverage Score: -73.52\n",
      "Episode 700\tAverage Score: -94.73\n",
      "Episode 800\tAverage Score: -99.54\n",
      "Episode 900\tAverage Score: -128.28\n",
      "Episode 1000\tAverage Score: -115.67\n"
     ]
    }
   ],
   "source": [
    "\"\"\"Deep Q-Learning.\n",
    "\n",
    "Params\n",
    "======\n",
    "    n_episodes (int): maximum number of training episodes\n",
    "    max_t (int): maximum number of timesteps per episode\n",
    "    eps_start (float): starting value of epsilon, for epsilon-greedy action selection\n",
    "    eps_end (float): minimum value of epsilon\n",
    "    eps_decay (float): multiplicative factor (per episode) for decreasing epsilon\n",
    "\"\"\"\n",
    "scores = []                        # list containing scores from each episode\n",
    "scores_window = deque(maxlen=100)  # last 100 scores\n",
    "eps = eps_start                    # initialize epsilon\n",
    "for i_episode in range(1, n_episodes+1):\n",
    "    \n",
    "    state = env.reset()\n",
    "    score = 0\n",
    "    for t in range(max_t):\n",
    "        action = agent.act(state, eps)\n",
    "        next_state, reward, done, _ = env.step(action)\n",
    "\n",
    "        agent.step(state, action, reward, next_state,done)\n",
    "        state = next_state\n",
    "        score += reward\n",
    "        if done:\n",
    "            break \n",
    "    scores_window.append(score)       # save most recent score\n",
    "    scores.append(score)              # save most recent score\n",
    "    eps = max(eps_end, eps_decay*eps) # decrease epsilon\n",
    "    print('\\rEpisode {}\\tAverage Score: {:.2f}'.format(i_episode, np.mean(scores_window)), end=\"\")\n",
    "    if i_episode%10==0:\n",
    "        torch.save(agent.qnetwork_local.state_dict(),\"dqn_no_target/dqn_agent{}.pkl\".format(i_episode))\n",
    "    if i_episode % 100 == 0:\n",
    "        print('\\rEpisode {}\\tAverage Score: {:.2f}'.format(i_episode, np.mean(scores_window)))\n",
    "    if np.mean(scores_window)>=200.0:\n",
    "        print('\\nEnvironment solved in {:d} episodes!\\tAverage Score: {:.2f}'.format(i_episode-100, np.mean(scores_window)))"
   ]
  },
  {
   "cell_type": "markdown",
   "metadata": {},
   "source": [
    "saving the scores "
   ]
  },
  {
   "cell_type": "code",
   "execution_count": 36,
   "metadata": {},
   "outputs": [],
   "source": [
    "scores_np=np.array(scores)\n",
    "np.savetxt(\"dqn_no_target/scores.txt\",scores_np)"
   ]
  },
  {
   "cell_type": "markdown",
   "metadata": {},
   "source": [
    "moving average function"
   ]
  },
  {
   "cell_type": "code",
   "execution_count": 37,
   "metadata": {},
   "outputs": [],
   "source": [
    "def moving_average(a, n=100) :\n",
    "    ret = np.cumsum(a, dtype=float)\n",
    "    ret[n:] = ret[n:] - ret[:-n]\n",
    "    return ret[n - 1:] / n"
   ]
  },
  {
   "cell_type": "markdown",
   "metadata": {},
   "source": [
    "function for plotting the moving average"
   ]
  },
  {
   "cell_type": "code",
   "execution_count": 58,
   "metadata": {},
   "outputs": [],
   "source": [
    "def plot_scores(scores):\n",
    "    scores_ma=moving_average(scores,n=100)\n",
    "    plt.plot(np.arange(len(scores_ma)), scores_ma)\n",
    "    plt.ylabel('Score')\n",
    "    plt.xlabel('Episode')\n",
    "    plt.show()"
   ]
  },
  {
   "cell_type": "code",
   "execution_count": 39,
   "metadata": {},
   "outputs": [
    {
     "data": {
      "image/png": "[encoded data removed]",
      "text/plain": [
       "<Figure size 432x288 with 1 Axes>"
      ]
     },
     "metadata": {
      "needs_background": "light"
     },
     "output_type": "display_data"
    }
   ],
   "source": [
    "plot_scores(scores)"
   ]
  },
  {
   "cell_type": "markdown",
   "metadata": {},
   "source": [
    "From the above plot, we see that , rewards are improving , but the reward vs episode curve is not stable"
   ]
  },
  {
   "cell_type": "markdown",
   "metadata": {},
   "source": [
    "Let's visualize the model"
   ]
  },
  {
   "cell_type": "code",
   "execution_count": 40,
   "metadata": {},
   "outputs": [],
   "source": [
    "agent.qnetwork_local.load_state_dict(torch.load(\"dqn_no_target/dqn_agent1000.pkl\"))"
   ]
  },
  {
   "cell_type": "code",
   "execution_count": 41,
   "metadata": {},
   "outputs": [],
   "source": [
    "experience_df=visualize(env,agent)"
   ]
  },
  {
   "cell_type": "code",
   "execution_count": 42,
   "metadata": {},
   "outputs": [
    {
     "data": {
      "text/html": [
       "<style  type=\"text/css\" >\n",
       "    #T_8a8e7b64_68f3_11ea_a6d8_0242ac110006row0_col0 {\n",
       "            background-color:  #440154;\n",
       "        }    #T_8a8e7b64_68f3_11ea_a6d8_0242ac110006row1_col0 {\n",
       "            background-color:  #46085c;\n",
       "        }    #T_8a8e7b64_68f3_11ea_a6d8_0242ac110006row2_col0 {\n",
       "            background-color:  #470d60;\n",
       "        }    #T_8a8e7b64_68f3_11ea_a6d8_0242ac110006row3_col0 {\n",
       "            background-color:  #481467;\n",
       "        }    #T_8a8e7b64_68f3_11ea_a6d8_0242ac110006row4_col0 {\n",
       "            background-color:  #481c6e;\n",
       "        }    #T_8a8e7b64_68f3_11ea_a6d8_0242ac110006row5_col0 {\n",
       "            background-color:  #482173;\n",
       "        }    #T_8a8e7b64_68f3_11ea_a6d8_0242ac110006row6_col0 {\n",
       "            background-color:  #482878;\n",
       "        }    #T_8a8e7b64_68f3_11ea_a6d8_0242ac110006row7_col0 {\n",
       "            background-color:  #472d7b;\n",
       "        }    #T_8a8e7b64_68f3_11ea_a6d8_0242ac110006row8_col0 {\n",
       "            background-color:  #46327e;\n",
       "        }    #T_8a8e7b64_68f3_11ea_a6d8_0242ac110006row9_col0 {\n",
       "            background-color:  #453882;\n",
       "        }    #T_8a8e7b64_68f3_11ea_a6d8_0242ac110006row10_col0 {\n",
       "            background-color:  #433d84;\n",
       "        }    #T_8a8e7b64_68f3_11ea_a6d8_0242ac110006row11_col0 {\n",
       "            background-color:  #424186;\n",
       "        }    #T_8a8e7b64_68f3_11ea_a6d8_0242ac110006row12_col0 {\n",
       "            background-color:  #404688;\n",
       "        }    #T_8a8e7b64_68f3_11ea_a6d8_0242ac110006row13_col0 {\n",
       "            background-color:  #3e4c8a;\n",
       "        }    #T_8a8e7b64_68f3_11ea_a6d8_0242ac110006row14_col0 {\n",
       "            background-color:  #3c508b;\n",
       "        }    #T_8a8e7b64_68f3_11ea_a6d8_0242ac110006row15_col0 {\n",
       "            background-color:  #3a538b;\n",
       "        }    #T_8a8e7b64_68f3_11ea_a6d8_0242ac110006row16_col0 {\n",
       "            background-color:  #38588c;\n",
       "        }    #T_8a8e7b64_68f3_11ea_a6d8_0242ac110006row17_col0 {\n",
       "            background-color:  #365c8d;\n",
       "        }    #T_8a8e7b64_68f3_11ea_a6d8_0242ac110006row18_col0 {\n",
       "            background-color:  #34608d;\n",
       "        }    #T_8a8e7b64_68f3_11ea_a6d8_0242ac110006row19_col0 {\n",
       "            background-color:  #32648e;\n",
       "        }    #T_8a8e7b64_68f3_11ea_a6d8_0242ac110006row20_col0 {\n",
       "            background-color:  #31688e;\n",
       "        }    #T_8a8e7b64_68f3_11ea_a6d8_0242ac110006row21_col0 {\n",
       "            background-color:  #2f6b8e;\n",
       "        }    #T_8a8e7b64_68f3_11ea_a6d8_0242ac110006row22_col0 {\n",
       "            background-color:  #2e6f8e;\n",
       "        }    #T_8a8e7b64_68f3_11ea_a6d8_0242ac110006row23_col0 {\n",
       "            background-color:  #2c728e;\n",
       "        }    #T_8a8e7b64_68f3_11ea_a6d8_0242ac110006row24_col0 {\n",
       "            background-color:  #2a768e;\n",
       "        }    #T_8a8e7b64_68f3_11ea_a6d8_0242ac110006row25_col0 {\n",
       "            background-color:  #297a8e;\n",
       "        }    #T_8a8e7b64_68f3_11ea_a6d8_0242ac110006row26_col0 {\n",
       "            background-color:  #277e8e;\n",
       "        }    #T_8a8e7b64_68f3_11ea_a6d8_0242ac110006row27_col0 {\n",
       "            background-color:  #26828e;\n",
       "        }    #T_8a8e7b64_68f3_11ea_a6d8_0242ac110006row28_col0 {\n",
       "            background-color:  #25858e;\n",
       "        }    #T_8a8e7b64_68f3_11ea_a6d8_0242ac110006row29_col0 {\n",
       "            background-color:  #23898e;\n",
       "        }    #T_8a8e7b64_68f3_11ea_a6d8_0242ac110006row30_col0 {\n",
       "            background-color:  #228d8d;\n",
       "        }    #T_8a8e7b64_68f3_11ea_a6d8_0242ac110006row31_col0 {\n",
       "            background-color:  #20928c;\n",
       "        }    #T_8a8e7b64_68f3_11ea_a6d8_0242ac110006row32_col0 {\n",
       "            background-color:  #1f958b;\n",
       "        }    #T_8a8e7b64_68f3_11ea_a6d8_0242ac110006row33_col0 {\n",
       "            background-color:  #1f998a;\n",
       "        }    #T_8a8e7b64_68f3_11ea_a6d8_0242ac110006row34_col0 {\n",
       "            background-color:  #1e9d89;\n",
       "        }    #T_8a8e7b64_68f3_11ea_a6d8_0242ac110006row35_col0 {\n",
       "            background-color:  #1fa188;\n",
       "        }    #T_8a8e7b64_68f3_11ea_a6d8_0242ac110006row36_col0 {\n",
       "            background-color:  #21a585;\n",
       "        }    #T_8a8e7b64_68f3_11ea_a6d8_0242ac110006row37_col0 {\n",
       "            background-color:  #23a983;\n",
       "        }    #T_8a8e7b64_68f3_11ea_a6d8_0242ac110006row38_col0 {\n",
       "            background-color:  #26ad81;\n",
       "        }    #T_8a8e7b64_68f3_11ea_a6d8_0242ac110006row39_col0 {\n",
       "            background-color:  #2cb17e;\n",
       "        }    #T_8a8e7b64_68f3_11ea_a6d8_0242ac110006row40_col0 {\n",
       "            background-color:  #31b57b;\n",
       "        }    #T_8a8e7b64_68f3_11ea_a6d8_0242ac110006row41_col0 {\n",
       "            background-color:  #37b878;\n",
       "        }    #T_8a8e7b64_68f3_11ea_a6d8_0242ac110006row42_col0 {\n",
       "            background-color:  #3fbc73;\n",
       "        }    #T_8a8e7b64_68f3_11ea_a6d8_0242ac110006row43_col0 {\n",
       "            background-color:  #46c06f;\n",
       "        }    #T_8a8e7b64_68f3_11ea_a6d8_0242ac110006row44_col0 {\n",
       "            background-color:  #4ec36b;\n",
       "        }    #T_8a8e7b64_68f3_11ea_a6d8_0242ac110006row45_col0 {\n",
       "            background-color:  #56c667;\n",
       "        }    #T_8a8e7b64_68f3_11ea_a6d8_0242ac110006row46_col0 {\n",
       "            background-color:  #5ec962;\n",
       "        }    #T_8a8e7b64_68f3_11ea_a6d8_0242ac110006row47_col0 {\n",
       "            background-color:  #67cc5c;\n",
       "        }    #T_8a8e7b64_68f3_11ea_a6d8_0242ac110006row48_col0 {\n",
       "            background-color:  #70cf57;\n",
       "        }    #T_8a8e7b64_68f3_11ea_a6d8_0242ac110006row49_col0 {\n",
       "            background-color:  #7ad151;\n",
       "        }    #T_8a8e7b64_68f3_11ea_a6d8_0242ac110006row50_col0 {\n",
       "            background-color:  #84d44b;\n",
       "        }    #T_8a8e7b64_68f3_11ea_a6d8_0242ac110006row51_col0 {\n",
       "            background-color:  #8bd646;\n",
       "        }    #T_8a8e7b64_68f3_11ea_a6d8_0242ac110006row52_col0 {\n",
       "            background-color:  #95d840;\n",
       "        }    #T_8a8e7b64_68f3_11ea_a6d8_0242ac110006row53_col0 {\n",
       "            background-color:  #a0da39;\n",
       "        }    #T_8a8e7b64_68f3_11ea_a6d8_0242ac110006row54_col0 {\n",
       "            background-color:  #a8db34;\n",
       "        }    #T_8a8e7b64_68f3_11ea_a6d8_0242ac110006row55_col0 {\n",
       "            background-color:  #b2dd2d;\n",
       "        }    #T_8a8e7b64_68f3_11ea_a6d8_0242ac110006row56_col0 {\n",
       "            background-color:  #bade28;\n",
       "        }    #T_8a8e7b64_68f3_11ea_a6d8_0242ac110006row57_col0 {\n",
       "            background-color:  #c2df23;\n",
       "        }    #T_8a8e7b64_68f3_11ea_a6d8_0242ac110006row58_col0 {\n",
       "            background-color:  #cae11f;\n",
       "        }    #T_8a8e7b64_68f3_11ea_a6d8_0242ac110006row59_col0 {\n",
       "            background-color:  #d2e21b;\n",
       "        }    #T_8a8e7b64_68f3_11ea_a6d8_0242ac110006row60_col0 {\n",
       "            background-color:  #d8e219;\n",
       "        }    #T_8a8e7b64_68f3_11ea_a6d8_0242ac110006row61_col0 {\n",
       "            background-color:  #dfe318;\n",
       "        }    #T_8a8e7b64_68f3_11ea_a6d8_0242ac110006row62_col0 {\n",
       "            background-color:  #e5e419;\n",
       "        }    #T_8a8e7b64_68f3_11ea_a6d8_0242ac110006row63_col0 {\n",
       "            background-color:  #eae51a;\n",
       "        }    #T_8a8e7b64_68f3_11ea_a6d8_0242ac110006row64_col0 {\n",
       "            background-color:  #efe51c;\n",
       "        }    #T_8a8e7b64_68f3_11ea_a6d8_0242ac110006row65_col0 {\n",
       "            background-color:  #f4e61e;\n",
       "        }    #T_8a8e7b64_68f3_11ea_a6d8_0242ac110006row66_col0 {\n",
       "            background-color:  #f6e620;\n",
       "        }    #T_8a8e7b64_68f3_11ea_a6d8_0242ac110006row67_col0 {\n",
       "            background-color:  #f8e621;\n",
       "        }    #T_8a8e7b64_68f3_11ea_a6d8_0242ac110006row68_col0 {\n",
       "            background-color:  #fbe723;\n",
       "        }    #T_8a8e7b64_68f3_11ea_a6d8_0242ac110006row69_col0 {\n",
       "            background-color:  #fde725;\n",
       "        }    #T_8a8e7b64_68f3_11ea_a6d8_0242ac110006row70_col0 {\n",
       "            background-color:  #fde725;\n",
       "        }    #T_8a8e7b64_68f3_11ea_a6d8_0242ac110006row71_col0 {\n",
       "            background-color:  #fde725;\n",
       "        }    #T_8a8e7b64_68f3_11ea_a6d8_0242ac110006row72_col0 {\n",
       "            background-color:  #fde725;\n",
       "        }    #T_8a8e7b64_68f3_11ea_a6d8_0242ac110006row73_col0 {\n",
       "            background-color:  #fde725;\n",
       "        }    #T_8a8e7b64_68f3_11ea_a6d8_0242ac110006row74_col0 {\n",
       "            background-color:  #fde725;\n",
       "        }    #T_8a8e7b64_68f3_11ea_a6d8_0242ac110006row75_col0 {\n",
       "            background-color:  #fde725;\n",
       "        }    #T_8a8e7b64_68f3_11ea_a6d8_0242ac110006row76_col0 {\n",
       "            background-color:  #fbe723;\n",
       "        }    #T_8a8e7b64_68f3_11ea_a6d8_0242ac110006row77_col0 {\n",
       "            background-color:  #fbe723;\n",
       "        }    #T_8a8e7b64_68f3_11ea_a6d8_0242ac110006row78_col0 {\n",
       "            background-color:  #f8e621;\n",
       "        }    #T_8a8e7b64_68f3_11ea_a6d8_0242ac110006row79_col0 {\n",
       "            background-color:  #f4e61e;\n",
       "        }    #T_8a8e7b64_68f3_11ea_a6d8_0242ac110006row80_col0 {\n",
       "            background-color:  #efe51c;\n",
       "        }    #T_8a8e7b64_68f3_11ea_a6d8_0242ac110006row81_col0 {\n",
       "            background-color:  #ece51b;\n",
       "        }    #T_8a8e7b64_68f3_11ea_a6d8_0242ac110006row82_col0 {\n",
       "            background-color:  #f8e621;\n",
       "        }    #T_8a8e7b64_68f3_11ea_a6d8_0242ac110006row83_col0 {\n",
       "            background-color:  #e7e419;\n",
       "        }    #T_8a8e7b64_68f3_11ea_a6d8_0242ac110006row84_col0 {\n",
       "            background-color:  #65cb5e;\n",
       "        }</style>  \n",
       "<table id=\"T_8a8e7b64_68f3_11ea_a6d8_0242ac110006\" > \n",
       "<thead>    <tr> \n",
       "        <th class=\"blank level0\" ></th> \n",
       "        <th class=\"col_heading level0 col0\" >Gt</th> \n",
       "        <th class=\"col_heading level0 col1\" >Value</th> \n",
       "    </tr></thead> \n",
       "<tbody>    <tr> \n",
       "        <th id=\"T_8a8e7b64_68f3_11ea_a6d8_0242ac110006level0_row0\" class=\"row_heading level0 row0\" >0</th> \n",
       "        <td id=\"T_8a8e7b64_68f3_11ea_a6d8_0242ac110006row0_col0\" class=\"data row0 col0\" >-409.817</td> \n",
       "        <td id=\"T_8a8e7b64_68f3_11ea_a6d8_0242ac110006row0_col1\" class=\"data row0 col1\" >[-70.60997]</td> \n",
       "    </tr>    <tr> \n",
       "        <th id=\"T_8a8e7b64_68f3_11ea_a6d8_0242ac110006level0_row1\" class=\"row_heading level0 row1\" >1</th> \n",
       "        <td id=\"T_8a8e7b64_68f3_11ea_a6d8_0242ac110006row1_col0\" class=\"data row1 col0\" >-401.126</td> \n",
       "        <td id=\"T_8a8e7b64_68f3_11ea_a6d8_0242ac110006row1_col1\" class=\"data row1 col1\" >[-70.60997]</td> \n",
       "    </tr>    <tr> \n",
       "        <th id=\"T_8a8e7b64_68f3_11ea_a6d8_0242ac110006level0_row2\" class=\"row_heading level0 row2\" >2</th> \n",
       "        <td id=\"T_8a8e7b64_68f3_11ea_a6d8_0242ac110006row2_col0\" class=\"data row2 col0\" >-396.412</td> \n",
       "        <td id=\"T_8a8e7b64_68f3_11ea_a6d8_0242ac110006row2_col1\" class=\"data row2 col1\" >[-70.60997]</td> \n",
       "    </tr>    <tr> \n",
       "        <th id=\"T_8a8e7b64_68f3_11ea_a6d8_0242ac110006level0_row3\" class=\"row_heading level0 row3\" >3</th> \n",
       "        <td id=\"T_8a8e7b64_68f3_11ea_a6d8_0242ac110006row3_col0\" class=\"data row3 col0\" >-387.787</td> \n",
       "        <td id=\"T_8a8e7b64_68f3_11ea_a6d8_0242ac110006row3_col1\" class=\"data row3 col1\" >[-70.60997]</td> \n",
       "    </tr>    <tr> \n",
       "        <th id=\"T_8a8e7b64_68f3_11ea_a6d8_0242ac110006level0_row4\" class=\"row_heading level0 row4\" >4</th> \n",
       "        <td id=\"T_8a8e7b64_68f3_11ea_a6d8_0242ac110006row4_col0\" class=\"data row4 col0\" >-379.392</td> \n",
       "        <td id=\"T_8a8e7b64_68f3_11ea_a6d8_0242ac110006row4_col1\" class=\"data row4 col1\" >[-70.60997]</td> \n",
       "    </tr>    <tr> \n",
       "        <th id=\"T_8a8e7b64_68f3_11ea_a6d8_0242ac110006level0_row5\" class=\"row_heading level0 row5\" >5</th> \n",
       "        <td id=\"T_8a8e7b64_68f3_11ea_a6d8_0242ac110006row5_col0\" class=\"data row5 col0\" >-371.931</td> \n",
       "        <td id=\"T_8a8e7b64_68f3_11ea_a6d8_0242ac110006row5_col1\" class=\"data row5 col1\" >[-70.60997]</td> \n",
       "    </tr>    <tr> \n",
       "        <th id=\"T_8a8e7b64_68f3_11ea_a6d8_0242ac110006level0_row6\" class=\"row_heading level0 row6\" >6</th> \n",
       "        <td id=\"T_8a8e7b64_68f3_11ea_a6d8_0242ac110006row6_col0\" class=\"data row6 col0\" >-365.397</td> \n",
       "        <td id=\"T_8a8e7b64_68f3_11ea_a6d8_0242ac110006row6_col1\" class=\"data row6 col1\" >[-70.60997]</td> \n",
       "    </tr>    <tr> \n",
       "        <th id=\"T_8a8e7b64_68f3_11ea_a6d8_0242ac110006level0_row7\" class=\"row_heading level0 row7\" >7</th> \n",
       "        <td id=\"T_8a8e7b64_68f3_11ea_a6d8_0242ac110006row7_col0\" class=\"data row7 col0\" >-358.224</td> \n",
       "        <td id=\"T_8a8e7b64_68f3_11ea_a6d8_0242ac110006row7_col1\" class=\"data row7 col1\" >[-70.60997]</td> \n",
       "    </tr>    <tr> \n",
       "        <th id=\"T_8a8e7b64_68f3_11ea_a6d8_0242ac110006level0_row8\" class=\"row_heading level0 row8\" >8</th> \n",
       "        <td id=\"T_8a8e7b64_68f3_11ea_a6d8_0242ac110006row8_col0\" class=\"data row8 col0\" >-351.181</td> \n",
       "        <td id=\"T_8a8e7b64_68f3_11ea_a6d8_0242ac110006row8_col1\" class=\"data row8 col1\" >[-70.60997]</td> \n",
       "    </tr>    <tr> \n",
       "        <th id=\"T_8a8e7b64_68f3_11ea_a6d8_0242ac110006level0_row9\" class=\"row_heading level0 row9\" >9</th> \n",
       "        <td id=\"T_8a8e7b64_68f3_11ea_a6d8_0242ac110006row9_col0\" class=\"data row9 col0\" >-344.017</td> \n",
       "        <td id=\"T_8a8e7b64_68f3_11ea_a6d8_0242ac110006row9_col1\" class=\"data row9 col1\" >[-70.60997]</td> \n",
       "    </tr>    <tr> \n",
       "        <th id=\"T_8a8e7b64_68f3_11ea_a6d8_0242ac110006level0_row10\" class=\"row_heading level0 row10\" >10</th> \n",
       "        <td id=\"T_8a8e7b64_68f3_11ea_a6d8_0242ac110006row10_col0\" class=\"data row10 col0\" >-337.316</td> \n",
       "        <td id=\"T_8a8e7b64_68f3_11ea_a6d8_0242ac110006row10_col1\" class=\"data row10 col1\" >[-70.60997]</td> \n",
       "    </tr>    <tr> \n",
       "        <th id=\"T_8a8e7b64_68f3_11ea_a6d8_0242ac110006level0_row11\" class=\"row_heading level0 row11\" >11</th> \n",
       "        <td id=\"T_8a8e7b64_68f3_11ea_a6d8_0242ac110006row11_col0\" class=\"data row11 col0\" >-330.793</td> \n",
       "        <td id=\"T_8a8e7b64_68f3_11ea_a6d8_0242ac110006row11_col1\" class=\"data row11 col1\" >[-70.60997]</td> \n",
       "    </tr>    <tr> \n",
       "        <th id=\"T_8a8e7b64_68f3_11ea_a6d8_0242ac110006level0_row12\" class=\"row_heading level0 row12\" >12</th> \n",
       "        <td id=\"T_8a8e7b64_68f3_11ea_a6d8_0242ac110006row12_col0\" class=\"data row12 col0\" >-324.422</td> \n",
       "        <td id=\"T_8a8e7b64_68f3_11ea_a6d8_0242ac110006row12_col1\" class=\"data row12 col1\" >[-70.60997]</td> \n",
       "    </tr>    <tr> \n",
       "        <th id=\"T_8a8e7b64_68f3_11ea_a6d8_0242ac110006level0_row13\" class=\"row_heading level0 row13\" >13</th> \n",
       "        <td id=\"T_8a8e7b64_68f3_11ea_a6d8_0242ac110006row13_col0\" class=\"data row13 col0\" >-317.675</td> \n",
       "        <td id=\"T_8a8e7b64_68f3_11ea_a6d8_0242ac110006row13_col1\" class=\"data row13 col1\" >[-70.60997]</td> \n",
       "    </tr>    <tr> \n",
       "        <th id=\"T_8a8e7b64_68f3_11ea_a6d8_0242ac110006level0_row14\" class=\"row_heading level0 row14\" >14</th> \n",
       "        <td id=\"T_8a8e7b64_68f3_11ea_a6d8_0242ac110006row14_col0\" class=\"data row14 col0\" >-311.292</td> \n",
       "        <td id=\"T_8a8e7b64_68f3_11ea_a6d8_0242ac110006row14_col1\" class=\"data row14 col1\" >[-70.60997]</td> \n",
       "    </tr>    <tr> \n",
       "        <th id=\"T_8a8e7b64_68f3_11ea_a6d8_0242ac110006level0_row15\" class=\"row_heading level0 row15\" >15</th> \n",
       "        <td id=\"T_8a8e7b64_68f3_11ea_a6d8_0242ac110006row15_col0\" class=\"data row15 col0\" >-305.247</td> \n",
       "        <td id=\"T_8a8e7b64_68f3_11ea_a6d8_0242ac110006row15_col1\" class=\"data row15 col1\" >[-70.60997]</td> \n",
       "    </tr>    <tr> \n",
       "        <th id=\"T_8a8e7b64_68f3_11ea_a6d8_0242ac110006level0_row16\" class=\"row_heading level0 row16\" >16</th> \n",
       "        <td id=\"T_8a8e7b64_68f3_11ea_a6d8_0242ac110006row16_col0\" class=\"data row16 col0\" >-299.111</td> \n",
       "        <td id=\"T_8a8e7b64_68f3_11ea_a6d8_0242ac110006row16_col1\" class=\"data row16 col1\" >[-70.60997]</td> \n",
       "    </tr>    <tr> \n",
       "        <th id=\"T_8a8e7b64_68f3_11ea_a6d8_0242ac110006level0_row17\" class=\"row_heading level0 row17\" >17</th> \n",
       "        <td id=\"T_8a8e7b64_68f3_11ea_a6d8_0242ac110006row17_col0\" class=\"data row17 col0\" >-292.69</td> \n",
       "        <td id=\"T_8a8e7b64_68f3_11ea_a6d8_0242ac110006row17_col1\" class=\"data row17 col1\" >[-70.60997]</td> \n",
       "    </tr>    <tr> \n",
       "        <th id=\"T_8a8e7b64_68f3_11ea_a6d8_0242ac110006level0_row18\" class=\"row_heading level0 row18\" >18</th> \n",
       "        <td id=\"T_8a8e7b64_68f3_11ea_a6d8_0242ac110006row18_col0\" class=\"data row18 col0\" >-286.69</td> \n",
       "        <td id=\"T_8a8e7b64_68f3_11ea_a6d8_0242ac110006row18_col1\" class=\"data row18 col1\" >[-70.60997]</td> \n",
       "    </tr>    <tr> \n",
       "        <th id=\"T_8a8e7b64_68f3_11ea_a6d8_0242ac110006level0_row19\" class=\"row_heading level0 row19\" >19</th> \n",
       "        <td id=\"T_8a8e7b64_68f3_11ea_a6d8_0242ac110006row19_col0\" class=\"data row19 col0\" >-280.573</td> \n",
       "        <td id=\"T_8a8e7b64_68f3_11ea_a6d8_0242ac110006row19_col1\" class=\"data row19 col1\" >[-70.60997]</td> \n",
       "    </tr>    <tr> \n",
       "        <th id=\"T_8a8e7b64_68f3_11ea_a6d8_0242ac110006level0_row20\" class=\"row_heading level0 row20\" >20</th> \n",
       "        <td id=\"T_8a8e7b64_68f3_11ea_a6d8_0242ac110006row20_col0\" class=\"data row20 col0\" >-274.69</td> \n",
       "        <td id=\"T_8a8e7b64_68f3_11ea_a6d8_0242ac110006row20_col1\" class=\"data row20 col1\" >[-70.60997]</td> \n",
       "    </tr>    <tr> \n",
       "        <th id=\"T_8a8e7b64_68f3_11ea_a6d8_0242ac110006level0_row21\" class=\"row_heading level0 row21\" >21</th> \n",
       "        <td id=\"T_8a8e7b64_68f3_11ea_a6d8_0242ac110006row21_col0\" class=\"data row21 col0\" >-268.718</td> \n",
       "        <td id=\"T_8a8e7b64_68f3_11ea_a6d8_0242ac110006row21_col1\" class=\"data row21 col1\" >[-70.60997]</td> \n",
       "    </tr>    <tr> \n",
       "        <th id=\"T_8a8e7b64_68f3_11ea_a6d8_0242ac110006level0_row22\" class=\"row_heading level0 row22\" >22</th> \n",
       "        <td id=\"T_8a8e7b64_68f3_11ea_a6d8_0242ac110006row22_col0\" class=\"data row22 col0\" >-262.454</td> \n",
       "        <td id=\"T_8a8e7b64_68f3_11ea_a6d8_0242ac110006row22_col1\" class=\"data row22 col1\" >[-70.60997]</td> \n",
       "    </tr>    <tr> \n",
       "        <th id=\"T_8a8e7b64_68f3_11ea_a6d8_0242ac110006level0_row23\" class=\"row_heading level0 row23\" >23</th> \n",
       "        <td id=\"T_8a8e7b64_68f3_11ea_a6d8_0242ac110006row23_col0\" class=\"data row23 col0\" >-256.63</td> \n",
       "        <td id=\"T_8a8e7b64_68f3_11ea_a6d8_0242ac110006row23_col1\" class=\"data row23 col1\" >[-70.60997]</td> \n",
       "    </tr>    <tr> \n",
       "        <th id=\"T_8a8e7b64_68f3_11ea_a6d8_0242ac110006level0_row24\" class=\"row_heading level0 row24\" >24</th> \n",
       "        <td id=\"T_8a8e7b64_68f3_11ea_a6d8_0242ac110006row24_col0\" class=\"data row24 col0\" >-250.455</td> \n",
       "        <td id=\"T_8a8e7b64_68f3_11ea_a6d8_0242ac110006row24_col1\" class=\"data row24 col1\" >[-70.60997]</td> \n",
       "    </tr>    <tr> \n",
       "        <th id=\"T_8a8e7b64_68f3_11ea_a6d8_0242ac110006level0_row25\" class=\"row_heading level0 row25\" >25</th> \n",
       "        <td id=\"T_8a8e7b64_68f3_11ea_a6d8_0242ac110006row25_col0\" class=\"data row25 col0\" >-244.078</td> \n",
       "        <td id=\"T_8a8e7b64_68f3_11ea_a6d8_0242ac110006row25_col1\" class=\"data row25 col1\" >[-70.60997]</td> \n",
       "    </tr>    <tr> \n",
       "        <th id=\"T_8a8e7b64_68f3_11ea_a6d8_0242ac110006level0_row26\" class=\"row_heading level0 row26\" >26</th> \n",
       "        <td id=\"T_8a8e7b64_68f3_11ea_a6d8_0242ac110006row26_col0\" class=\"data row26 col0\" >-237.655</td> \n",
       "        <td id=\"T_8a8e7b64_68f3_11ea_a6d8_0242ac110006row26_col1\" class=\"data row26 col1\" >[-70.60997]</td> \n",
       "    </tr>    <tr> \n",
       "        <th id=\"T_8a8e7b64_68f3_11ea_a6d8_0242ac110006level0_row27\" class=\"row_heading level0 row27\" >27</th> \n",
       "        <td id=\"T_8a8e7b64_68f3_11ea_a6d8_0242ac110006row27_col0\" class=\"data row27 col0\" >-231.266</td> \n",
       "        <td id=\"T_8a8e7b64_68f3_11ea_a6d8_0242ac110006row27_col1\" class=\"data row27 col1\" >[-70.60997]</td> \n",
       "    </tr>    <tr> \n",
       "        <th id=\"T_8a8e7b64_68f3_11ea_a6d8_0242ac110006level0_row28\" class=\"row_heading level0 row28\" >28</th> \n",
       "        <td id=\"T_8a8e7b64_68f3_11ea_a6d8_0242ac110006row28_col0\" class=\"data row28 col0\" >-224.846</td> \n",
       "        <td id=\"T_8a8e7b64_68f3_11ea_a6d8_0242ac110006row28_col1\" class=\"data row28 col1\" >[-70.60997]</td> \n",
       "    </tr>    <tr> \n",
       "        <th id=\"T_8a8e7b64_68f3_11ea_a6d8_0242ac110006level0_row29\" class=\"row_heading level0 row29\" >29</th> \n",
       "        <td id=\"T_8a8e7b64_68f3_11ea_a6d8_0242ac110006row29_col0\" class=\"data row29 col0\" >-218.331</td> \n",
       "        <td id=\"T_8a8e7b64_68f3_11ea_a6d8_0242ac110006row29_col1\" class=\"data row29 col1\" >[-70.60997]</td> \n",
       "    </tr>    <tr> \n",
       "        <th id=\"T_8a8e7b64_68f3_11ea_a6d8_0242ac110006level0_row30\" class=\"row_heading level0 row30\" >30</th> \n",
       "        <td id=\"T_8a8e7b64_68f3_11ea_a6d8_0242ac110006row30_col0\" class=\"data row30 col0\" >-211.767</td> \n",
       "        <td id=\"T_8a8e7b64_68f3_11ea_a6d8_0242ac110006row30_col1\" class=\"data row30 col1\" >[-70.60997]</td> \n",
       "    </tr>    <tr> \n",
       "        <th id=\"T_8a8e7b64_68f3_11ea_a6d8_0242ac110006level0_row31\" class=\"row_heading level0 row31\" >31</th> \n",
       "        <td id=\"T_8a8e7b64_68f3_11ea_a6d8_0242ac110006row31_col0\" class=\"data row31 col0\" >-205.136</td> \n",
       "        <td id=\"T_8a8e7b64_68f3_11ea_a6d8_0242ac110006row31_col1\" class=\"data row31 col1\" >[-70.60997]</td> \n",
       "    </tr>    <tr> \n",
       "        <th id=\"T_8a8e7b64_68f3_11ea_a6d8_0242ac110006level0_row32\" class=\"row_heading level0 row32\" >32</th> \n",
       "        <td id=\"T_8a8e7b64_68f3_11ea_a6d8_0242ac110006row32_col0\" class=\"data row32 col0\" >-198.463</td> \n",
       "        <td id=\"T_8a8e7b64_68f3_11ea_a6d8_0242ac110006row32_col1\" class=\"data row32 col1\" >[-70.60997]</td> \n",
       "    </tr>    <tr> \n",
       "        <th id=\"T_8a8e7b64_68f3_11ea_a6d8_0242ac110006level0_row33\" class=\"row_heading level0 row33\" >33</th> \n",
       "        <td id=\"T_8a8e7b64_68f3_11ea_a6d8_0242ac110006row33_col0\" class=\"data row33 col0\" >-191.635</td> \n",
       "        <td id=\"T_8a8e7b64_68f3_11ea_a6d8_0242ac110006row33_col1\" class=\"data row33 col1\" >[-70.60997]</td> \n",
       "    </tr>    <tr> \n",
       "        <th id=\"T_8a8e7b64_68f3_11ea_a6d8_0242ac110006level0_row34\" class=\"row_heading level0 row34\" >34</th> \n",
       "        <td id=\"T_8a8e7b64_68f3_11ea_a6d8_0242ac110006row34_col0\" class=\"data row34 col0\" >-184.979</td> \n",
       "        <td id=\"T_8a8e7b64_68f3_11ea_a6d8_0242ac110006row34_col1\" class=\"data row34 col1\" >[-70.60997]</td> \n",
       "    </tr>    <tr> \n",
       "        <th id=\"T_8a8e7b64_68f3_11ea_a6d8_0242ac110006level0_row35\" class=\"row_heading level0 row35\" >35</th> \n",
       "        <td id=\"T_8a8e7b64_68f3_11ea_a6d8_0242ac110006row35_col0\" class=\"data row35 col0\" >-178.34</td> \n",
       "        <td id=\"T_8a8e7b64_68f3_11ea_a6d8_0242ac110006row35_col1\" class=\"data row35 col1\" >[-70.60997]</td> \n",
       "    </tr>    <tr> \n",
       "        <th id=\"T_8a8e7b64_68f3_11ea_a6d8_0242ac110006level0_row36\" class=\"row_heading level0 row36\" >36</th> \n",
       "        <td id=\"T_8a8e7b64_68f3_11ea_a6d8_0242ac110006row36_col0\" class=\"data row36 col0\" >-171.485</td> \n",
       "        <td id=\"T_8a8e7b64_68f3_11ea_a6d8_0242ac110006row36_col1\" class=\"data row36 col1\" >[-70.60997]</td> \n",
       "    </tr>    <tr> \n",
       "        <th id=\"T_8a8e7b64_68f3_11ea_a6d8_0242ac110006level0_row37\" class=\"row_heading level0 row37\" >37</th> \n",
       "        <td id=\"T_8a8e7b64_68f3_11ea_a6d8_0242ac110006row37_col0\" class=\"data row37 col0\" >-164.905</td> \n",
       "        <td id=\"T_8a8e7b64_68f3_11ea_a6d8_0242ac110006row37_col1\" class=\"data row37 col1\" >[-70.60997]</td> \n",
       "    </tr>    <tr> \n",
       "        <th id=\"T_8a8e7b64_68f3_11ea_a6d8_0242ac110006level0_row38\" class=\"row_heading level0 row38\" >38</th> \n",
       "        <td id=\"T_8a8e7b64_68f3_11ea_a6d8_0242ac110006row38_col0\" class=\"data row38 col0\" >-157.914</td> \n",
       "        <td id=\"T_8a8e7b64_68f3_11ea_a6d8_0242ac110006row38_col1\" class=\"data row38 col1\" >[-70.60997]</td> \n",
       "    </tr>    <tr> \n",
       "        <th id=\"T_8a8e7b64_68f3_11ea_a6d8_0242ac110006level0_row39\" class=\"row_heading level0 row39\" >39</th> \n",
       "        <td id=\"T_8a8e7b64_68f3_11ea_a6d8_0242ac110006row39_col0\" class=\"data row39 col0\" >-150.945</td> \n",
       "        <td id=\"T_8a8e7b64_68f3_11ea_a6d8_0242ac110006row39_col1\" class=\"data row39 col1\" >[-70.60997]</td> \n",
       "    </tr>    <tr> \n",
       "        <th id=\"T_8a8e7b64_68f3_11ea_a6d8_0242ac110006level0_row40\" class=\"row_heading level0 row40\" >40</th> \n",
       "        <td id=\"T_8a8e7b64_68f3_11ea_a6d8_0242ac110006row40_col0\" class=\"data row40 col0\" >-143.986</td> \n",
       "        <td id=\"T_8a8e7b64_68f3_11ea_a6d8_0242ac110006row40_col1\" class=\"data row40 col1\" >[-70.60997]</td> \n",
       "    </tr>    <tr> \n",
       "        <th id=\"T_8a8e7b64_68f3_11ea_a6d8_0242ac110006level0_row41\" class=\"row_heading level0 row41\" >41</th> \n",
       "        <td id=\"T_8a8e7b64_68f3_11ea_a6d8_0242ac110006row41_col0\" class=\"data row41 col0\" >-137.353</td> \n",
       "        <td id=\"T_8a8e7b64_68f3_11ea_a6d8_0242ac110006row41_col1\" class=\"data row41 col1\" >[-70.60997]</td> \n",
       "    </tr>    <tr> \n",
       "        <th id=\"T_8a8e7b64_68f3_11ea_a6d8_0242ac110006level0_row42\" class=\"row_heading level0 row42\" >42</th> \n",
       "        <td id=\"T_8a8e7b64_68f3_11ea_a6d8_0242ac110006row42_col0\" class=\"data row42 col0\" >-130.583</td> \n",
       "        <td id=\"T_8a8e7b64_68f3_11ea_a6d8_0242ac110006row42_col1\" class=\"data row42 col1\" >[-70.60997]</td> \n",
       "    </tr>    <tr> \n",
       "        <th id=\"T_8a8e7b64_68f3_11ea_a6d8_0242ac110006level0_row43\" class=\"row_heading level0 row43\" >43</th> \n",
       "        <td id=\"T_8a8e7b64_68f3_11ea_a6d8_0242ac110006row43_col0\" class=\"data row43 col0\" >-124.045</td> \n",
       "        <td id=\"T_8a8e7b64_68f3_11ea_a6d8_0242ac110006row43_col1\" class=\"data row43 col1\" >[-70.60997]</td> \n",
       "    </tr>    <tr> \n",
       "        <th id=\"T_8a8e7b64_68f3_11ea_a6d8_0242ac110006level0_row44\" class=\"row_heading level0 row44\" >44</th> \n",
       "        <td id=\"T_8a8e7b64_68f3_11ea_a6d8_0242ac110006row44_col0\" class=\"data row44 col0\" >-117.568</td> \n",
       "        <td id=\"T_8a8e7b64_68f3_11ea_a6d8_0242ac110006row44_col1\" class=\"data row44 col1\" >[-70.60997]</td> \n",
       "    </tr>    <tr> \n",
       "        <th id=\"T_8a8e7b64_68f3_11ea_a6d8_0242ac110006level0_row45\" class=\"row_heading level0 row45\" >45</th> \n",
       "        <td id=\"T_8a8e7b64_68f3_11ea_a6d8_0242ac110006row45_col0\" class=\"data row45 col0\" >-111.176</td> \n",
       "        <td id=\"T_8a8e7b64_68f3_11ea_a6d8_0242ac110006row45_col1\" class=\"data row45 col1\" >[-70.60997]</td> \n",
       "    </tr>    <tr> \n",
       "        <th id=\"T_8a8e7b64_68f3_11ea_a6d8_0242ac110006level0_row46\" class=\"row_heading level0 row46\" >46</th> \n",
       "        <td id=\"T_8a8e7b64_68f3_11ea_a6d8_0242ac110006row46_col0\" class=\"data row46 col0\" >-104.588</td> \n",
       "        <td id=\"T_8a8e7b64_68f3_11ea_a6d8_0242ac110006row46_col1\" class=\"data row46 col1\" >[-70.60997]</td> \n",
       "    </tr>    <tr> \n",
       "        <th id=\"T_8a8e7b64_68f3_11ea_a6d8_0242ac110006level0_row47\" class=\"row_heading level0 row47\" >47</th> \n",
       "        <td id=\"T_8a8e7b64_68f3_11ea_a6d8_0242ac110006row47_col0\" class=\"data row47 col0\" >-97.9388</td> \n",
       "        <td id=\"T_8a8e7b64_68f3_11ea_a6d8_0242ac110006row47_col1\" class=\"data row47 col1\" >[-70.60997]</td> \n",
       "    </tr>    <tr> \n",
       "        <th id=\"T_8a8e7b64_68f3_11ea_a6d8_0242ac110006level0_row48\" class=\"row_heading level0 row48\" >48</th> \n",
       "        <td id=\"T_8a8e7b64_68f3_11ea_a6d8_0242ac110006row48_col0\" class=\"data row48 col0\" >-91.7213</td> \n",
       "        <td id=\"T_8a8e7b64_68f3_11ea_a6d8_0242ac110006row48_col1\" class=\"data row48 col1\" >[-70.60997]</td> \n",
       "    </tr>    <tr> \n",
       "        <th id=\"T_8a8e7b64_68f3_11ea_a6d8_0242ac110006level0_row49\" class=\"row_heading level0 row49\" >49</th> \n",
       "        <td id=\"T_8a8e7b64_68f3_11ea_a6d8_0242ac110006row49_col0\" class=\"data row49 col0\" >-85.4604</td> \n",
       "        <td id=\"T_8a8e7b64_68f3_11ea_a6d8_0242ac110006row49_col1\" class=\"data row49 col1\" >[-70.60997]</td> \n",
       "    </tr>    <tr> \n",
       "        <th id=\"T_8a8e7b64_68f3_11ea_a6d8_0242ac110006level0_row50\" class=\"row_heading level0 row50\" >50</th> \n",
       "        <td id=\"T_8a8e7b64_68f3_11ea_a6d8_0242ac110006row50_col0\" class=\"data row50 col0\" >-79.4023</td> \n",
       "        <td id=\"T_8a8e7b64_68f3_11ea_a6d8_0242ac110006row50_col1\" class=\"data row50 col1\" >[-70.60997]</td> \n",
       "    </tr>    <tr> \n",
       "        <th id=\"T_8a8e7b64_68f3_11ea_a6d8_0242ac110006level0_row51\" class=\"row_heading level0 row51\" >51</th> \n",
       "        <td id=\"T_8a8e7b64_68f3_11ea_a6d8_0242ac110006row51_col0\" class=\"data row51 col0\" >-73.6432</td> \n",
       "        <td id=\"T_8a8e7b64_68f3_11ea_a6d8_0242ac110006row51_col1\" class=\"data row51 col1\" >[-70.60997]</td> \n",
       "    </tr>    <tr> \n",
       "        <th id=\"T_8a8e7b64_68f3_11ea_a6d8_0242ac110006level0_row52\" class=\"row_heading level0 row52\" >52</th> \n",
       "        <td id=\"T_8a8e7b64_68f3_11ea_a6d8_0242ac110006row52_col0\" class=\"data row52 col0\" >-67.8234</td> \n",
       "        <td id=\"T_8a8e7b64_68f3_11ea_a6d8_0242ac110006row52_col1\" class=\"data row52 col1\" >[-70.60997]</td> \n",
       "    </tr>    <tr> \n",
       "        <th id=\"T_8a8e7b64_68f3_11ea_a6d8_0242ac110006level0_row53\" class=\"row_heading level0 row53\" >53</th> \n",
       "        <td id=\"T_8a8e7b64_68f3_11ea_a6d8_0242ac110006row53_col0\" class=\"data row53 col0\" >-62.1985</td> \n",
       "        <td id=\"T_8a8e7b64_68f3_11ea_a6d8_0242ac110006row53_col1\" class=\"data row53 col1\" >[-70.60997]</td> \n",
       "    </tr>    <tr> \n",
       "        <th id=\"T_8a8e7b64_68f3_11ea_a6d8_0242ac110006level0_row54\" class=\"row_heading level0 row54\" >54</th> \n",
       "        <td id=\"T_8a8e7b64_68f3_11ea_a6d8_0242ac110006row54_col0\" class=\"data row54 col0\" >-56.522</td> \n",
       "        <td id=\"T_8a8e7b64_68f3_11ea_a6d8_0242ac110006row54_col1\" class=\"data row54 col1\" >[-70.60997]</td> \n",
       "    </tr>    <tr> \n",
       "        <th id=\"T_8a8e7b64_68f3_11ea_a6d8_0242ac110006level0_row55\" class=\"row_heading level0 row55\" >55</th> \n",
       "        <td id=\"T_8a8e7b64_68f3_11ea_a6d8_0242ac110006row55_col0\" class=\"data row55 col0\" >-51.3</td> \n",
       "        <td id=\"T_8a8e7b64_68f3_11ea_a6d8_0242ac110006row55_col1\" class=\"data row55 col1\" >[-70.60997]</td> \n",
       "    </tr>    <tr> \n",
       "        <th id=\"T_8a8e7b64_68f3_11ea_a6d8_0242ac110006level0_row56\" class=\"row_heading level0 row56\" >56</th> \n",
       "        <td id=\"T_8a8e7b64_68f3_11ea_a6d8_0242ac110006row56_col0\" class=\"data row56 col0\" >-46.0632</td> \n",
       "        <td id=\"T_8a8e7b64_68f3_11ea_a6d8_0242ac110006row56_col1\" class=\"data row56 col1\" >[-70.60997]</td> \n",
       "    </tr>    <tr> \n",
       "        <th id=\"T_8a8e7b64_68f3_11ea_a6d8_0242ac110006level0_row57\" class=\"row_heading level0 row57\" >57</th> \n",
       "        <td id=\"T_8a8e7b64_68f3_11ea_a6d8_0242ac110006row57_col0\" class=\"data row57 col0\" >-41.2262</td> \n",
       "        <td id=\"T_8a8e7b64_68f3_11ea_a6d8_0242ac110006row57_col1\" class=\"data row57 col1\" >[-70.60997]</td> \n",
       "    </tr>    <tr> \n",
       "        <th id=\"T_8a8e7b64_68f3_11ea_a6d8_0242ac110006level0_row58\" class=\"row_heading level0 row58\" >58</th> \n",
       "        <td id=\"T_8a8e7b64_68f3_11ea_a6d8_0242ac110006row58_col0\" class=\"data row58 col0\" >-36.5655</td> \n",
       "        <td id=\"T_8a8e7b64_68f3_11ea_a6d8_0242ac110006row58_col1\" class=\"data row58 col1\" >[-70.60997]</td> \n",
       "    </tr>    <tr> \n",
       "        <th id=\"T_8a8e7b64_68f3_11ea_a6d8_0242ac110006level0_row59\" class=\"row_heading level0 row59\" >59</th> \n",
       "        <td id=\"T_8a8e7b64_68f3_11ea_a6d8_0242ac110006row59_col0\" class=\"data row59 col0\" >-31.9712</td> \n",
       "        <td id=\"T_8a8e7b64_68f3_11ea_a6d8_0242ac110006row59_col1\" class=\"data row59 col1\" >[-70.60997]</td> \n",
       "    </tr>    <tr> \n",
       "        <th id=\"T_8a8e7b64_68f3_11ea_a6d8_0242ac110006level0_row60\" class=\"row_heading level0 row60\" >60</th> \n",
       "        <td id=\"T_8a8e7b64_68f3_11ea_a6d8_0242ac110006row60_col0\" class=\"data row60 col0\" >-27.6506</td> \n",
       "        <td id=\"T_8a8e7b64_68f3_11ea_a6d8_0242ac110006row60_col1\" class=\"data row60 col1\" >[-70.60997]</td> \n",
       "    </tr>    <tr> \n",
       "        <th id=\"T_8a8e7b64_68f3_11ea_a6d8_0242ac110006level0_row61\" class=\"row_heading level0 row61\" >61</th> \n",
       "        <td id=\"T_8a8e7b64_68f3_11ea_a6d8_0242ac110006row61_col0\" class=\"data row61 col0\" >-23.5622</td> \n",
       "        <td id=\"T_8a8e7b64_68f3_11ea_a6d8_0242ac110006row61_col1\" class=\"data row61 col1\" >[-70.60997]</td> \n",
       "    </tr>    <tr> \n",
       "        <th id=\"T_8a8e7b64_68f3_11ea_a6d8_0242ac110006level0_row62\" class=\"row_heading level0 row62\" >62</th> \n",
       "        <td id=\"T_8a8e7b64_68f3_11ea_a6d8_0242ac110006row62_col0\" class=\"data row62 col0\" >-20.0726</td> \n",
       "        <td id=\"T_8a8e7b64_68f3_11ea_a6d8_0242ac110006row62_col1\" class=\"data row62 col1\" >[-70.60997]</td> \n",
       "    </tr>    <tr> \n",
       "        <th id=\"T_8a8e7b64_68f3_11ea_a6d8_0242ac110006level0_row63\" class=\"row_heading level0 row63\" >63</th> \n",
       "        <td id=\"T_8a8e7b64_68f3_11ea_a6d8_0242ac110006row63_col0\" class=\"data row63 col0\" >-16.8202</td> \n",
       "        <td id=\"T_8a8e7b64_68f3_11ea_a6d8_0242ac110006row63_col1\" class=\"data row63 col1\" >[-70.60997]</td> \n",
       "    </tr>    <tr> \n",
       "        <th id=\"T_8a8e7b64_68f3_11ea_a6d8_0242ac110006level0_row64\" class=\"row_heading level0 row64\" >64</th> \n",
       "        <td id=\"T_8a8e7b64_68f3_11ea_a6d8_0242ac110006row64_col0\" class=\"data row64 col0\" >-13.9708</td> \n",
       "        <td id=\"T_8a8e7b64_68f3_11ea_a6d8_0242ac110006row64_col1\" class=\"data row64 col1\" >[-70.60997]</td> \n",
       "    </tr>    <tr> \n",
       "        <th id=\"T_8a8e7b64_68f3_11ea_a6d8_0242ac110006level0_row65\" class=\"row_heading level0 row65\" >65</th> \n",
       "        <td id=\"T_8a8e7b64_68f3_11ea_a6d8_0242ac110006row65_col0\" class=\"data row65 col0\" >-11.5768</td> \n",
       "        <td id=\"T_8a8e7b64_68f3_11ea_a6d8_0242ac110006row65_col1\" class=\"data row65 col1\" >[-70.60997]</td> \n",
       "    </tr>    <tr> \n",
       "        <th id=\"T_8a8e7b64_68f3_11ea_a6d8_0242ac110006level0_row66\" class=\"row_heading level0 row66\" >66</th> \n",
       "        <td id=\"T_8a8e7b64_68f3_11ea_a6d8_0242ac110006row66_col0\" class=\"data row66 col0\" >-9.50559</td> \n",
       "        <td id=\"T_8a8e7b64_68f3_11ea_a6d8_0242ac110006row66_col1\" class=\"data row66 col1\" >[-70.60997]</td> \n",
       "    </tr>    <tr> \n",
       "        <th id=\"T_8a8e7b64_68f3_11ea_a6d8_0242ac110006level0_row67\" class=\"row_heading level0 row67\" >67</th> \n",
       "        <td id=\"T_8a8e7b64_68f3_11ea_a6d8_0242ac110006row67_col0\" class=\"data row67 col0\" >-7.87768</td> \n",
       "        <td id=\"T_8a8e7b64_68f3_11ea_a6d8_0242ac110006row67_col1\" class=\"data row67 col1\" >[-70.60997]</td> \n",
       "    </tr>    <tr> \n",
       "        <th id=\"T_8a8e7b64_68f3_11ea_a6d8_0242ac110006level0_row68\" class=\"row_heading level0 row68\" >68</th> \n",
       "        <td id=\"T_8a8e7b64_68f3_11ea_a6d8_0242ac110006row68_col0\" class=\"data row68 col0\" >-6.41872</td> \n",
       "        <td id=\"T_8a8e7b64_68f3_11ea_a6d8_0242ac110006row68_col1\" class=\"data row68 col1\" >[-70.60997]</td> \n",
       "    </tr>    <tr> \n",
       "        <th id=\"T_8a8e7b64_68f3_11ea_a6d8_0242ac110006level0_row69\" class=\"row_heading level0 row69\" >69</th> \n",
       "        <td id=\"T_8a8e7b64_68f3_11ea_a6d8_0242ac110006row69_col0\" class=\"data row69 col0\" >-5.25873</td> \n",
       "        <td id=\"T_8a8e7b64_68f3_11ea_a6d8_0242ac110006row69_col1\" class=\"data row69 col1\" >[-70.60997]</td> \n",
       "    </tr>    <tr> \n",
       "        <th id=\"T_8a8e7b64_68f3_11ea_a6d8_0242ac110006level0_row70\" class=\"row_heading level0 row70\" >70</th> \n",
       "        <td id=\"T_8a8e7b64_68f3_11ea_a6d8_0242ac110006row70_col0\" class=\"data row70 col0\" >-4.58015</td> \n",
       "        <td id=\"T_8a8e7b64_68f3_11ea_a6d8_0242ac110006row70_col1\" class=\"data row70 col1\" >[-70.60997]</td> \n",
       "    </tr>    <tr> \n",
       "        <th id=\"T_8a8e7b64_68f3_11ea_a6d8_0242ac110006level0_row71\" class=\"row_heading level0 row71\" >71</th> \n",
       "        <td id=\"T_8a8e7b64_68f3_11ea_a6d8_0242ac110006row71_col0\" class=\"data row71 col0\" >-4.12525</td> \n",
       "        <td id=\"T_8a8e7b64_68f3_11ea_a6d8_0242ac110006row71_col1\" class=\"data row71 col1\" >[-70.60997]</td> \n",
       "    </tr>    <tr> \n",
       "        <th id=\"T_8a8e7b64_68f3_11ea_a6d8_0242ac110006level0_row72\" class=\"row_heading level0 row72\" >72</th> \n",
       "        <td id=\"T_8a8e7b64_68f3_11ea_a6d8_0242ac110006row72_col0\" class=\"data row72 col0\" >-3.74832</td> \n",
       "        <td id=\"T_8a8e7b64_68f3_11ea_a6d8_0242ac110006row72_col1\" class=\"data row72 col1\" >[-70.60997]</td> \n",
       "    </tr>    <tr> \n",
       "        <th id=\"T_8a8e7b64_68f3_11ea_a6d8_0242ac110006level0_row73\" class=\"row_heading level0 row73\" >73</th> \n",
       "        <td id=\"T_8a8e7b64_68f3_11ea_a6d8_0242ac110006row73_col0\" class=\"data row73 col0\" >-3.88444</td> \n",
       "        <td id=\"T_8a8e7b64_68f3_11ea_a6d8_0242ac110006row73_col1\" class=\"data row73 col1\" >[-70.60997]</td> \n",
       "    </tr>    <tr> \n",
       "        <th id=\"T_8a8e7b64_68f3_11ea_a6d8_0242ac110006level0_row74\" class=\"row_heading level0 row74\" >74</th> \n",
       "        <td id=\"T_8a8e7b64_68f3_11ea_a6d8_0242ac110006row74_col0\" class=\"data row74 col0\" >-4.11823</td> \n",
       "        <td id=\"T_8a8e7b64_68f3_11ea_a6d8_0242ac110006row74_col1\" class=\"data row74 col1\" >[-70.60997]</td> \n",
       "    </tr>    <tr> \n",
       "        <th id=\"T_8a8e7b64_68f3_11ea_a6d8_0242ac110006level0_row75\" class=\"row_heading level0 row75\" >75</th> \n",
       "        <td id=\"T_8a8e7b64_68f3_11ea_a6d8_0242ac110006row75_col0\" class=\"data row75 col0\" >-4.98616</td> \n",
       "        <td id=\"T_8a8e7b64_68f3_11ea_a6d8_0242ac110006row75_col1\" class=\"data row75 col1\" >[-70.60997]</td> \n",
       "    </tr>    <tr> \n",
       "        <th id=\"T_8a8e7b64_68f3_11ea_a6d8_0242ac110006level0_row76\" class=\"row_heading level0 row76\" >76</th> \n",
       "        <td id=\"T_8a8e7b64_68f3_11ea_a6d8_0242ac110006row76_col0\" class=\"data row76 col0\" >-5.60572</td> \n",
       "        <td id=\"T_8a8e7b64_68f3_11ea_a6d8_0242ac110006row76_col1\" class=\"data row76 col1\" >[-70.60997]</td> \n",
       "    </tr>    <tr> \n",
       "        <th id=\"T_8a8e7b64_68f3_11ea_a6d8_0242ac110006level0_row77\" class=\"row_heading level0 row77\" >77</th> \n",
       "        <td id=\"T_8a8e7b64_68f3_11ea_a6d8_0242ac110006row77_col0\" class=\"data row77 col0\" >-6.68926</td> \n",
       "        <td id=\"T_8a8e7b64_68f3_11ea_a6d8_0242ac110006row77_col1\" class=\"data row77 col1\" >[-70.60997]</td> \n",
       "    </tr>    <tr> \n",
       "        <th id=\"T_8a8e7b64_68f3_11ea_a6d8_0242ac110006level0_row78\" class=\"row_heading level0 row78\" >78</th> \n",
       "        <td id=\"T_8a8e7b64_68f3_11ea_a6d8_0242ac110006row78_col0\" class=\"data row78 col0\" >-7.99222</td> \n",
       "        <td id=\"T_8a8e7b64_68f3_11ea_a6d8_0242ac110006row78_col1\" class=\"data row78 col1\" >[-70.60997]</td> \n",
       "    </tr>    <tr> \n",
       "        <th id=\"T_8a8e7b64_68f3_11ea_a6d8_0242ac110006level0_row79\" class=\"row_heading level0 row79\" >79</th> \n",
       "        <td id=\"T_8a8e7b64_68f3_11ea_a6d8_0242ac110006row79_col0\" class=\"data row79 col0\" >-10.3656</td> \n",
       "        <td id=\"T_8a8e7b64_68f3_11ea_a6d8_0242ac110006row79_col1\" class=\"data row79 col1\" >[-70.60997]</td> \n",
       "    </tr>    <tr> \n",
       "        <th id=\"T_8a8e7b64_68f3_11ea_a6d8_0242ac110006level0_row80\" class=\"row_heading level0 row80\" >80</th> \n",
       "        <td id=\"T_8a8e7b64_68f3_11ea_a6d8_0242ac110006row80_col0\" class=\"data row80 col0\" >-13.3798</td> \n",
       "        <td id=\"T_8a8e7b64_68f3_11ea_a6d8_0242ac110006row80_col1\" class=\"data row80 col1\" >[-70.60997]</td> \n",
       "    </tr>    <tr> \n",
       "        <th id=\"T_8a8e7b64_68f3_11ea_a6d8_0242ac110006level0_row81\" class=\"row_heading level0 row81\" >81</th> \n",
       "        <td id=\"T_8a8e7b64_68f3_11ea_a6d8_0242ac110006row81_col0\" class=\"data row81 col0\" >-16.0515</td> \n",
       "        <td id=\"T_8a8e7b64_68f3_11ea_a6d8_0242ac110006row81_col1\" class=\"data row81 col1\" >[-70.60997]</td> \n",
       "    </tr>    <tr> \n",
       "        <th id=\"T_8a8e7b64_68f3_11ea_a6d8_0242ac110006level0_row82\" class=\"row_heading level0 row82\" >82</th> \n",
       "        <td id=\"T_8a8e7b64_68f3_11ea_a6d8_0242ac110006row82_col0\" class=\"data row82 col0\" >-8.4371</td> \n",
       "        <td id=\"T_8a8e7b64_68f3_11ea_a6d8_0242ac110006row82_col1\" class=\"data row82 col1\" >[-70.60997]</td> \n",
       "    </tr>    <tr> \n",
       "        <th id=\"T_8a8e7b64_68f3_11ea_a6d8_0242ac110006level0_row83\" class=\"row_heading level0 row83\" >83</th> \n",
       "        <td id=\"T_8a8e7b64_68f3_11ea_a6d8_0242ac110006row83_col0\" class=\"data row83 col0\" >-19.362</td> \n",
       "        <td id=\"T_8a8e7b64_68f3_11ea_a6d8_0242ac110006row83_col1\" class=\"data row83 col1\" >[-70.60997]</td> \n",
       "    </tr>    <tr> \n",
       "        <th id=\"T_8a8e7b64_68f3_11ea_a6d8_0242ac110006level0_row84\" class=\"row_heading level0 row84\" >84</th> \n",
       "        <td id=\"T_8a8e7b64_68f3_11ea_a6d8_0242ac110006row84_col0\" class=\"data row84 col0\" >-100</td> \n",
       "        <td id=\"T_8a8e7b64_68f3_11ea_a6d8_0242ac110006row84_col1\" class=\"data row84 col1\" >[-70.60997]</td> \n",
       "    </tr></tbody> \n",
       "</table> "
      ],
      "text/plain": [
       "<pandas.io.formats.style.Styler at 0x7fdd615d7ba8>"
      ]
     },
     "execution_count": 42,
     "metadata": {},
     "output_type": "execute_result"
    }
   ],
   "source": [
    "experience_df[[\"Gt\",\"Value\"]].style.background_gradient(cmap='viridis')"
   ]
  },
  {
   "cell_type": "markdown",
   "metadata": {},
   "source": [
    "### Why so unstable?!"
   ]
  },
  {
   "cell_type": "markdown",
   "metadata": {},
   "source": [
    "There is a problem in the learning. the [learning](#dqn_learn) section shows, in line 15 and 19. We are getting the target value of the network from the same network! There are two problems with it"
   ]
  },
  {
   "cell_type": "markdown",
   "metadata": {},
   "source": [
    "- For normal neural network training , the target is fixed. But in this case the target itself is moving!!! Suppose , if we are trying to catch a cow. If the cow is fixed in a position, it is easier to catch it. But if the cow starts moving with our every step, then it is harder !\n",
    "- Another problem is overestimation! Suppose, if Q network gives a bad future state a good value. As the Q(next_state) is the target, the model will try to learn the weights such that  it gives the future states bad value! So there is a chance of always giving ***bad states*** good values and not learning at all!"
   ]
  },
  {
   "cell_type": "markdown",
   "metadata": {},
   "source": [
    "#### So the solution? Add target Network!!!"
   ]
  },
  {
   "cell_type": "markdown",
   "metadata": {},
   "source": [
    "<a id=\"dqn_with_target\"></a>\n",
    "### DQN with Target Network"
   ]
  },
  {
   "cell_type": "markdown",
   "metadata": {},
   "source": [
    "***but wait! lets make the learning code a function for future use!***"
   ]
  },
  {
   "cell_type": "code",
   "execution_count": 43,
   "metadata": {},
   "outputs": [],
   "source": [
    "def train_agent(agent,env,target_folder,eps_start=eps_start,eps_decay=eps_decay,eps_end=eps_end,gamma=gamma,n_episodes=n_episodes,max_t=max_t):\n",
    "    \"\"\"Deep Q-Learning.\n",
    "\n",
    "    Params\n",
    "    ======\n",
    "        n_episodes (int): maximum number of training episodes\n",
    "        max_t (int): maximum number of timesteps per episode\n",
    "        eps_start (float): starting value of epsilon, for epsilon-greedy action selection\n",
    "        eps_end (float): minimum value of epsilon\n",
    "        eps_decay (float): multiplicative factor (per episode) for decreasing epsilon\n",
    "    \"\"\"\n",
    "    scores = []                        # list containing scores from each episode\n",
    "    scores_window = deque(maxlen=100)  # last 100 scores\n",
    "    eps = eps_start                    # initialize epsilon\n",
    "    for i_episode in range(1, n_episodes+1):\n",
    "\n",
    "        state = env.reset()\n",
    "        score = 0\n",
    "        for t in range(max_t):\n",
    "            action = agent.act(state, eps)\n",
    "            next_state, reward, done, _ = env.step(action)\n",
    "\n",
    "            agent.step(state, action, reward, next_state,done)\n",
    "            state = next_state\n",
    "            score += reward\n",
    "            if done:\n",
    "                break \n",
    "        scores_window.append(score)       # save most recent score\n",
    "        scores.append(score)              # save most recent score\n",
    "        eps = max(eps_end, eps_decay*eps) # decrease epsilon\n",
    "        print('\\rEpisode {}\\tAverage Score: {:.2f}'.format(i_episode, np.mean(scores_window)), end=\"\")\n",
    "        if i_episode%10==0:\n",
    "            torch.save(agent.qnetwork_local.state_dict(),\"{}/dqn_agent{}.pkl\".format(target_folder,i_episode))\n",
    "        if i_episode % 100 == 0:\n",
    "            print('\\rEpisode {}\\tAverage Score: {:.2f}'.format(i_episode, np.mean(scores_window)))\n",
    "        if np.mean(scores_window)>=200.0:\n",
    "            print('\\nEnvironment solved in {:d} episodes!\\tAverage Score: {:.2f}'.format(i_episode-100, np.mean(scores_window)))\n",
    "    return scores"
   ]
  },
  {
   "cell_type": "markdown",
   "metadata": {},
   "source": [
    "Let's initialize a target network"
   ]
  },
  {
   "cell_type": "code",
   "execution_count": 52,
   "metadata": {},
   "outputs": [],
   "source": [
    "agent.qnetwork_target = QNetwork(state_size=state_shape,action_size=action_size,seed=0).to(device)"
   ]
  },
  {
   "cell_type": "markdown",
   "metadata": {},
   "source": [
    "let's change the ```learn``` method, notice, I am changing only the line ```15``` and I am adding new method ```soft_update``` to update the target network"
   ]
  },
  {
   "cell_type": "code",
   "execution_count": 45,
   "metadata": {},
   "outputs": [],
   "source": [
    "def learn(self, experiences, gamma):\n",
    "    \"\"\"Update value parameters using given batch of experience tuples.\n",
    "\n",
    "    Params\n",
    "    ======\n",
    "        experiences (Tuple[torch.Tensor]): tuple of (s, a, r, s', done) tuples \n",
    "        gamma (float): discount factor\n",
    "    \"\"\"\n",
    "    states, actions, rewards, next_states, dones = experiences\n",
    "\n",
    "\n",
    "    \"*** YOUR CODE HERE ***\"\n",
    "    ### My code starts###\n",
    "    maxQ1=torch.max(self.qnetwork_target(next_states),0)[0]\n",
    "    maxQ2=torch.max(self.qnetwork_target(next_states),1)[0]\n",
    "    maxQ=maxQ2.reshape(-1,1)\n",
    "\n",
    "\n",
    "    y=rewards+gamma*torch.max(maxQ,1)[0]*(1-dones)\n",
    "\n",
    "    loss=F.mse_loss(y,self.qnetwork_local(states).gather(1,actions))\n",
    "    self.optimizer.zero_grad()\n",
    "    loss.backward()\n",
    "    self.optimizer.step()\n",
    "    self.soft_update(self.qnetwork_local, self.qnetwork_target, TAU)                     \n",
    "\n",
    "def soft_update(self, local_model, target_model, tau):\n",
    "    \"\"\"Soft update model parameters.\n",
    "    θ_target = τ*θ_local + (1 - τ)*θ_target\n",
    "\n",
    "    Params\n",
    "    ======\n",
    "        local_model (PyTorch model): weights will be copied from\n",
    "        target_model (PyTorch model): weights will be copied to\n",
    "        tau (float): interpolation parameter \n",
    "    \"\"\"\n",
    "    for target_param, local_param in zip(target_model.parameters(), local_model.parameters()):\n",
    "        target_param.data.copy_(tau*local_param.data + (1.0-tau)*target_param.data)"
   ]
  },
  {
   "cell_type": "code",
   "execution_count": 46,
   "metadata": {},
   "outputs": [],
   "source": [
    "Agent.learn=learn"
   ]
  },
  {
   "cell_type": "code",
   "execution_count": 47,
   "metadata": {},
   "outputs": [],
   "source": [
    "Agent.soft_update=soft_update"
   ]
  },
  {
   "cell_type": "markdown",
   "metadata": {},
   "source": [
    "***so let's start learning again!***"
   ]
  },
  {
   "cell_type": "markdown",
   "metadata": {},
   "source": [
    "Initializing the agent"
   ]
  },
  {
   "cell_type": "code",
   "execution_count": 51,
   "metadata": {},
   "outputs": [],
   "source": [
    "agent.__init__(state_size=state_shape,action_size=action_size,seed=0)"
   ]
  },
  {
   "cell_type": "code",
   "execution_count": 53,
   "metadata": {},
   "outputs": [
    {
     "name": "stdout",
     "output_type": "stream",
     "text": [
      "Episode 100\tAverage Score: -169.63\n",
      "Episode 200\tAverage Score: -143.38\n",
      "Episode 300\tAverage Score: -139.81\n",
      "Episode 400\tAverage Score: -169.21\n",
      "Episode 500\tAverage Score: -149.34\n",
      "Episode 600\tAverage Score: -124.22\n",
      "Episode 700\tAverage Score: -120.15\n",
      "Episode 800\tAverage Score: -68.99\n",
      "Episode 900\tAverage Score: -72.74\n",
      "Episode 1000\tAverage Score: -107.78\n"
     ]
    }
   ],
   "source": [
    "scores=train_agent(agent,env,\"dqn_with_target\")"
   ]
  },
  {
   "cell_type": "code",
   "execution_count": 54,
   "metadata": {},
   "outputs": [
    {
     "data": {
      "image/png": "[encoded data removed]",
      "text/plain": [
       "<Figure size 432x288 with 1 Axes>"
      ]
     },
     "metadata": {
      "needs_background": "light"
     },
     "output_type": "display_data"
    }
   ],
   "source": [
    "plot_scores(scores)"
   ]
  },
  {
   "cell_type": "markdown",
   "metadata": {},
   "source": [
    "Above one looks better than the dqn without result. But still unstable"
   ]
  },
  {
   "cell_type": "code",
   "execution_count": 55,
   "metadata": {},
   "outputs": [],
   "source": [
    "scores_np_dqn_with_target=np.array(scores)\n",
    "np.savetxt(\"dqn_with_target/scores.txt\",scores_np_dqn_with_target)"
   ]
  },
  {
   "cell_type": "markdown",
   "metadata": {},
   "source": [
    "Let's plot both scores together"
   ]
  },
  {
   "cell_type": "code",
   "execution_count": 59,
   "metadata": {},
   "outputs": [
    {
     "data": {
      "text/plain": [
       "Text(0.5, 1.0, 'DQN')"
      ]
     },
     "execution_count": 59,
     "metadata": {},
     "output_type": "execute_result"
    },
    {
     "data": {
      "image/png": "[encoded data removed]",
      "text/plain": [
       "<Figure size 432x288 with 1 Axes>"
      ]
     },
     "metadata": {
      "needs_background": "light"
     },
     "output_type": "display_data"
    }
   ],
   "source": [
    "plt.figure()\n",
    "scores_ma_no_target=moving_average(scores_np,n=100)\n",
    "scores_ma_with_target=moving_average(scores_np_dqn_with_target,n=100)\n",
    "plt.plot(np.arange(len(scores_ma_no_target)), scores_ma_no_target,label=\"Without target\")\n",
    "plt.plot(np.arange(len(scores_ma_with_target)), scores_ma_with_target,label=\"With target\")\n",
    "plt.ylabel('Score')\n",
    "plt.xlabel('Episode')\n",
    "plt.legend()\n",
    "plt.title(\"DQN\")\n"
   ]
  },
  {
   "cell_type": "markdown",
   "metadata": {},
   "source": [
    "***Stability improved , but not enough!!***"
   ]
  },
  {
   "cell_type": "markdown",
   "metadata": {},
   "source": [
    "***Let's think again!*** Target network improves the stability slightly. But can we do more?! Obviously! Follow the next article, ***Double Deep Q Network***"
   ]
  }
 ],
 "metadata": {
  "kernelspec": {
   "display_name": "Python 3",
   "language": "python",
   "name": "python3"
  },
  "language_info": {
   "codemirror_mode": {
    "name": "ipython",
    "version": 3
   },
   "file_extension": ".py",
   "mimetype": "text/x-python",
   "name": "python",
   "nbconvert_exporter": "python",
   "pygments_lexer": "ipython3",
   "version": "3.6.5"
  }
 },
 "nbformat": 4,
 "nbformat_minor": 2
}
